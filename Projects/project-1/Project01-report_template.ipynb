{
 "cells": [
  {
   "cell_type": "markdown",
   "id": "15186c57",
   "metadata": {
    "id": "nH6nOcUY1Cu_"
   },
   "source": [
    "# Project 01: (your project name here)\n",
    "**Name:** (your name here)"
   ]
  },
  {
   "cell_type": "markdown",
   "id": "9c19db75",
   "metadata": {},
   "source": [
    "*(See the Project 01 Instructions & Assessment Guidelines for expectations regarding the structure of the main body of your report.)*"
   ]
  },
  {
   "cell_type": "markdown",
   "id": "be525b21",
   "metadata": {},
   "source": []
  },
  {
   "cell_type": "code",
   "execution_count": null,
   "id": "77c911e8",
   "metadata": {},
   "outputs": [],
   "source": []
  },
  {
   "cell_type": "markdown",
   "id": "10503a9e",
   "metadata": {},
   "source": []
  },
  {
   "cell_type": "code",
   "execution_count": null,
   "id": "156d22c9",
   "metadata": {},
   "outputs": [],
   "source": []
  },
  {
   "cell_type": "markdown",
   "id": "8173a754",
   "metadata": {},
   "source": []
  },
  {
   "cell_type": "code",
   "execution_count": null,
   "id": "f8a068d3",
   "metadata": {},
   "outputs": [],
   "source": []
  },
  {
   "cell_type": "markdown",
   "id": "7b7ad625",
   "metadata": {},
   "source": []
  },
  {
   "cell_type": "code",
   "execution_count": null,
   "id": "4d129a40",
   "metadata": {},
   "outputs": [],
   "source": []
  },
  {
   "cell_type": "markdown",
   "id": "cc4fd83e",
   "metadata": {},
   "source": [
    "## Acknowledgements\n",
    "_(This section is where you acknowledge any help or support that you received in completing your project. It must include a statement regarding if and how Generative AI or other help was used in completing your project.)_"
   ]
  },
  {
   "cell_type": "markdown",
   "id": "634b3f2b",
   "metadata": {},
   "source": [
    "## References\n",
    "_(In addition to citations for any python packages used beyond our standard ones, list the sources for any data or literature cited in your project. Additionally, you must also cite the sources for any code that you found on the internet or from peers.)_"
   ]
  },
  {
   "cell_type": "markdown",
   "id": "59b8b5ec",
   "metadata": {},
   "source": []
  },
  {
   "cell_type": "markdown",
   "id": "1ab19a06",
   "metadata": {},
   "source": [
    "## Appendix 1: Code validation"
   ]
  },
  {
   "cell_type": "markdown",
   "id": "176e4800",
   "metadata": {},
   "source": [
    "### A1.1: Comparison of simulation results with by-hand calculations"
   ]
  },
  {
   "cell_type": "markdown",
   "id": "6c823ba3",
   "metadata": {},
   "source": []
  },
  {
   "cell_type": "code",
   "execution_count": null,
   "id": "24da6190",
   "metadata": {},
   "outputs": [],
   "source": []
  },
  {
   "cell_type": "markdown",
   "id": "d4c4f662",
   "metadata": {},
   "source": [
    "### A1.2: "
   ]
  },
  {
   "cell_type": "markdown",
   "id": "4d88bf59",
   "metadata": {},
   "source": []
  },
  {
   "cell_type": "code",
   "execution_count": null,
   "id": "e4dbcbf4",
   "metadata": {},
   "outputs": [],
   "source": []
  },
  {
   "cell_type": "markdown",
   "id": "54572ea0",
   "metadata": {},
   "source": [
    "### A1.3: "
   ]
  },
  {
   "cell_type": "markdown",
   "id": "070af37f",
   "metadata": {},
   "source": []
  },
  {
   "cell_type": "code",
   "execution_count": null,
   "id": "93223c54",
   "metadata": {},
   "outputs": [],
   "source": []
  },
  {
   "cell_type": "markdown",
   "id": "a9934015",
   "metadata": {},
   "source": [
    "## Appendix 2: Reflection questions"
   ]
  },
  {
   "cell_type": "markdown",
   "id": "0191f112",
   "metadata": {
    "id": "KDMMZNoEZYcS"
   },
   "source": [
    "### Reflection 1: Coding Approaches (A)\n",
    "*(How well did you apply and extend your coding knowledge in this project? Consider steps you took to make the code more efficient, readable and/or concise. Discuss any new-to-you coding techniques, functions or python packages that you learned how to use. Reflect on any unforeseen coding challenges you faced in completing this project.)*"
   ]
  },
  {
   "cell_type": "markdown",
   "id": "7723b77a",
   "metadata": {},
   "source": []
  },
  {
   "cell_type": "markdown",
   "id": "c57c51b8",
   "metadata": {
    "id": "KDMMZNoEZYcS"
   },
   "source": [
    "### Reflection 2: Coding Approaches (B)\n",
    "*(Highlight an aspect of your code that you feel you did particularily well. Discuss an aspect of your code that would benefit the most from further effort.)*"
   ]
  },
  {
   "cell_type": "markdown",
   "id": "eac87064",
   "metadata": {},
   "source": []
  },
  {
   "cell_type": "markdown",
   "id": "c3e23ab1",
   "metadata": {
    "id": "64uFXa5xM3SK"
   },
   "source": [
    "### Reflection 3: Simulation phyiscs and investigation (A)\n",
    "*(How well did you apply and extend your physical modelling and scientific investigation skills in this project? Consider the phase space you chose to explore and how throroughly you explored it. Consider how you translated physics into code and if appropriate any new physics you learned or developed a more thorough understanding of.)*"
   ]
  },
  {
   "cell_type": "markdown",
   "id": "0f45b779",
   "metadata": {},
   "source": []
  },
  {
   "cell_type": "markdown",
   "id": "5dbf6a65",
   "metadata": {
    "id": "64uFXa5xM3SK"
   },
   "source": [
    "### Reflection 4: Simulation phyiscs and investigation (B)\n",
    "*(Highlight something you feel you did particularily well in terms of the context of your simulation, the physical modelling that you did or the investigation you performed. Discuss an aspect of these dimensions of your project that would benefit the most from further effort.)*"
   ]
  },
  {
   "cell_type": "markdown",
   "id": "9cbafd90",
   "metadata": {},
   "source": []
  },
  {
   "cell_type": "markdown",
   "id": "88f88b9b",
   "metadata": {
    "id": "64uFXa5xM3SK"
   },
   "source": [
    "### Reflection 5: Effectiveness of your communication\n",
    "*(Highlight something you feel you did particularily well in your visualizations or written communication. Discuss an aspect of your visualizations or written communication that would benefit the most from further effort.)*"
   ]
  },
  {
   "cell_type": "markdown",
   "id": "529ea551",
   "metadata": {},
   "source": []
  }
 ],
 "metadata": {
  "kernelspec": {
   "display_name": "Python 3 (ipykernel)",
   "language": "python",
   "name": "python3"
  }
 },
 "nbformat": 4,
 "nbformat_minor": 5
}
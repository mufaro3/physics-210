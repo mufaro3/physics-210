{
 "cells": [
  {
   "cell_type": "markdown",
   "id": "865a4bcb",
   "metadata": {},
   "source": [
    "# Physics 210 Project 1: \"How can colliding with the slime planet save the spaceship from a black hole?\""
   ]
  },
  {
   "cell_type": "markdown",
   "id": "33903f8e",
   "metadata": {},
   "source": [
    "**Name:** Mufaro Joseph Machaya"
   ]
  },
  {
   "cell_type": "markdown",
   "id": "0d028cd1",
   "metadata": {},
   "source": [
    "## Introduction"
   ]
  },
  {
   "cell_type": "markdown",
   "id": "5c0b1f95",
   "metadata": {},
   "source": [
    "**Research Question:** Given a three-body system containing a black hole (with a mass $M$), a small planet made of JELL-O-like slime (with mass $m_p$), and a spaceship (with mass $m_s$) accidentally headed directly for the black hole, the only way for the spaceship to avoid being sucked into the black hole is to turn into and collide (inelastically) with the planet such that it is successfully rebounded with a velocity high enough to escape the gravitational pull of the black hole. However, if it hits the planet with too much impulse during the collision, it'll be destroyed by the planet (it's made out of JELL-O, so it has surface tension). \n",
    "\n",
    "*With what range of initial velocities and what turn radius/time allow the ship to successfully avoid being sucked into the black hole without being destroyed by the planet?*"
   ]
  },
  {
   "cell_type": "markdown",
   "id": "6743bdf6",
   "metadata": {},
   "source": [
    "### Physics Model and Assumptions"
   ]
  },
  {
   "cell_type": "markdown",
   "id": "0ee701f0",
   "metadata": {},
   "source": [
    "**Model**\n",
    "\n",
    "1. $n$-Body System, Gravitational Vector Field\n",
    "\n",
    "Each of the three objects are modeled individually as point-masses. Each object produces gravitational effects on all other objects by formula\n",
    "\n",
    "$$\\vec{F}_g = G \\frac{m_1 m_2}{|\\vec{r}|^2} \\hat{r}.$$\n",
    "\n",
    "From there, basic kinematic equations apply:\n",
    "\n",
    "$$\\frac{d^2 \\vec{x}}{dt^2} = \\frac{\\sum F}{m}.$$\n",
    "\n",
    "The system is modeled in only two dimensions rather than three (but all equations apply for each dimension)\n",
    "\n",
    "2. Spaceship Turning\n",
    "\n",
    "The ship will need to perform a turn of angle $\\theta$ to have a proper head-on collision. This will require the ship to apply thrust to perform the turn, but this turn will require a certain amount of energy. Let's assume that the ship starts with a certain amount of fuel on board (but it will require fuel to accelerate/deccelerate during its journey).\n",
    "\n",
    "3. Inelastic Jello Collision\n",
    "\n",
    "The force from interacting with a gel-like substance will be modeled using a hunt-crossley algorithm with optional adhesion and a plastic offset, i.e.,\n",
    "\n",
    "- Contact when the overlap distance $\\delta > 0$, and the force for each frame is $$F_N = k \\delta^n + \\alpha \\delta^n \\frac{d \\delta}{dt},$$ with $n=\\frac{3}{2}$ for spherical geometry (and $\\delta = R_1 + R_2 - |\\vec{r}_1 - \\vec{r}_2|$)"
   ]
  },
  {
   "cell_type": "markdown",
   "id": "79b3bd7c",
   "metadata": {},
   "source": [
    "**Assumptions**\n",
    "\n",
    "1. $m_s < m_p <<< M$: The mass of the black hole is so much larger than the mass of the planet and ship that the black hole is taken to be stationary.\n",
    "2. This model assumes no relativistic effects whatsoever (due to all speeds $v$ being much lower than the speed of light $c$.\n",
    "3. The ship is presumed to instantaneously make a full $180^\\circ$ turn immediately after its collision."
   ]
  },
  {
   "cell_type": "code",
   "execution_count": null,
   "id": "414de288",
   "metadata": {
    "lines_to_next_cell": 1
   },
   "outputs": [],
   "source": [
    "import numpy as np\n",
    "from matplotlib import pyplot as plt\n",
    "from dataclasses import dataclass"
   ]
  },
  {
   "cell_type": "code",
   "execution_count": null,
   "id": "473f4fbc",
   "metadata": {
    "lines_to_next_cell": 1
   },
   "outputs": [],
   "source": [
    "@dataclass\n",
    "class RigidBody:\n",
    "    mass: float\n",
    "    color: str\n",
    "    name: str\n",
    "\n",
    "    stationary: bool = False \n",
    "    track:      bool = False\n",
    "    \n",
    "    initial_position:     float = 0\n",
    "    initial_velocity:     float = 0\n",
    "    initial_acceleration: float = 0\n",
    "    \n",
    "    time:         np.array = None\n",
    "    position:     np.array = None\n",
    "    velocity:     np.array = None\n",
    "    acceleration: np.array = None\n",
    "    energy:       np.array = None\n",
    "    momentum:     np.array = None\n",
    "    \n",
    "    def init(self, n):\n",
    "        self.position     = np.zeros(n)\n",
    "        self.velocity     = np.zeros(n)\n",
    "        self.acceleration = np.zeros(n)\n",
    "        self.energy       = np.zeros(n)\n",
    "        self.momentum     = np.zeros(n)\n",
    "        \n",
    "        self.position[0]     = self.initial_position\n",
    "        self.velocity[0]     = self.initial_velocity\n",
    "        self.acceleration[0] = self.initial_acceleration\n",
    "        \n",
    "    def __hash__(self):\n",
    "        return hash(self.name)\n",
    "        \n",
    "    def distance_to(self, other_body, i):\n",
    "        return np.sqrt(np.sum((self.position[i] - other_body.position[i])**2))\n",
    "\n",
    "    def collided_with(self, other_body, collision_radius, i):\n",
    "        return self.distance_to(other_body, i) <= collision_radius\n",
    "    \n",
    "    def near_barrier(self, bottom_barrier, top_barrier, collision_radius, i):\n",
    "        return \\\n",
    "            abs(self.position[i] - bottom_barrier) <= collision_radius or \\\n",
    "            abs(self.position[i] - top_barrier) <= collision_radius"
   ]
  },
  {
   "cell_type": "code",
   "execution_count": null,
   "id": "7cd2ab5a",
   "metadata": {
    "lines_to_next_cell": 1
   },
   "outputs": [],
   "source": [
    "def apply_gravitational_field(i, body, objects):\n",
    "    if body.stationary:\n",
    "        return\n",
    "    \n",
    "    other_objects = [x for x in objects if x is not body]"
   ]
  },
  {
   "cell_type": "code",
   "execution_count": null,
   "id": "697753f3",
   "metadata": {
    "lines_to_next_cell": 1
   },
   "outputs": [],
   "source": [
    "def simulate(objects, time_range, dt, \n",
    "             collision_radius=0.1, \n",
    "             bottom_barrier=-10, \n",
    "             top_barrier=10):\n",
    "    time = np.arange(time_range[0], time_range[1], dt)\n",
    "    total_frames = np.size(time)\n",
    "    collisions = set()\n",
    "    \n",
    "    for body in objects:\n",
    "        body.init(total_frames)\n",
    "    \n",
    "    for i in range(1, total_frames):\n",
    "        # update positions\n",
    "        for body in objects:\n",
    "            if body.stationary = True:\n",
    "                continue\n",
    "            \n",
    "            body.position[i] = body.position[i-1] + body.velocity[i-1]     * dt\n",
    "            body.velocity[i] = body.velocity[i-1] + body.acceleration[i-1] * dt\n",
    "            body.acceleration[i] = apply_gravitational_field(i, body, objects)\n",
    "        \n",
    "        # detect collisions\n",
    "        to_invert = set()\n",
    "        \n",
    "        for first_body_idx, body in enumerate(objects):\n",
    "            for other_body in objects[first_body_idx+1:]:\n",
    "                if body.collided_with(other_body, collision_radius, i):\n",
    "                    collisions.add((time[i], body.position[i]))\n",
    "                    to_invert.add(body)\n",
    "                    to_invert.add(other_body)\n",
    "                    \n",
    "        for body in objects:\n",
    "            if body.near_barrier(bottom_barrier, top_barrier, collision_radius, i):\n",
    "                to_invert.add(body)\n",
    "        \n",
    "        for body in to_invert:\n",
    "            body.velocity[i] *= -1\n",
    "            \n",
    "    # ending calculations\n",
    "    for body in objects:\n",
    "        body.momentum = body.mass * abs(body.velocity)\n",
    "        body.energy = (1/2) * body.mass * body.velocity ** 2\n",
    "        \n",
    "    # transpose collisions\n",
    "    collisions = np.array(list(zip(*collisions)))\n",
    "        \n",
    "    return time, collisions"
   ]
  },
  {
   "cell_type": "code",
   "execution_count": null,
   "id": "522bdc34",
   "metadata": {
    "lines_to_next_cell": 1
   },
   "outputs": [],
   "source": [
    "def plot_results(objects, time, collisions):\n",
    "    fig, axs = plt.subplots(4,1, sharex=True, figsize=(8,8))\n",
    "\n",
    "    # position\n",
    "    for body in objects:\n",
    "        axs[0].plot(time, body.position, \n",
    "                    color=body.color, \n",
    "                    label=body.name,\n",
    "                    linestyle='dashed')\n",
    "    axs[0].scatter(collisions[0], collisions[1], label='Collisions')\n",
    "    axs[0].axhline(y=10, color='black', label='Top Barrier')\n",
    "    axs[0].axhline(y=-10, color='black', label='Bottom Barrier')\n",
    "    axs[0].set_ylabel('Position\\n(m)')\n",
    "    axs[0].set_title('Position vs. Time')\n",
    "    axs[0].legend()\n",
    "\n",
    "    # velocity\n",
    "    for body in objects:\n",
    "        axs[1].plot(time, body.velocity, \n",
    "                    color=body.color, \n",
    "                    label=body.name)\n",
    "    axs[1].set_ylabel('Velocity\\n(m/s)')\n",
    "    axs[1].set_title('Velocity vs. Time')\n",
    "    axs[1].legend()\n",
    "\n",
    "    # kinetic energy\n",
    "    total_energy = np.zeros_like(time)\n",
    "    for body in objects:\n",
    "        axs[2].plot(time, body.energy * 1e3, \n",
    "                    color=body.color, \n",
    "                    label=body.name)\n",
    "        total_energy = total_energy + body.energy\n",
    "    axs[2].plot(time, total_energy * 1e3, color='green', label='Total Kinetic Energy')\n",
    "    axs[2].set_ylabel('Kinetic Energy\\n(mJ)')\n",
    "    axs[2].set_title('Kinetic Energy vs. Time')\n",
    "    axs[2].legend()\n",
    "\n",
    "    # momentum\n",
    "    total_momentum = np.zeros_like(time)\n",
    "    for body in objects:\n",
    "        axs[3].plot(time, body.momentum * 1e2, \n",
    "                    color=body.color, \n",
    "                    label=body.name)\n",
    "        total_momentum = total_momentum + body.momentum\n",
    "    axs[3].plot(time, total_momentum * 1e2, color='green', label='Total Momentum')\n",
    "    axs[3].set_xlabel('Time (s)')\n",
    "    axs[3].set_ylabel('Momentum\\n(kg*m/s*10^2)')\n",
    "    axs[3].set_title('Momentum vs. Time')\n",
    "    axs[3].legend()\n",
    "\n",
    "    plt.show()\n",
    "\n",
    "def simulate_and_plot(objects, time_range, dt):\n",
    "    time, collisions = simulate(objects, time_range, dt)\n",
    "    plot_results(objects, time, collisions)"
   ]
  },
  {
   "cell_type": "code",
   "execution_count": null,
   "id": "60fc9bca",
   "metadata": {},
   "outputs": [],
   "source": [
    "black_hole=RigidBody(\n",
    "    mass  = 0.1,\n",
    "    color = 'black',\n",
    "    name  = 'Black Hole'\n",
    ")\n",
    "\n",
    "space_ship=RigidBody(\n",
    "    mass  = \n",
    "    color = ''\n",
    "    name  = ''\n",
    ")"
   ]
  },
  {
   "cell_type": "markdown",
   "id": "887a691e",
   "metadata": {},
   "source": [
    "Given $\\rho_{sl}$, the density of slime (just assumed based on some calculations I nabbed off Reddit) and $r_{\\sl}$, the radius of the slime planet (which I'll probably approximate to be the size of our Moon), we can determine the mass of the planet for gravitational pull reasons."
   ]
  },
  {
   "cell_type": "code",
   "execution_count": null,
   "id": "16fceee6",
   "metadata": {},
   "outputs": [],
   "source": [
    "\n",
    "SLIME_DENSITY=1.048 # g/cm^3\n",
    "SLIME_PLANET_RADIUS=1737.4 # km\n",
    "\n",
    "slime_planet=RigidBody(\n",
    "    mass  =  \n",
    ")"
   ]
  }
 ],
 "metadata": {
  "kernelspec": {
   "display_name": "Python 3 (ipykernel)",
   "language": "python",
   "name": "python3"
  }
 },
 "nbformat": 4,
 "nbformat_minor": 5
}
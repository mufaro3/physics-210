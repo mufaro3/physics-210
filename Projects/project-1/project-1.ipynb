{
 "cells": [
  {
   "cell_type": "markdown",
   "id": "e8378818",
   "metadata": {},
   "source": [
    "# Physics 210 Project 1: \"How can colliding with the slime planet save the spaceship from a black hole?\""
   ]
  },
  {
   "cell_type": "markdown",
   "id": "810c1677",
   "metadata": {},
   "source": [
    "**Name:** Mufaro Joseph Machaya"
   ]
  },
  {
   "cell_type": "markdown",
   "id": "64d11a49",
   "metadata": {},
   "source": [
    "## Introduction"
   ]
  },
  {
   "cell_type": "markdown",
   "id": "6ec45504",
   "metadata": {},
   "source": [
    "**Context:** Given a three-body system containing a black hole (with a mass $M$), a small planet made of JELL-O-like slime (with mass $m_p$), and a spaceship (with mass $m_s$) accidentally headed directly for the black hole, the only way for the spaceship to avoid being sucked into the black hole is to turn into and collide (inelastically) with the planet such that it is successfully rebounded with a velocity high enough to escape the gravitational pull of the black hole. However, if it hits the planet with too much impulse during the collision, it'll be destroyed by the planet (it's made out of JELL-O, so it has surface tension). \n",
    "\n",
    "**Research Question:** *With what range of initial velocities and what turn radius/time allow the ship to successfully avoid being sucked into the black hole without being destroyed by the planet?*"
   ]
  },
  {
   "cell_type": "markdown",
   "id": "956f35b2",
   "metadata": {},
   "source": [
    "### Physics Model and Assumptions"
   ]
  },
  {
   "cell_type": "markdown",
   "id": "7c2b92f4",
   "metadata": {},
   "source": [
    "**Model**\n",
    "\n",
    "1. $n$-Body System, Gravitational Vector Field\n",
    "\n",
    "Each of the three objects are modeled individually as point-masses. Each object produces gravitational effects on all other objects by formula\n",
    "\n",
    "$${\\bf F}_g = G \\frac{m_1 m_2}{|{\\bf r}|^2} \\hat{r}.$$\n",
    "\n",
    "From there, basic kinematic equations apply:\n",
    "\n",
    "$$\\frac{d^2 \\bf{x}}{dt^2} = \\frac{\\sum \\bf F}{m}.$$\n",
    "\n",
    "The system is modeled in only two dimensions rather than three (but all equations apply for each dimension)\n",
    "\n",
    "2. Spaceship Turning\n",
    "\n",
    "The ship will need to perform a turn of angle $\\theta$ to have a proper head-on collision. This will require the ship to apply thrust to perform the turn, but this turn will require a certain amount of energy. Let's assume that the ship starts with a certain amount of fuel on board (but it will require fuel to accelerate/deccelerate during its journey).\n",
    "\n",
    "The ship turns with thrust\n",
    "\n",
    "$${\\bf T} = {\\bf v} \\frac{dm}{dt}$$\n",
    "\n",
    "3. Inelastic Jello Collision\n",
    "\n",
    "The force from interacting with a gel-like substance will be modeled using a hunt-crossley algorithm with optional adhesion and a plastic offset, i.e.,\n",
    "\n",
    "- Contact when the overlap distance $\\delta > 0$, and the force for each frame is $$F_N = k \\delta^n + \\alpha \\delta^n \\frac{d \\delta}{dt},$$ with $n=\\frac{3}{2}$ for spherical geometry (and $\\delta = R_1 + R_2 - |\\vec{r}_1 - \\vec{r}_2|$)\n",
    "\n",
    "4. Propagation by Fuel\n",
    "\n",
    "The ship requires fuel to run."
   ]
  },
  {
   "cell_type": "markdown",
   "id": "be5e6c12",
   "metadata": {},
   "source": [
    "**Additional Physics**\n",
    "\n",
    "This system includes an inelastic collision, a gravitational vector field, and thrust equations. "
   ]
  },
  {
   "cell_type": "markdown",
   "id": "15144c56",
   "metadata": {},
   "source": [
    "**Assumptions**\n",
    "\n",
    "1. $m_s < m_p <<< M$: The mass of the black hole is so much larger than the mass of the planet and ship that the black hole is taken to be stationary.\n",
    "2. This model assumes no relativistic effects whatsoever (due to all speeds $v$ being much lower than the speed of light $c$.\n",
    "3. The ship is presumed to instantaneously make a full $180^\\circ$ turn immediately after its collision."
   ]
  },
  {
   "cell_type": "code",
   "execution_count": null,
   "id": "6ca4832f",
   "metadata": {},
   "outputs": [],
   "source": [
    "import numpy as np\n",
    "from matplotlib import pyplot as plt\n",
    "from dataclasses import dataclass\n",
    "from copy import deepcopy"
   ]
  },
  {
   "cell_type": "markdown",
   "id": "c97d2ee7",
   "metadata": {},
   "source": [
    "**Code Block Summary:** This code block implements in the rigid and soft bodies used for simulation. `RigidBody`-ies come with an assumption of being a point-mass, so they don't hold a radius (or any other size), but they're the base object in this simulation, with tracker arrays for each of various simulation variables tied to the object (like position, velocity, acceleration, and whatnot)."
   ]
  },
  {
   "cell_type": "code",
   "execution_count": null,
   "id": "0f87133d",
   "metadata": {},
   "outputs": [],
   "source": [
    "@dataclass\n",
    "class RigidBody:\n",
    "    initial_position:     float = 0\n",
    "    initial_velocity:     float = 0\n",
    "    initial_acceleration: float = 0\n",
    "    \n",
    "    mass:  float = 1\n",
    "    color: str   = None\n",
    "    name:  str   = None\n",
    "\n",
    "    stationary: bool = False \n",
    "    \n",
    "    position:     np.array = None\n",
    "    velocity:     np.array = None\n",
    "    acceleration: np.array = None\n",
    "    energy:       np.array = None\n",
    "    momentum:     np.array = None\n",
    "    \n",
    "    def init(self, n):\n",
    "        self.position     = np.zeros(n)\n",
    "        self.velocity     = np.zeros(n)\n",
    "        self.acceleration = np.zeros(n)\n",
    "        self.energy       = np.zeros(n)\n",
    "        self.momentum     = np.zeros(n)\n",
    "        \n",
    "        self.position[0]     = self.initial_position\n",
    "        self.velocity[0]     = self.initial_velocity\n",
    "        self.acceleration[0] = self.initial_acceleration\n",
    "        \n",
    "    def __hash__(self):\n",
    "        return hash(self.name)\n",
    "        \n",
    "    def distance_vec(self, other_body, i):\n",
    "        return self.position[i] - other_body.position[i]\n",
    "\n",
    "    def collided_with(self, other_body, collision_radius, i):\n",
    "        return np.linalg.norm(self.distance_vec(other_body, i)) <= collision_radius\n",
    "    \n",
    "    def near_barrier(self, bottom_barrier, top_barrier, collision_radius, i):\n",
    "        return \\\n",
    "            abs(self.position[i] - bottom_barrier) <= collision_radius or \\\n",
    "            abs(self.position[i] - top_barrier) <= collision_radius\n",
    "    \n",
    "@dataclass\n",
    "class Spaceship(RigidBody):\n",
    "    remaining_fuel_mass: float\n",
    "    \n",
    "@dataclass\n",
    "class SoftBody(RigidBody):\n",
    "    radius:          float = 0\n",
    "    stiffness:       float = 0\n",
    "    growth_exponent: float = 0\n",
    "    damping_coeff:   float = 0"
   ]
  },
  {
   "cell_type": "markdown",
   "id": "82506e24",
   "metadata": {},
   "source": [
    "**Code Block Summary:** This is where the thrust calculations come in. The space ship has a certain amount of fuel, `remaining_fuel_mass`, in kilograms of burnable fuel (which is approximately reliably converted into energy at a set rate). The instantaneous thrust force produced is\n",
    "$${\\bf F}_{thrust}(t) = T(t) \\hat{\\bf u}(t),$$\n",
    "where $T(t)$ is the magnitude of thrust at $t$ and $\\hat{\\bf u}(t)$ is the direction of thrust. The magnitude of thrust for a given $t$ is\n",
    "$$T(t) = | \\frac{dm}{dt}_{fuel}(t) | {\\bf v}_{ex},$$\n",
    "where ${\\bf v}_ex$ is the exhaust velocity given by\n",
    "$${\\bf v}_{ex} = I_{sp} g_0$$\n",
    "where $I_sp$ is the specific impulse [1](https://en.wikipedia.org/wiki/Specific_impulse) and $g_0$ is the standard gravity [2](https://en.wikipedia.org/wiki/Standard_gravity)."
   ]
  },
  {
   "cell_type": "code",
   "execution_count": null,
   "id": "93d63fd2",
   "metadata": {},
   "outputs": [],
   "source": [
    "def calculate_thrust(ship, dt):\n",
    "    ship.thrust_dir = ship.thust_dir / np.lingalg.norm(ship.thrust_dir)\n",
    "    thrust_mag = np.max(0, body.desired_thrust_mag)\n",
    "    \n",
    "    if thrust_mag <= 0:\n",
    "        return np.zeros_like(body.thrust_dir), 0.0\n",
    "    \n",
    "    exhaust_velocity = specific_impulse"
   ]
  },
  {
   "cell_type": "markdown",
   "id": "3e94df76",
   "metadata": {},
   "source": [
    "**Code Block Summary:** This is where the net force calculation occurs, from each `body` to all other bodies in the simulation. This is calculated by first determining the amount gravity with\n",
    "$$\\sum {\\bf F}_g = m \\sum G \\frac{m_o}{|{\\bf r}|^2} \\hat{r}$$\n",
    "for each object with mass $m$ to each other object with mass $o$, given a radial distance $\\bf r$ between them. Then, there's the additional consideration of normal force during the inelastic collision between the spaceship and the slime planet (in the case that it happens) by equation\n",
    "$$F_N = k \\delta^n + \\alpha \\delta^n \\frac{d \\delta}{dt},$$ with $n=\\frac{3}{2}$ for spherical geometry (and $\\delta = R_1 + R_2 - |\\vec{r}_1 - \\vec{r}_2|$)."
   ]
  },
  {
   "cell_type": "code",
   "execution_count": null,
   "id": "52714594",
   "metadata": {},
   "outputs": [],
   "source": [
    "GRAVITATIONAL_CONSTANT = 6.6743e-11\n",
    "\n",
    "def calculate_net_force(i, body, objects, dt):\n",
    "    if body.stationary:\n",
    "        return\n",
    "    \n",
    "    other_objects = [x for x in objects if x is not body]\n",
    "    \n",
    "    vshape = np.shape(body.acceleration[i - 1])\n",
    "    \n",
    "    total_force = np.zeroes(vshape)\n",
    "    \n",
    "    gravitational_force = np.zeros(vshape)\n",
    "    normal_force = np.zeros(vshape)\n",
    "    \n",
    "    for other in other_objects:\n",
    "        displacement = self.distance_vec(other, i - 1)\n",
    "        distance     = np.linalg.norm(radius)\n",
    "        direction    = displacement / distance\n",
    "        \n",
    "        gravitational_force = gravitational_force + \\\n",
    "            (GRAVITATIONAL_CONSTANT * body.mass * \\\n",
    "             other.mass * direction) / distance ** 2\n",
    "        total_force += gravitational_force\n",
    "        \n",
    "        if isinstance(other, SoftBody) and self.collided_with(other):\n",
    "            # assume this object has 0 radius because\n",
    "            # of pointlike approximations\n",
    "            delta = other.radius - distance\n",
    "            if delta > 0:\n",
    "                relative_velocity = body.velocity[i-1] - other.velocity[i-1]\n",
    "                delta_deriv = -np.dot(relative_velocity, direction)\n",
    "                normal_force_mag = other.stiffness * delta ** other.growth_exponent + \\ \n",
    "                    other.damping_coeff * delta ** other.growth_exponent * delta_deriv\n",
    "                \n",
    "                normal_force += normal_force_mag * direction\n",
    "                total_force += normal_force\n",
    "        \n",
    "    if isinstance(body, Spaceship):\n",
    "        ship = body\n",
    "        thrust_force, fuel_used = calculate_thrust(ship, dt)\n",
    "        ship.fuel -= fuel_used\n",
    "        total_force += thrust_force\n",
    "        \n",
    "    return total_force"
   ]
  },
  {
   "cell_type": "code",
   "execution_count": null,
   "id": "ed1af243",
   "metadata": {},
   "outputs": [],
   "source": [
    "def simulate(objects, time_range, dt, \n",
    "             collision_radius=0.1, \n",
    "             bottom_barrier=-10, \n",
    "             top_barrier=10):\n",
    "    time = np.arange(time_range[0], time_range[1], dt)\n",
    "    total_frames = np.size(time)\n",
    "    collisions = set()\n",
    "    \n",
    "    for body in objects:\n",
    "        body.init(total_frames)\n",
    "    \n",
    "    for i in range(1, total_frames):\n",
    "        # update positions\n",
    "        for body in objects:\n",
    "            if body.stationary is True:\n",
    "                continue\n",
    "            \n",
    "            body.position[i] = body.position[i-1] + body.velocity[i-1]     * dt\n",
    "            body.velocity[i] = body.velocity[i-1] + body.acceleration[i-1] * dt\n",
    "            body.acceleration[i] = calculate_acceleration(i, body, objects)\n",
    "        \n",
    "        # detect collisions\n",
    "        to_invert = set()\n",
    "        \n",
    "        for first_body_idx, body in enumerate(objects):\n",
    "            for other_body in objects[first_body_idx+1:]:\n",
    "                if body.collided_with(other_body, collision_radius, i):\n",
    "                    collisions.add((time[i], body.position[i]))\n",
    "                    to_invert.add(body)\n",
    "                    to_invert.add(other_body)\n",
    "                    \n",
    "        for body in objects:\n",
    "            if body.near_barrier(bottom_barrier, top_barrier, collision_radius, i):\n",
    "                to_invert.add(body)\n",
    "        \n",
    "        for body in to_invert:\n",
    "            body.velocity[i] *= -1\n",
    "            \n",
    "    # ending calculations\n",
    "    for body in objects:\n",
    "        body.momentum = body.mass * abs(body.velocity)\n",
    "        body.energy = (1/2) * body.mass * body.velocity ** 2\n",
    "        \n",
    "    # transpose collisions\n",
    "    collisions = np.array(list(zip(*collisions)))\n",
    "        \n",
    "    return time, collisions"
   ]
  },
  {
   "cell_type": "markdown",
   "id": "8fa573f9",
   "metadata": {},
   "source": [
    "**Code Block Summary:** This block plots all of the results "
   ]
  },
  {
   "cell_type": "code",
   "execution_count": null,
   "id": "c8697eb0",
   "metadata": {},
   "outputs": [],
   "source": [
    "def plot_results(objects, time, collisions):\n",
    "    fig, axs = plt.subplots(4,1, sharex=True, figsize=(8,8))\n",
    "\n",
    "    # position\n",
    "    for body in objects:\n",
    "        axs[0].plot(time, body.position, \n",
    "                    color=body.color, \n",
    "                    label=body.name,\n",
    "                    linestyle='dashed')\n",
    "    axs[0].scatter(collisions[0], collisions[1], label='Collisions')\n",
    "    axs[0].axhline(y=10, color='black', label='Top Barrier')\n",
    "    axs[0].axhline(y=-10, color='black', label='Bottom Barrier')\n",
    "    axs[0].set_ylabel('Position\\n(m)')\n",
    "    axs[0].set_title('Position vs. Time')\n",
    "    axs[0].legend()\n",
    "\n",
    "    # velocity\n",
    "    for body in objects:\n",
    "        axs[1].plot(time, body.velocity, \n",
    "                    color=body.color, \n",
    "                    label=body.name)\n",
    "    axs[1].set_ylabel('Velocity\\n(m/s)')\n",
    "    axs[1].set_title('Velocity vs. Time')\n",
    "    axs[1].legend()\n",
    "\n",
    "    # kinetic energy\n",
    "    total_energy = np.zeros_like(time)\n",
    "    for body in objects:\n",
    "        axs[2].plot(time, body.energy * 1e3, \n",
    "                    color=body.color, \n",
    "                    label=body.name)\n",
    "        total_energy = total_energy + body.energy\n",
    "    axs[2].plot(time, total_energy * 1e3, color='green', label='Total Kinetic Energy')\n",
    "    axs[2].set_ylabel('Kinetic Energy\\n(mJ)')\n",
    "    axs[2].set_title('Kinetic Energy vs. Time')\n",
    "    axs[2].legend()\n",
    "\n",
    "    # momentum\n",
    "    total_momentum = np.zeros_like(time)\n",
    "    for body in objects:\n",
    "        axs[3].plot(time, body.momentum * 1e2, \n",
    "                    color=body.color, \n",
    "                    label=body.name)\n",
    "        total_momentum = total_momentum + body.momentum\n",
    "    axs[3].plot(time, total_momentum * 1e2, color='green', label='Total Momentum')\n",
    "    axs[3].set_xlabel('Time (s)')\n",
    "    axs[3].set_ylabel('Momentum\\n(kg*m/s*10^2)')\n",
    "    axs[3].set_title('Momentum vs. Time')\n",
    "    axs[3].legend()\n",
    "\n",
    "    plt.show()"
   ]
  },
  {
   "cell_type": "markdown",
   "id": "6cff59c3",
   "metadata": {},
   "source": [
    "**Code Block Summary**"
   ]
  },
  {
   "cell_type": "code",
   "execution_count": null,
   "id": "3b970636",
   "metadata": {},
   "outputs": [],
   "source": [
    "def simulate_and_plot(objects, time_range, dt):\n",
    "    time, collisions = simulate(objects, time_range, dt)\n",
    "    plot_results(objects, time, collisions)"
   ]
  },
  {
   "attachments": {
    "image.png": {
     "image/png": "[encoded data removed]"
    }
   },
   "cell_type": "markdown",
   "id": "c4a10fa9",
   "metadata": {},
   "source": [
    "**Code Block Summary:** This code block sets up the basic conditions for each of the objects in our simulation. The situation at hand looks like the following:\n",
    "\n",
    "![image.png](attachment:image.png)\n",
    "\n",
    "(although, not to scale). *Note to self: remove the figure above! Not to end up in the final draft!!*"
   ]
  },
  {
   "cell_type": "markdown",
   "id": "1d0ffa2b",
   "metadata": {},
   "source": [
    "*TODO: ADD SECTION ON REALISTIC APPROXIMATIONS FOR THE FOLLOWING INITIAL VALUES:*"
   ]
  },
  {
   "cell_type": "code",
   "execution_count": null,
   "id": "46f7d5d0",
   "metadata": {},
   "outputs": [],
   "source": [
    "black_hole = RigidBody(\n",
    "    initial_position=(0,0),\n",
    "    mass=100\n",
    ")\n",
    "\n",
    "space_ship = Spaceship(\n",
    "    initial_position=(1,-1),\n",
    "    initial_velocity=()\n",
    "    remaining_fuel_mass=100\n",
    ")\n",
    "\n",
    "slime_planet = SoftBody(\n",
    "    radius          = 0,\n",
    "    stiffness       = 0,\n",
    "    growth_exponent = 3/2,\n",
    "    damping_coeff   = 0\n",
    ")"
   ]
  },
  {
   "cell_type": "code",
   "execution_count": null,
   "id": "1894afe8",
   "metadata": {},
   "outputs": [],
   "source": [
    "simulate_all(black_hole, space_ship, slime_planet, \n",
    "             angle_range=(-np.pi/2, np.pi/2),\n",
    "             speed_range=(100,1000),\n",
    "             time_range=(0, 100), dt=0.01)"
   ]
  },
  {
   "cell_type": "markdown",
   "id": "fc02a7c6",
   "metadata": {},
   "source": [
    "### Bibliography\n",
    "\n",
    "[1] https://en.wikipedia.org/wiki/Specific_impulse\n",
    "\n",
    "[2] https://en.wikipedia.org/wiki/Standard_gravity"
   ]
  },
  {
   "cell_type": "code",
   "execution_count": null,
   "id": "a378c222",
   "metadata": {},
   "outputs": [],
   "source": []
  }
 ],
 "metadata": {
  "kernelspec": {
   "display_name": "Python 3 (ipykernel)",
   "language": "python",
   "name": "python3"
  },
  "language_info": {
   "codemirror_mode": {
    "name": "ipython",
    "version": 3
   },
   "file_extension": ".py",
   "mimetype": "text/x-python",
   "name": "python",
   "nbconvert_exporter": "python",
   "pygments_lexer": "ipython3",
   "version": "3.11.2"
  }
 },
 "nbformat": 4,
 "nbformat_minor": 5
}

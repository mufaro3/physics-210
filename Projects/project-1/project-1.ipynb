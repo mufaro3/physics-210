{
 "cells": [
  {
   "cell_type": "markdown",
   "id": "e8378818",
   "metadata": {},
   "source": [
    "# Physics 210 Project 1: \"How can colliding with the slime planet save the spaceship from a black hole?\""
   ]
  },
  {
   "cell_type": "markdown",
   "id": "810c1677",
   "metadata": {},
   "source": [
    "**Name:** Mufaro Joseph Machaya"
   ]
  },
  {
   "cell_type": "markdown",
   "id": "64d11a49",
   "metadata": {},
   "source": [
    "## Introduction"
   ]
  },
  {
   "cell_type": "markdown",
   "id": "6ec45504",
   "metadata": {},
   "source": [
    "**Research Question:** Given a three-body system containing a black hole (with a mass $M$), a small planet made of JELL-O-like slime (with mass $m_p$), and a spaceship (with mass $m_s$) accidentally headed directly for the black hole, the only way for the spaceship to avoid being sucked into the black hole is to turn into and collide (inelastically) with the planet such that it is successfully rebounded with a velocity high enough to escape the gravitational pull of the black hole. However, if it hits the planet with too much impulse during the collision, it'll be destroyed by the planet (it's made out of JELL-O, so it has surface tension). \n",
    "\n",
    "*With what range of initial velocities and what turn radius/time allow the ship to successfully avoid being sucked into the black hole without being destroyed by the planet?*"
   ]
  },
  {
   "cell_type": "markdown",
   "id": "956f35b2",
   "metadata": {},
   "source": [
    "### Physics Model and Assumptions"
   ]
  },
  {
   "cell_type": "markdown",
   "id": "7c2b92f4",
   "metadata": {},
   "source": [
    "**Model**\n",
    "\n",
    "1. $n$-Body System, Gravitational Vector Field\n",
    "\n",
    "Each of the three objects are modeled individually as point-masses. Each object produces gravitational effects on all other objects by formula\n",
    "\n",
    "$$\\vec{F}_g = G \\frac{m_1 m_2}{|\\vec{r}|^2} \\hat{r}.$$\n",
    "\n",
    "From there, basic kinematic equations apply:\n",
    "\n",
    "$$\\frac{d^2 \\vec{x}}{dt^2} = \\frac{\\sum F}{m}.$$\n",
    "\n",
    "The system is modeled in only two dimensions rather than three (but all equations apply for each dimension)\n",
    "\n",
    "2. Spaceship Turning\n",
    "\n",
    "The ship will need to perform a turn of angle $\\theta$ to have a proper head-on collision. This will require the ship to apply thrust to perform the turn, but this turn will require a certain amount of energy. Let's assume that the ship starts with a certain amount of fuel on board (but it will require fuel to accelerate/deccelerate during its journey).\n",
    "\n",
    "3. Inelastic Jello Collision\n",
    "\n",
    "The force from interacting with a gel-like substance will be modeled using a hunt-crossley algorithm with optional adhesion and a plastic offset, i.e.,\n",
    "\n",
    "- Contact when the overlap distance $\\delta > 0$, and the force for each frame is $$F_N = k \\delta^n + \\alpha \\delta^n \\frac{d \\delta}{dt},$$ with $n=\\frac{3}{2}$ for spherical geometry (and $\\delta = R_1 + R_2 - |\\vec{r}_1 - \\vec{r}_2|$)"
   ]
  },
  {
   "cell_type": "markdown",
   "id": "15144c56",
   "metadata": {},
   "source": [
    "**Assumptions**\n",
    "\n",
    "1. $m_s < m_p <<< M$: The mass of the black hole is so much larger than the mass of the planet and ship that the black hole is taken to be stationary.\n",
    "2. This model assumes no relativistic effects whatsoever (due to all speeds $v$ being much lower than the speed of light $c$.\n",
    "3. The ship is presumed to instantaneously make a full $180^\\circ$ turn immediately after its collision."
   ]
  },
  {
   "cell_type": "code",
   "execution_count": null,
   "id": "52714594",
   "metadata": {},
   "outputs": [],
   "source": []
  }
 ],
 "metadata": {
  "kernelspec": {
   "display_name": "Python 3 (ipykernel)",
   "language": "python",
   "name": "python3"
  },
  "language_info": {
   "codemirror_mode": {
    "name": "ipython",
    "version": 3
   },
   "file_extension": ".py",
   "mimetype": "text/x-python",
   "name": "python",
   "nbconvert_exporter": "python",
   "pygments_lexer": "ipython3",
   "version": "3.11.2"
  }
 },
 "nbformat": 4,
 "nbformat_minor": 5
}

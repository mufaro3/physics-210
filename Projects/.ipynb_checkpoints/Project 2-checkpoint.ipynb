{
 "cells": [
  {
   "cell_type": "markdown",
   "id": "03a78727",
   "metadata": {},
   "source": [
    "# Project 2: How do perturbations to initial turning angle and electron density affect orbital stability?"
   ]
  },
  {
   "cell_type": "markdown",
   "id": "3596d40d",
   "metadata": {},
   "source": [
    "## Introduction"
   ]
  },
  {
   "cell_type": "markdown",
   "id": "7e469da6",
   "metadata": {},
   "source": [
    "The purpose of this project is to explore the orbital stability as a function of minor angular interference on a singular electron in $n$-Body systems with a fixed nucleus. The orbital stability of the system is defined as the average absolute standard deviation of the orbital distance of all electrons in the system over an angular period (that being, in the time that it takes the electron to reach the same angle with respect to the nucleus, how much does the distance that electron travels deviate on average). More stable systems will minimize this average deviation, and the value can be defined loosely from there."
   ]
  },
  {
   "cell_type": "code",
   "execution_count": 1,
   "id": "9fd6e829",
   "metadata": {},
   "outputs": [],
   "source": [
    "from numpy.testing import *\n",
    "import numpy as np\n",
    "from matplotlib import pyplot as plt\n",
    "import matplotlib as mpl\n",
    "from dataclasses import dataclass\n",
    "from scipy.integrate import solve_ivp"
   ]
  },
  {
   "cell_type": "code",
   "execution_count": 2,
   "id": "b191f5d7",
   "metadata": {},
   "outputs": [],
   "source": [
    "NUM_PERIODS=10\n",
    "\n",
    "# orbital radius of all of the electrons\n",
    "r0 = 5.29e-11\n",
    "\n",
    "# electron mass\n",
    "m = 9.1e-31\n",
    "\n",
    "# coulomb's constant\n",
    "k = 9e9\n",
    "\n",
    "# charge of an electron\n",
    "q = 1.6e-19\n",
    "\n",
    "# orbital velocity\n",
    "v0 = np.sqrt(k * q ** 2 / (m * r0)) * 10\n",
    "\n",
    "PERIOD = 2 * np.pi * r0 / v0"
   ]
  },
  {
   "cell_type": "code",
   "execution_count": 3,
   "id": "5609b791",
   "metadata": {},
   "outputs": [],
   "source": [
    "def rotate_vector_2d(vec, theta):\n",
    "    rotation_matrix = \\\n",
    "        np.array([[np.cos(theta), -np.sin(theta)],\n",
    "                  [np.sin(theta),  np.cos(theta)]])\n",
    "    return rotation_matrix @ vec\n",
    "\n",
    "def unit_vector(v):\n",
    "    return np.array(v) / np.linalg.norm(v)\n",
    "\n",
    "def magnitudes(vector_list):\n",
    "    return np.array([np.linalg.norm(vec) for vec in vector_list])\n",
    "\n",
    "def unit_vectors(s):\n",
    "    return np.array([unit_vector(v) for v in s])"
   ]
  },
  {
   "cell_type": "code",
   "execution_count": 4,
   "id": "f384418e",
   "metadata": {},
   "outputs": [
    {
     "name": "stdout",
     "output_type": "stream",
     "text": [
      "(Test) `rotate_vector_2d` successful\n",
      "(Test) `unit_vector` successful\n",
      "(Test) `magnitudes` successful\n"
     ]
    }
   ],
   "source": [
    "def test_rotate_vector_2d():\n",
    "    vec1 = np.array([1, 0])\n",
    "    answer1 = np.array([0, 1])\n",
    "    test1 = rotate_vector_2d(vec1, np.pi/2)\n",
    "    assert_allclose(test1, answer1, atol=1e-12)\n",
    "    print('(Test) `rotate_vector_2d` successful')\n",
    "\n",
    "test_rotate_vector_2d()\n",
    "\n",
    "def test_unit_vector():\n",
    "    v1 = np.array([1,0])\n",
    "    assert_allclose(unit_vector(v1), v1)\n",
    "    v2 = np.array([1,1])\n",
    "    assert_allclose(unit_vector(v2), v2/np.sqrt(2))\n",
    "    print('(Test) `unit_vector` successful')\n",
    "    \n",
    "test_unit_vector()\n",
    "\n",
    "def test_magnitudes():\n",
    "    vs = np.array([[1,0],[0,1],\n",
    "                   [1/np.sqrt(2),1/np.sqrt(2)],\n",
    "                   [4/np.sqrt(2),4/np.sqrt(2)]])\n",
    "    test = magnitudes(vs)\n",
    "    assert_allclose(test, np.array([1, 1, 1, 4]))\n",
    "    print('(Test) `magnitudes` successful')\n",
    "    \n",
    "test_magnitudes()"
   ]
  },
  {
   "cell_type": "code",
   "execution_count": 5,
   "id": "83793d5a",
   "metadata": {},
   "outputs": [],
   "source": [
    "def cartesian_to_polar(coords):\n",
    "    \"\"\"\n",
    "    Convert an array of 2D Cartesian coordinates to polar coordinates.\n",
    "    coords can be shape (2,) or (N, 2)\n",
    "    Returns an array of shape (2,) or (N, 2): [r, theta]\n",
    "    \"\"\"\n",
    "    coords = np.asarray(coords)\n",
    "\n",
    "    if coords.ndim == 1:\n",
    "        x, y = coords\n",
    "        r = np.sqrt(x**2 + y**2)\n",
    "        theta = np.arctan2(y, x)\n",
    "        return np.array([r, theta])\n",
    "\n",
    "    elif coords.ndim == 2 and coords.shape[1] == 2:\n",
    "        x = coords[:, 0]\n",
    "        y = coords[:, 1]\n",
    "        r = np.sqrt(x**2 + y**2)\n",
    "        theta = np.arctan2(y, x)\n",
    "        return np.column_stack((r, theta))\n",
    "\n",
    "    else:\n",
    "        raise ValueError(f\"Expected shape (2,) or (N,2), got {coords.shape}\")"
   ]
  },
  {
   "cell_type": "code",
   "execution_count": 6,
   "id": "f3a3f5f1",
   "metadata": {},
   "outputs": [
    {
     "name": "stdout",
     "output_type": "stream",
     "text": [
      "(Test) `cartesian_to_polar` successful\n"
     ]
    }
   ],
   "source": [
    "def test_cartesian_to_polar():\n",
    "    test1 = cartesian_to_polar([[ np.sqrt(2)/2, np.sqrt(2)/2 ], \n",
    "                                [ 1,            0            ],\n",
    "                                [ 0,            1            ]])\n",
    "    ideal1 = np.array([[ 1, np.pi/4 ], [ 1, 0 ], [ 1, np.pi/2 ]])\n",
    "    assert_allclose(test1, ideal1)\n",
    "    print('(Test) `cartesian_to_polar` successful')\n",
    "    \n",
    "test_cartesian_to_polar()"
   ]
  },
  {
   "cell_type": "code",
   "execution_count": 7,
   "id": "b2cc2044",
   "metadata": {},
   "outputs": [],
   "source": [
    "@dataclass\n",
    "class ElectronState:\n",
    "    pos: np.array = None\n",
    "    vel: np.array = None\n",
    "    \n",
    "def interpret_state(state):\n",
    "    pos = np.array(state[0:2])\n",
    "    vel = np.array(state[2:4])\n",
    "        \n",
    "    return ElectronState(pos, vel)\n",
    "\n",
    "def set_state_index(state, i, pos, vel):\n",
    "    base = 4 * i\n",
    "    state[base : base + 4] = [pos[0], pos[1], vel[0], vel[1]]\n",
    "    \n",
    "def get_state(state, i):\n",
    "    return state[4*i : 4*i + 4]\n",
    " \n",
    "def get_electron(state, i):\n",
    "    return interpret_state(get_state(state, i))"
   ]
  },
  {
   "cell_type": "code",
   "execution_count": null,
   "id": "cbc730c1",
   "metadata": {},
   "outputs": [],
   "source": [
    "def calculate_coulomb_force(distance_vec, attract=False):\n",
    "    mag = k * q ** 2 / np.linalg.norm(distance_vec) ** 3 * distance_vec\n",
    "        \n",
    "    # reverse direction if it's attractive\n",
    "    if attract:\n",
    "        return mag\n",
    "    else:\n",
    "        return mag * -1"
   ]
  },
  {
   "cell_type": "code",
   "execution_count": null,
   "id": "9bdf654d",
   "metadata": {},
   "outputs": [],
   "source": [
    "def test_calculate_coulomb_force():\n",
    "    # electron-electron\n",
    "    electron_pos = np.array([r0, 0])\n",
    "    proton_pos   = np.array([0,  0])"
   ]
  },
  {
   "cell_type": "code",
   "execution_count": 8,
   "id": "e56e3b3a",
   "metadata": {},
   "outputs": [
    {
     "name": "stdout",
     "output_type": "stream",
     "text": [
      "(Test) `interpret_state` successful\n",
      "(Test) `set_state_index` successful\n",
      "(Test) `get_state` successful\n",
      "(Test) `get_electron` successful\n"
     ]
    }
   ],
   "source": [
    "def test_interpret_state():\n",
    "    example_state = [ 1, 2, 3, 4 ]\n",
    "    interpretation = interpret_state(example_state)\n",
    "    assert_allclose(interpretation.pos, np.array([1, 2]))\n",
    "    assert_allclose(interpretation.vel, np.array([3, 4]))\n",
    "    print('(Test) `interpret_state` successful')\n",
    "    \n",
    "test_interpret_state()\n",
    "    \n",
    "def test_set_state_index():\n",
    "    example_state = np.zeros(12)\n",
    "    set_state_index(example_state, 1, np.array([1, 2]), np.array([3, 4]))\n",
    "    assert_allclose(example_state, np.array([0, 0, 0, 0, 1, 2, 3, 4, 0, 0, 0, 0]))\n",
    "    print('(Test) `set_state_index` successful')\n",
    "\n",
    "test_set_state_index()\n",
    "    \n",
    "def test_get_state():\n",
    "    example_state = np.array([0, 0, 0, 0, 1, 2, 3, 4, 0, 0, 0, 0])\n",
    "    test = get_state(example_state, 1)\n",
    "    assert_allclose(test, np.array([1, 2, 3, 4]))\n",
    "    print('(Test) `get_state` successful')\n",
    "    \n",
    "test_get_state()\n",
    "    \n",
    "def test_get_electron():\n",
    "    example_state = np.array([0, 0, 0, 0, 1, 2, 3, 4, 0, 0, 0, 0])\n",
    "    test = get_electron(example_state, 1)\n",
    "    assert_allclose(test.pos, np.array([1, 2]))\n",
    "    assert_allclose(test.vel, np.array([3, 4]))\n",
    "    print('(Test) `get_electron` successful')\n",
    "    \n",
    "test_get_electron()"
   ]
  },
  {
   "cell_type": "code",
   "execution_count": 9,
   "id": "858af846",
   "metadata": {},
   "outputs": [],
   "source": [
    "def generate_initial_state(n, incidence_angle=None):\n",
    "    \"\"\"\n",
    "    Produces the initial state to match the number \n",
    "    of electrons and the incidence angle\n",
    "    \"\"\"\n",
    "    state = np.zeros(4 * (n + 1))\n",
    "    dtheta = 2 * np.pi / (n + 1)\n",
    "    for i, theta in enumerate(np.linspace(0, 2 * np.pi, n + 1, endpoint=False)):\n",
    "        pos = r0 * np.array([ np.cos(theta), np.sin(theta)])\n",
    "        vel = v0 * np.array([-np.sin(theta), np.cos(theta)])\n",
    "        set_state_index(state, i, pos, vel)\n",
    "    \n",
    "    # apply an incidence angle to the interest electron \n",
    "    # (always at theta=0) if the user supplied one\n",
    "    if incidence_angle is not None:\n",
    "        vel = np.array(state[2:4])\n",
    "        rotated = rotate_vector_2d(vel, incidence_angle)\n",
    "        state[2] = rotated[0]\n",
    "        state[3] = rotated[1]\n",
    "        \n",
    "    return state"
   ]
  },
  {
   "cell_type": "code",
   "execution_count": 10,
   "id": "144760f3",
   "metadata": {},
   "outputs": [
    {
     "name": "stdout",
     "output_type": "stream",
     "text": [
      "(Test) `generate_initial_state` successful\n"
     ]
    }
   ],
   "source": [
    "def test_generate_initial_state():\n",
    "    trivial = generate_initial_state(0)\n",
    "    assert_allclose(trivial, np.array([r0, 0, 0, v0]))\n",
    "    incidence_angle = generate_initial_state(0, -np.pi/2)\n",
    "    assert_allclose(incidence_angle, np.array([r0, 0, v0, 0]), atol=1e-6)\n",
    "    print('(Test) `generate_initial_state` successful')\n",
    "    \n",
    "test_generate_initial_state()"
   ]
  },
  {
   "cell_type": "code",
   "execution_count": 11,
   "id": "33a24d8e",
   "metadata": {},
   "outputs": [],
   "source": [
    "def align_periods_by_angle(angular_positions, radial_positions, period_indices, tol=np.pi*1e-3):\n",
    "    # Split into separate periods\n",
    "    start_indices = np.concatenate(([0], period_indices + 1))\n",
    "    end_indices = np.concatenate((period_indices + 1, [len(angular_positions)]))\n",
    "    \n",
    "    angle_periods = [angular_positions[s:e] for s, e in zip(start_indices, end_indices)]\n",
    "    radius_periods = [radial_positions[s:e] for s, e in zip(start_indices, end_indices)]\n",
    "\n",
    "    # Choose the first period as the reference\n",
    "    ref_angles = angle_periods[0]\n",
    "    n_periods = len(angle_periods)\n",
    "    aligned_radii = np.full((n_periods, len(ref_angles)), np.nan)\n",
    "\n",
    "    # Fill aligned matrix\n",
    "    for i in range(n_periods):\n",
    "        for j, ref_angle in enumerate(ref_angles):\n",
    "            diff = np.abs(angle_periods[i] - ref_angle)\n",
    "            idx = np.where(diff < tol)[0]\n",
    "            if len(idx) > 0:\n",
    "                aligned_radii[i, j] = radius_periods[i][idx[0]]\n",
    "\n",
    "    return ref_angles, aligned_radii"
   ]
  },
  {
   "cell_type": "code",
   "execution_count": 12,
   "id": "af154b6a",
   "metadata": {},
   "outputs": [
    {
     "name": "stdout",
     "output_type": "stream",
     "text": [
      "Reference Angles: [0.    1.257 2.513 3.77  5.027]\n",
      "Aligned Radii:\n",
      " [[1.   1.25 1.5  1.75 2.  ]\n",
      " [ nan  nan 1.6   nan 2.1 ]\n",
      " [0.9   nan  nan  nan  nan]]\n"
     ]
    }
   ],
   "source": [
    "def test_align_periods_by_angle():\n",
    "    angles = np.concatenate([\n",
    "        np.linspace(0, 2*np.pi, 5, endpoint=False),\n",
    "        np.linspace(0, 2*np.pi, 5, endpoint=False) + np.random.uniform(-0.01, 0.01, 5),\n",
    "        np.linspace(0, 2*np.pi, 5, endpoint=False) + np.random.uniform(-0.01, 0.01, 5)\n",
    "    ])\n",
    "    \n",
    "    radii = np.concatenate([\n",
    "        np.linspace(1,   2,   5),\n",
    "        np.linspace(1.1, 2.1, 5),\n",
    "        np.linspace(0.9, 1.9, 5)\n",
    "    ])\n",
    "    \n",
    "    period_indices_auto   = np.where(np.diff(angles) < 0)[0]\n",
    "    period_indices_actual = np.array([4, 9])\n",
    "    \n",
    "    assert_allclose(period_indices_auto, period_indices_actual)\n",
    "    ref_angles, aligned_radii = align_periods_by_angle(angles, radii, period_indices_auto)\n",
    "\n",
    "    print(\"Reference Angles:\", np.round(ref_angles,    3))\n",
    "    print(\"Aligned Radii:\\n\",  np.round(aligned_radii, 2))\n",
    "    \n",
    "test_align_periods_by_angle()"
   ]
  },
  {
   "cell_type": "code",
   "execution_count": 13,
   "id": "1687fc72",
   "metadata": {},
   "outputs": [],
   "source": [
    "def calculate_period_deviation(angular_trajectory):\n",
    "    r     = angular_trajectory[:, 0]\n",
    "    theta = angular_trajectory[:, 1]\n",
    "    \n",
    "    # split into periods based on where the derivative of the angle goes from negative to positive\n",
    "    period_indices = np.where(np.diff(np.sign(np.sin(theta))) < 0)[0]\n",
    "    \n",
    "    if len(period_indices) < 2:\n",
    "        return 0\n",
    "    \n",
    "    deviations = []\n",
    "    for i in range(1, len(period_indices)):\n",
    "        start, end = period_indices[i-1], period_indices[i]\n",
    "        segment = r[start:end]\n",
    "        deviations.append(np.std(segment))\n",
    "        \n",
    "    return np.mean(deviations)"
   ]
  },
  {
   "cell_type": "code",
   "execution_count": 14,
   "id": "6a1a87ca",
   "metadata": {},
   "outputs": [],
   "source": [
    "def test_calculate_period_deviation():\n",
    "    angular_trajectory = np.array([\n",
    "        [ 1, 2/3,     1/3,     0.,        1/3,   2/3,       1,       1, 2/3-0.1, 1/3-0.2, 0.-0.3,    1/3-0.4, 2/3-0.5,   1-0.6    ],\n",
    "        [ 0, np.pi/4, np.pi/2, 3*np.pi/4, np.pi, 3*np.pi/2, 2*np.pi, 0, np.pi/4, np.pi/2, 3*np.pi/4, np.pi,   3*np.pi/2, 2*np.pi, ]\n",
    "    ])\n",
    "    test = calculate_period_deviation(angular_trajectory)\n",
    "    \n",
    "    radial_positions  = angular_trajectory[0]\n",
    "    angular_positions = angular_trajectory[1]\n",
    "    \n",
    "    period_indices = np.where(np.diff(angular_positions) < 0)[0]\n",
    "    \n",
    "    \n",
    "    #np.assert_equal(test, actual)\n",
    "    \n",
    "test_calculate_period_deviation()"
   ]
  },
  {
   "cell_type": "code",
   "execution_count": 15,
   "id": "9a62c1d9",
   "metadata": {},
   "outputs": [],
   "source": [
    "@dataclass\n",
    "class ElectronData:\n",
    "    pos:            np.array = None\n",
    "    radial_pos:     np.array = None\n",
    "    vel:            np.array = None\n",
    "    \n",
    "    kinetic_energy:   np.array = None\n",
    "    potential_energy: np.array = None\n",
    "    momentum:         np.array = None\n",
    "\n",
    "@dataclass\n",
    "class CalculationResult:\n",
    "    time:            np.array   = None\n",
    "    electrons:       list       = None\n",
    "    stability_score: np.float64 = -1\n",
    "    \n",
    "    total_kinetic_energy:    np.array = None\n",
    "    total_potential_energy:  np.array = None\n",
    "    total_mechanical_energy: np.array = None\n",
    "    total_momentum:          np.array = None\n",
    "\n",
    "def calculate(n, angle, num_periods=NUM_PERIODS, rtol=1e-9, atol=1e-9):\n",
    "    state0 = generate_initial_state(n, angle)\n",
    "    t_span = (0, num_periods * PERIOD)\n",
    "    n_electrons = n + 1\n",
    "\n",
    "    def diff_eqns(t, state):\n",
    "        # state is a flat 1D array of length 4*n\n",
    "        state_delta = np.zeros_like(state)\n",
    "\n",
    "        for i in range(n_electrons):\n",
    "            electron = get_electron(state, i)\n",
    "\n",
    "            # attractive net force contribution from the nucleus\n",
    "            net_force = calculate_coulomb_force(electron.pos, attract=True)\n",
    "\n",
    "            # repulsive net force contribution from the other electrons\n",
    "            for j in range(n_electrons):\n",
    "                if i == j:\n",
    "                    continue\n",
    "\n",
    "                other = get_electron(state, j)\n",
    "                net_force += calculate_coulomb_force(electron.pos - other.pos)\n",
    "\n",
    "            accel = net_force / m\n",
    "            set_state_index(state_delta, i, electron.vel, accel)\n",
    "\n",
    "        return state_delta\n",
    "\n",
    "\n",
    "    calculation = solve_ivp(diff_eqns, t_span, state0, rtol=rtol, atol=atol)\n",
    "    \n",
    "    results = CalculationResult()\n",
    "    results.time = np.array(calculation.t)\n",
    "    results.electrons = []\n",
    "    \n",
    "    for i in range(n_electrons):\n",
    "        electron = get_electron(calculation.y, i)\n",
    "        pos = electron.pos.transpose()\n",
    "        vel = electron.vel.transpose()\n",
    "        radial_pos = cartesian_to_polar(pos)\n",
    "        \n",
    "        potential_energy = np.zeros_like(results.time)\n",
    "        kinetic_energy = (1/2) * m * magnitudes(vel) ** 2\n",
    "        momentum       = m * magnitudes(vel)\n",
    "        \n",
    "        results.electrons.append(ElectronData(pos, radial_pos, vel, \\\n",
    "                                              kinetic_energy, potential_energy, momentum))\n",
    "    \n",
    "    results.stability_score      = np.mean([calculate_period_deviation(electron.radial_pos) \\\n",
    "                                            for electron in results.electrons])\n",
    "    results.total_kinetic_energy = np.sum([electron.kinetic_energy \\\n",
    "                                           for electron in results.electrons], axis=0)\n",
    "    results.total_potential_energy  = np.sum([electron.potential_energy \\\n",
    "                                              for electron in results.electrons], axis=0)\n",
    "    results.total_mechanical_energy = results.total_kinetic_energy + results.total_potential_energy\n",
    "    \n",
    "    results.total_momentum = np.sum([electron.momentum for electron in results.electrons], axis=0)\n",
    "    \n",
    "    return results"
   ]
  },
  {
   "cell_type": "code",
   "execution_count": 19,
   "id": "dc7e0775",
   "metadata": {},
   "outputs": [
    {
     "name": "stdout",
     "output_type": "stream",
     "text": [
      "[[5.29000000e-11 0.00000000e+00]\n",
      " [5.29000000e-11 2.41803703e-16]\n",
      " [5.29000000e-11 2.65984073e-15]\n",
      " [5.29000001e-11 2.68402110e-14]\n",
      " [5.29000068e-11 2.68643925e-13]\n",
      " [5.29002615e-11 1.66366656e-12]\n",
      " [5.29012751e-11 3.67527501e-12]\n",
      " [5.29034526e-11 6.05396262e-12]\n",
      " [5.29071812e-11 8.74659204e-12]\n",
      " [5.29129762e-11 1.17900783e-11]\n",
      " [5.29218124e-11 1.53501783e-11]\n",
      " [5.29355126e-11 1.97126015e-11]\n",
      " [5.29521648e-11 2.40761208e-11]\n",
      " [5.29697751e-11 2.80692088e-11]\n",
      " [5.29892649e-11 3.20265360e-11]\n",
      " [5.30111615e-11 3.60850141e-11]\n",
      " [5.30359459e-11 4.03338231e-11]\n",
      " [5.30642193e-11 4.48610454e-11]\n",
      " [5.30968301e-11 4.97758122e-11]\n",
      " [5.31351180e-11 5.52395665e-11]\n",
      " [5.31816066e-11 6.15490147e-11]\n",
      " [5.32435082e-11 6.95549841e-11]\n",
      " [5.33113243e-11 7.79584839e-11]\n",
      " [5.33814963e-11 8.63654153e-11]\n",
      " [5.34535087e-11 9.47687475e-11]\n",
      " [5.35297602e-11 1.03480243e-10]\n",
      " [5.36116160e-11 1.12668319e-10]\n",
      " [5.37001730e-11 1.22460827e-10]\n",
      " [5.37964991e-11 1.32976722e-10]\n",
      " [5.39017252e-11 1.44338069e-10]\n",
      " [5.40170998e-11 1.56676792e-10]\n",
      " [5.41440319e-11 1.70139747e-10]\n",
      " [5.42841343e-11 1.84893440e-10]\n",
      " [5.44392703e-11 2.01129012e-10]\n",
      " [5.46116080e-11 2.19067913e-10]\n",
      " [5.48036860e-11 2.38968632e-10]\n",
      " [5.50184934e-11 2.61134847e-10]\n",
      " [5.52595684e-11 2.85925474e-10]\n",
      " [5.55311216e-11 3.13767169e-10]\n",
      " [5.57322835e-11 3.34347457e-10]]\n"
     ]
    },
    {
     "data": {
      "image/png": "[encoded data removed]",
      "text/plain": [
       "<Figure size 640x480 with 1 Axes>"
      ]
     },
     "metadata": {},
     "output_type": "display_data"
    }
   ],
   "source": [
    "def test_calculation_raw():\n",
    "    trivial_state = generate_initial_state(0, 0)\n",
    "    \n",
    "    def diff_eqns(t, state):\n",
    "        state_delta = np.zeros_like(state)\n",
    "        electron = get_electron(state, 0)\n",
    "        net_force = calculate_coulomb_force(electron.pos, attract=True)\n",
    "        accel = net_force / m\n",
    "        set_state_index(state_delta, 0, electron.vel, accel)\n",
    "\n",
    "        return state_delta\n",
    "    \n",
    "    calculation = solve_ivp(diff_eqns, (0, PERIOD), trivial_state, rtol=1e-9, atol=1e-9)\n",
    "    electron = get_electron(calculation.y, 0)\n",
    "    \n",
    "    pos = electron.pos.transpose()\n",
    "    vel = electron.vel.transpose()\n",
    "    radial_pos = cartesian_to_polar(pos)\n",
    "    \n",
    "    plt.figure()\n",
    "    plt.plot(pos[0], pos[1])\n",
    "    plt.xlabel('x')\n",
    "    plt.ylabel('y')\n",
    "    plt.title(f'Cartesian Trajectory of the Affected Electron')\n",
    "    plt.grid(True)\n",
    "    \n",
    "test_calculation_raw()"
   ]
  },
  {
   "cell_type": "code",
   "execution_count": null,
   "id": "3fb009d3",
   "metadata": {},
   "outputs": [],
   "source": [
    "from dataclasses import dataclass\n",
    "from PIL import Image\n",
    "import io\n",
    "\n",
    "@dataclass\n",
    "class Visualizations:\n",
    "    radial_trajectory:    Image = None\n",
    "    cartesian_trajectory: Image = None\n",
    "    energy:               Image = None\n",
    "    calc:                 CalculationResult = None\n",
    "    \n",
    "def simulate(n, angle, plot=False):\n",
    "    def save_graph_and_close():\n",
    "        buf = io.BytesIO()\n",
    "        plt.savefig(buf, format='png')\n",
    "        buf.seek(0)\n",
    "        graph = Image.open(buf)\n",
    "        plt.close()\n",
    "        return graph\n",
    "\n",
    "    sim = calculate(n, angle)\n",
    "    affected_electron = sim.electrons[0]\n",
    "    \n",
    "    figures = Visualizations()\n",
    "    \n",
    "    plt.figure()\n",
    "    plt.plot(affected_electron.radial_pos[1], affected_electron.radial_pos[0])\n",
    "    plt.xlabel('θ (rad)')\n",
    "    plt.ylabel('Radial Distance from Nucleus (m)')\n",
    "    plt.title(f'Radial Trajectory of 10 orbits for the Affected Electron')\n",
    "    plt.grid(True)\n",
    "    figures.radial_trajectory = save_graph_and_close()\n",
    "    \n",
    "    plt.figure()\n",
    "    plt.plot(affected_electron.pos[0], affected_electron.pos[1])\n",
    "    plt.xlabel('x')\n",
    "    plt.ylabel('y')\n",
    "    plt.title(f'Cartesian Trajectory of the Affected Electron')\n",
    "    plt.grid(True)\n",
    "    figures.cartesian_trajectory = save_graph_and_close()\n",
    "\n",
    "    plt.figure()\n",
    "    plt.plot(sim.time, affected_electron.kinetic_energy, label=\"Kinetic Energy\")\n",
    "    plt.plot(sim.time, sim.total_kinetic_energy,         label='Total Kinetic Energy')\n",
    "    plt.plot(sim.time, sim.total_potential_energy,       label='Total Potential Energy')\n",
    "    plt.plot(sim.time, sim.total_mechanical_energy,      label='Total Mechanical Energy')\n",
    "    plt.xlabel(\"Time (s)\")\n",
    "    plt.ylabel(\"Energy (J)\")\n",
    "    plt.title(\"Energy vs Time\")\n",
    "    plt.legend()\n",
    "    plt.grid(True)\n",
    "    figures.energy = save_graph_and_close()\n",
    "    \n",
    "    figures.calc = sim\n",
    "    \n",
    "    return figures"
   ]
  },
  {
   "cell_type": "code",
   "execution_count": null,
   "id": "9d410cc1",
   "metadata": {
    "scrolled": false
   },
   "outputs": [],
   "source": [
    "test = simulate(n=3, angle=0)\n",
    "display(test.radial_trajectory)"
   ]
  },
  {
   "cell_type": "code",
   "execution_count": null,
   "id": "a0eafadd",
   "metadata": {
    "scrolled": true
   },
   "outputs": [],
   "source": [
    "test.calc.electrons[0].pos"
   ]
  },
  {
   "cell_type": "code",
   "execution_count": null,
   "id": "c860bc41",
   "metadata": {},
   "outputs": [],
   "source": [
    "display(test.cartesian_trajectory)"
   ]
  },
  {
   "cell_type": "code",
   "execution_count": null,
   "id": "8c9fbc3c",
   "metadata": {},
   "outputs": [],
   "source": [
    "display(test.energy)"
   ]
  },
  {
   "cell_type": "code",
   "execution_count": null,
   "id": "10f9a685",
   "metadata": {},
   "outputs": [],
   "source": [
    "def generate_contour(n_domain, theta_domain, debug_print=False):            \n",
    "    A, S = np.meshgrid(n_domain, theta_domain, indexing='ij')\n",
    "    Z = np.zeros_like(A, dtype=float)\n",
    "    total_sims = len(n_domain) * len(theta_domain)\n",
    "    idx = 0\n",
    "    interval = total_sims // 10\n",
    "    for i, n in enumerate(n_domain):\n",
    "        for j, theta in enumerate(theta_domain):\n",
    "            idx += 1\n",
    "            if debug_print and idx % interval == 0:\n",
    "                print(f'{(idx / total_sims) * 100:.0f}% - Iteration {idx}/{total_sims}')\n",
    "            Z[i,j] = calculate(n, theta).stability_score\n",
    "    \n",
    "    plt.figure()\n",
    "    cp = plt.contourf(A, S, Z, levels=20, cmap='viridis')\n",
    "    plt.colorbar(cp, label='Stability')\n",
    "    plt.xlabel('Number of Electrons')\n",
    "    plt.ylabel('Perturbation Angle (rad)')\n",
    "    plt.title('Stability Score')\n",
    "    plt.show()"
   ]
  },
  {
   "cell_type": "code",
   "execution_count": null,
   "id": "052f819a",
   "metadata": {},
   "outputs": [],
   "source": [
    "\"\"\"\n",
    "generate_contour(n_domain     = [1, 2, 3, 4, 5],\n",
    "                 theta_domain = np.linspace(-np.pi/6, np.pi/6, 10),\n",
    "                 debug_print  = True)\n",
    "\"\"\""
   ]
  },
  {
   "cell_type": "code",
   "execution_count": null,
   "id": "d69e7380",
   "metadata": {},
   "outputs": [],
   "source": []
  }
 ],
 "metadata": {
  "kernelspec": {
   "display_name": "phys210",
   "language": "python",
   "name": "phys210"
  },
  "language_info": {
   "codemirror_mode": {
    "name": "ipython",
    "version": 3
   },
   "file_extension": ".py",
   "mimetype": "text/x-python",
   "name": "python",
   "nbconvert_exporter": "python",
   "pygments_lexer": "ipython3",
   "version": "3.11.2"
  }
 },
 "nbformat": 4,
 "nbformat_minor": 5
}

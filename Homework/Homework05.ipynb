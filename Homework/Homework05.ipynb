{
 "cells": [
  {
   "cell_type": "markdown",
   "metadata": {
    "collapsed": true,
    "id": "-94MVQDSk-Qe",
    "nbgrader": {
     "grade": false,
     "grade_id": "cell-1d46bd574f1f3b7e",
     "locked": true,
     "schema_version": 3,
     "solution": false,
     "task": false
    }
   },
   "source": [
    "# PHYS 210, Homework 05\n",
    "Due Monday, Sep 22, 2025 at the start of class on Canvas"
   ]
  },
  {
   "cell_type": "markdown",
   "metadata": {
    "id": "1W0hZo3ck-Qk",
    "nbgrader": {
     "grade": false,
     "grade_id": "array_creation0",
     "locked": true,
     "schema_version": 3,
     "solution": false,
     "task": false
    }
   },
   "source": [
    "## *About this homework assignment*\n",
    "\n",
    "This homework assignment is designed to get everybody started on their Project 01. It is considered Stage 1 of a 3-stage process in developing your project, as described in the [Project 01 - Destructive Collisions: Instructions & Assessment Guidelines](https://physics210.github.io/p210-2025/Project01-instructions_and_assessment.html) document."
   ]
  },
  {
   "cell_type": "markdown",
   "metadata": {},
   "source": [
    "### Task 1: Fix the starter code\n",
    "Update the starter code in the \"Your Task 1 and Task 2 code\" cell below so that the collision between the two objects is handled correctly."
   ]
  },
  {
   "cell_type": "markdown",
   "metadata": {},
   "source": [
    "### Task 2: Add plots\n",
    "Add one or more well-captioned and well-labeled plots (not animations) that show the kinematic behaviour of the two objects. \n",
    "\n",
    "It’s up to you exactly what you plot, but the idea is that these plots provide you (and the reader) with insight into the behaviour of these objects within the simulation. These types of plots can also be extremely valuable in troubleshooting your code, or otherwise validating that your simulation is behaving as intended."
   ]
  },
  {
   "cell_type": "markdown",
   "metadata": {},
   "source": [
    "### Task 3: Test that your code handles a range of initial conditions and parameters well\n",
    "Copy your working code into the Task 3 cells below.\n",
    "\n",
    "Try at least two different sets of initial conditions that you feel could result in unexpected behaviour in your simulation. Examples include making values–such as the initial kinematic quantities or physical properties—significantly smaller or larger than the ones provided. In each case describe which values you changed, why you thought these values might result in unexpected behaviour, and if they did actually result in any unexpected behaviour. If the unexpected behaviour is something that should be fixed, try your best to fix it."
   ]
  },
  {
   "cell_type": "markdown",
   "metadata": {},
   "source": [
    "## *Your Task 1 and Task 2 code*\n",
    "\n",
    "Modify the code below as much as needed to accomplish each task. There is a backup copy of the code at the bottom of the document for reference. Add additional cells to this section as needed"
   ]
  },
  {
   "cell_type": "code",
   "execution_count": 1,
   "metadata": {},
   "outputs": [],
   "source": [
    "import numpy as np\n",
    "from matplotlib import pyplot as plt\n",
    "from dataclasses import dataclass"
   ]
  },
  {
   "cell_type": "code",
   "execution_count": 5,
   "metadata": {},
   "outputs": [],
   "source": [
    "@dataclass\n",
    "class RigidBody:\n",
    "    initial_position: float\n",
    "    initial_velocity: float\n",
    "    initial_acceleration: float\n",
    "    mass: float\n",
    "    color: str\n",
    "    name: str\n",
    "    \n",
    "    time:         np.array = None\n",
    "    position:     np.array = None\n",
    "    velocity:     np.array = None\n",
    "    acceleration: np.array = None\n",
    "    energy:       np.array = None\n",
    "    momentum:     np.array = None\n",
    "    \n",
    "    def init(self, n):\n",
    "        self.position     = np.zeros(n)\n",
    "        self.velocity     = np.zeros(n)\n",
    "        self.acceleration = np.zeros(n)\n",
    "        self.energy       = np.zeros(n)\n",
    "        self.momentum     = np.zeros(n)\n",
    "        \n",
    "        self.position[0]     = self.initial_position\n",
    "        self.velocity[0]     = self.initial_velocity\n",
    "        self.acceleration[0] = self.initial_acceleration\n",
    "        \n",
    "    def distance_to(self, other_body, i):\n",
    "        return np.sqrt(np.sum((self.position[i] - other_body.position[i])**2))\n",
    "\n",
    "    def collided_with(self, other_body, collision_radius, i):\n",
    "        return self.distance_to(other_body, i) <= collision_radius\n",
    "    \n",
    "    def near_barrier(self, bottom_barrier, top_barrier, collision_radius, i):\n",
    "        return \\\n",
    "            abs(self.position[i] - bottom_barrier) <= collision_radius or \\\n",
    "            abs(self.position[i] - top_barrier) <= collision_radius"
   ]
  },
  {
   "cell_type": "code",
   "execution_count": 8,
   "metadata": {},
   "outputs": [],
   "source": [
    "def simulate(objects, time_range, dt, collision_radius=0.1, \n",
    "             bottom_barrier=-10, top_barrier=10):\n",
    "    time = np.arange(time_range[0], time_range[1], dt)\n",
    "    total_frames = np.size(time)\n",
    "    \n",
    "    for body in objects:\n",
    "        body.init(total_frames)\n",
    "    \n",
    "    for i in range(1,total_frames):\n",
    "        # update positions\n",
    "        for body in objects:\n",
    "            body.position[i] = body.position[i-1] + body.velocity[i-1] * dt\n",
    "            body.velocity[i] = body.velocity[i-1] + body.acceleration[i-1] * dt\n",
    "        \n",
    "        # detect collisions\n",
    "        to_invert = set()\n",
    "        \n",
    "        for i, body in enumerate(objects):\n",
    "            for other_body in objects[i+1:]:\n",
    "                if body.collided_with(other_body, collision_radius, i):\n",
    "                    to_invert.add(body)\n",
    "                    to_invert.add(other)\n",
    "                    \n",
    "        for body in objects:\n",
    "            if body.near_barrier(bottom_barrier, top_barrier, collision_radius, i):\n",
    "                to_invert.add(body)\n",
    "        \n",
    "        for body in to_invert:\n",
    "            body.velocity[i] *= -1\n",
    "            \n",
    "        if len(to_invert) != 0:\n",
    "            print(i, [b.name for b in to_invert])\n",
    "            \n",
    "    # ending calculations\n",
    "    for body in objects:\n",
    "        body.momentum = body.mass * body.velocity\n",
    "        body.energy = (1/2) * body.mass * body.velocity ** 2\n",
    "        \n",
    "    return time"
   ]
  },
  {
   "cell_type": "code",
   "execution_count": 9,
   "metadata": {},
   "outputs": [],
   "source": [
    "object_1 = RigidBody(\n",
    "    initial_position = -5,\n",
    "    initial_velocity =  2,\n",
    "    initial_acceleration = 0,\n",
    "    mass = 0.01,\n",
    "    color = 'lightblue',\n",
    "    name = 'Object 1'\n",
    ")\n",
    "\n",
    "object_2 = RigidBody(\n",
    "    initial_position =  7,\n",
    "    initial_velocity = -1,\n",
    "    initial_acceleration = 0,\n",
    "    mass = 0.001,\n",
    "    color = 'orange',\n",
    "    name = 'Object 2'\n",
    ")\n",
    "\n",
    "objects = [object_1, object_2]\n",
    "time = simulate(objects, time_range=(0, 100), dt=0.01)"
   ]
  },
  {
   "cell_type": "code",
   "execution_count": 10,
   "metadata": {},
   "outputs": [
    {
     "data": {
      "image/png": "[encoded data removed]",
      "text/plain": [
       "<Figure size 800x800 with 4 Axes>"
      ]
     },
     "metadata": {},
     "output_type": "display_data"
    }
   ],
   "source": [
    "fig, axs = plt.subplots(4,1, sharex=True, figsize=(8,8))\n",
    "\n",
    "# position\n",
    "for body in objects:\n",
    "    axs[0].plot(time, body.position, \n",
    "                color=body.color, \n",
    "                label=body.name,\n",
    "                linestyle='dashed')\n",
    "axs[0].axhline(y=10, color='black', label='Top Barrier')\n",
    "axs[0].axhline(y=-10, color='black', label='Bottom Barrier')\n",
    "axs[0].set_ylabel('Position\\n(m)')\n",
    "axs[0].set_title('Position vs. Time')\n",
    "axs[0].legend()\n",
    "\n",
    "# velocity\n",
    "for body in objects:\n",
    "    axs[1].plot(time, body.velocity, \n",
    "                color=body.color, \n",
    "                label=body.name)\n",
    "axs[1].set_ylabel('Velocity\\n(m/s)')\n",
    "axs[1].set_title('Velocity vs. Time')\n",
    "axs[1].legend()\n",
    "\n",
    "# kinetic energy\n",
    "total_energy = np.zeros_like(time)\n",
    "for body in objects:\n",
    "    axs[2].plot(time, body.energy, \n",
    "                color=body.color, \n",
    "                label=body.name)\n",
    "    total_energy = total_energy + body.energy\n",
    "axs[2].plot(time, total_energy, color='green', label='Total Kinetic Energy')\n",
    "axs[2].set_ylabel('Kinetic Energy\\n(mJ)')\n",
    "axs[2].set_title('Kinetic Energy vs. Time')\n",
    "axs[2].legend()\n",
    "\n",
    "# momentum\n",
    "total_momentum = np.zeros_like(time)\n",
    "for body in objects:\n",
    "    axs[3].plot(time, body.momentum, \n",
    "                color=body.color, \n",
    "                label=body.name)\n",
    "    total_momentum = total_momentum + body.momentum\n",
    "axs[3].plot(time, total_momentum, color='green', label='Total Momentum')\n",
    "axs[3].set_xlabel('Time (s)')\n",
    "axs[3].set_ylabel('Momentum\\n(kg*m/s*10^2)')\n",
    "axs[3].set_title('Momentum vs. Time')\n",
    "axs[3].legend()\n",
    "\n",
    "plt.show()"
   ]
  },
  {
   "cell_type": "code",
   "execution_count": null,
   "metadata": {},
   "outputs": [],
   "source": [
    "print(object_1.position)"
   ]
  },
  {
   "cell_type": "markdown",
   "metadata": {},
   "source": [
    "## *Your Task 3 code*\n"
   ]
  },
  {
   "cell_type": "markdown",
   "metadata": {},
   "source": [
    "### Your first set of new initial conditions"
   ]
  },
  {
   "cell_type": "code",
   "execution_count": null,
   "metadata": {},
   "outputs": [],
   "source": [
    "# Copy your Task 1+2 code into this cell and modify it with new initial conditions\n",
    "# and any necessary diagnostic output. Insert additional cells as needed. \n"
   ]
  },
  {
   "cell_type": "markdown",
   "metadata": {},
   "source": [
    "#### Describe which values you changed, why you thought these values might result in unexpected behaviour, and if they did actually result in any unexpected behaviour."
   ]
  },
  {
   "cell_type": "markdown",
   "metadata": {},
   "source": []
  },
  {
   "cell_type": "markdown",
   "metadata": {},
   "source": [
    "### Your second set of new initial conditions"
   ]
  },
  {
   "cell_type": "code",
   "execution_count": null,
   "metadata": {},
   "outputs": [],
   "source": [
    "# Copy your Task 1+2 code into this cell and modify it with new initial conditions\n",
    "# and any necessary diagnostic output. Insert additional cells as needed. \n"
   ]
  },
  {
   "cell_type": "markdown",
   "metadata": {},
   "source": [
    "#### Describe which values you changed, why you thought these values might result in unexpected behaviour, and if they did actually result in any unexpected behaviour."
   ]
  },
  {
   "cell_type": "markdown",
   "metadata": {},
   "source": []
  },
  {
   "cell_type": "markdown",
   "metadata": {},
   "source": [
    "## *Completing Homework 05 and submitting it to Canvas*\n",
    "Before submitting your work, restart + rerun your entire notebook to make sure that everything runs correctly and without error.\n",
    "\n",
    "To do this:\n",
    "1. **Restart & Run All:** From the \"Kernel\" menu to the right of the \"Cell\" menu, select \"Restart & Run All\". This will restart the python Kernel, erasing all variables currently stored in memory so that when you \"Run All\" cells, you can ensure that if you were to run your notebook again on a later day, it would run as intended.\n",
    "1. Look through the whole notebook and make sure there are no errors. Many questions have purposeful errors in the distributed version so make sure you have fixed them all such that \"Restart & Run All\" will run through the whole book and successfully print \"The notebook ran without errors\" at the end. If you have any trouble resolving the errors, please ask one of your classmates or ask us in class or on Piazza.\n",
    "\n",
    "**Export notebook as HTML:** After you've executed and checked your notebook, choose: File => Save_and_Export_Notebook_As => HTML. This will download an HTML version of your notebook to your computer. This version is can not be executed or modified. You may need to disable any pop-up blockers to allow the file to be downloaded.\n",
    "\n",
    "**Submit to Canvas:** Submit the html file that you just downloaded AND your .ipynb file to the Homework 05 submission quiz on Canvas."
   ]
  },
  {
   "cell_type": "markdown",
   "metadata": {},
   "source": [
    "## *Backup copy of the starter code for Project 01*\n",
    "```python\n",
    "### Starter code for Project 01\n",
    "\n",
    "import numpy as np\n",
    "\n",
    "# Constants\n",
    "t0 = 0      # s\n",
    "dt = 0.1    # s\n",
    "t_max = 100 # s\n",
    "n_steps = int( (t_max - t0) / dt) + 1 # Total number of steps\n",
    "left_barrier = -10 # m\n",
    "right_barrier = 10 # m\n",
    "\n",
    "# Arrays to save simulation information\n",
    "t = np.zeros(n_steps)\n",
    "x1 = np.zeros(n_steps)\n",
    "x2 = np.zeros(n_steps)\n",
    "v1 = np.zeros(n_steps)\n",
    "v2 = np.zeros(n_steps)\n",
    "\n",
    "# Object 1\n",
    "x1_initial = -5 # m\n",
    "v1_initial = 2  # m/s\n",
    "r1 = 0.05 # m\n",
    "m1 = .01 # kg\n",
    "x1[0] = x1_initial \n",
    "v1[0] = v1_initial \n",
    "\n",
    "# Object 2\n",
    "x2_initial = 7  # m\n",
    "v2_initial = -1 # m /s\n",
    "r2 = 0.02 # m\n",
    "m2 = .001 # kg\n",
    "x2[0] = x2_initial \n",
    "v2[0] = v2_initial \n",
    "\n",
    "\n",
    "for i in range(1,n_steps):\n",
    "    \n",
    "    # Update kinematic variable for both objects\n",
    "    x1[i] = x1[i-1] + v1[i-1] * dt\n",
    "    x2[i] = x2[i-1] + v2[i-1] * dt\n",
    "    v1[i] = v1[i-1]\n",
    "    v2[i] = v2[i-1]\n",
    "    t[i]  =  t[i-1] + dt\n",
    "\n",
    "    # Check for collisions and update kinematic quantities as needed\n",
    "    if x1[i] + r1 >= right_barrier or x1[i] - r1 <= left_barrier:\n",
    "        v1[i] = -v1[i]\n",
    "\n",
    "    if x2[i] + r2 >= right_barrier or x2[i] - r2 <= left_barrier:\n",
    "        v2[i] = -v2[i]\n",
    "```"
   ]
  },
  {
   "cell_type": "code",
   "execution_count": null,
   "metadata": {},
   "outputs": [],
   "source": []
  }
 ],
 "metadata": {
  "celltoolbar": "Create Assignment",
  "colab": {
   "provenance": []
  },
  "kernelspec": {
   "display_name": "Python 3 (ipykernel)",
   "language": "python",
   "name": "python3"
  },
  "language_info": {
   "codemirror_mode": {
    "name": "ipython",
    "version": 3
   },
   "file_extension": ".py",
   "mimetype": "text/x-python",
   "name": "python",
   "nbconvert_exporter": "python",
   "pygments_lexer": "ipython3",
   "version": "3.11.2"
  },
  "nbgrader": {
   "__altered": false,
   "__hash": 782104853,
   "_root": {
    "entries": [
     [
      "size",
      6
     ],
     [
      "_root",
      {
       "entries": [
        [
         "size",
         1
        ],
        [
         "_root",
         {
          "entries": [
           [
            "cocalc_minimal_stubs",
            false
           ]
          ],
          "ownerID": {}
         }
        ],
        [
         "__ownerID",
         null
        ],
        [
         "__hash",
         -335098374
        ],
        [
         "__altered",
         false
        ],
        [
         "cocalc_minimal_stubs",
         false
        ]
       ],
       "ownerID": {}
      }
     ],
     [
      "__hash",
      633336276
     ],
     [
      "__altered",
      false
     ],
     [
      "cocalc_minimal_stubs",
      false
     ]
    ],
    "ownerID": {}
   },
   "cocalc_minimal_stubs": false,
   "size": 5
  }
 },
 "nbformat": 4,
 "nbformat_minor": 1
}

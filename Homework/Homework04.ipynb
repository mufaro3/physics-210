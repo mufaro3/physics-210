{
 "cells": [
  {
   "cell_type": "markdown",
   "metadata": {
    "collapsed": true,
    "id": "-94MVQDSk-Qe",
    "nbgrader": {
     "grade": false,
     "grade_id": "cell-1d46bd574f1f3b7e",
     "locked": true,
     "schema_version": 3,
     "solution": false,
     "task": false
    }
   },
   "source": [
    "# PHYS 210, Homework 04\n",
    "Due Wednesday, Sep 17, 2025 at the start of class on Canvas"
   ]
  },
  {
   "cell_type": "markdown",
   "metadata": {
    "id": "1W0hZo3ck-Qk",
    "nbgrader": {
     "grade": false,
     "grade_id": "array_creation0",
     "locked": true,
     "schema_version": 3,
     "solution": false,
     "task": false
    }
   },
   "source": [
    "## *Array Creation*\n",
    "Make each of the following arrays, as indicated, and then test that they pass their assert statement to demonstrate they've been created correctly. These are each quicks tasks where you can use what you have learned so far, use internet searches and/or use ChatGPT."
   ]
  },
  {
   "cell_type": "markdown",
   "metadata": {},
   "source": [
    "**Task 1a:** Create a 1d array `ar1` containing 5 float zeros"
   ]
  },
  {
   "cell_type": "code",
   "execution_count": null,
   "metadata": {},
   "outputs": [],
   "source": [
    "# Your array creation code here\n",
    "import numpy as np\n",
    "\n"
   ]
  },
  {
   "cell_type": "code",
   "execution_count": null,
   "metadata": {},
   "outputs": [],
   "source": [
    "# Test that your array is correct\n",
    "def is_all_float_zeros(arr):\n",
    "    return np.array_equal(arr, np.zeros_like(arr)) and np.issubdtype(arr.dtype, np.floating)\n",
    "assert is_all_float_zeros(ar1), \"The array is not all float zeros!\"\n",
    "print(\"All tests passed! You created the correct array.\")"
   ]
  },
  {
   "cell_type": "markdown",
   "metadata": {},
   "source": [
    "**Task 1b:** Create a 1d array `ar2` containing 5 integer ones"
   ]
  },
  {
   "cell_type": "code",
   "execution_count": null,
   "metadata": {},
   "outputs": [],
   "source": [
    "# Your array creation code here\n",
    "\n",
    "\n"
   ]
  },
  {
   "cell_type": "code",
   "execution_count": null,
   "metadata": {},
   "outputs": [],
   "source": [
    "# Test that your array is correct\n",
    "def is_all_integer_ones(arr):\n",
    "    return np.array_equal(arr, np.ones_like(arr)) and np.issubdtype(arr.dtype, np.integer)\n",
    "assert is_all_integer_ones(ar2), \"The array is not all integer ones!\"\n",
    "print(\"All tests passed! You created the correct array.\")"
   ]
  },
  {
   "cell_type": "markdown",
   "metadata": {},
   "source": [
    "**Task 1c:** Create a 1d array `ar3` of integer elements having values from 6 to 11 (inclusive) using `np.arange()`"
   ]
  },
  {
   "cell_type": "code",
   "execution_count": null,
   "metadata": {},
   "outputs": [],
   "source": [
    "# Your array creation code here\n",
    "\n",
    "\n"
   ]
  },
  {
   "cell_type": "code",
   "execution_count": null,
   "metadata": {},
   "outputs": [],
   "source": [
    "# Test that your array is correct\n",
    "\n",
    "# Test if the array contains the expected values\n",
    "expected_values = np.array([6, 7, 8, 9, 10, 11])\n",
    "assert np.array_equal(ar3, expected_values), \"The array does not contain the expected values.\"\n",
    "\n",
    "# Test if the data type of the array is integer\n",
    "assert np.issubdtype(ar3.dtype, np.integer), \"The array's data type is not integer.\"\n",
    "\n",
    "# Test if the shape of the array is as expected\n",
    "assert ar3.shape == (6,), \"The array does not have the expected shape.\"\n",
    "print(\"All tests passed! You created the correct array.\")"
   ]
  },
  {
   "cell_type": "markdown",
   "metadata": {
    "id": "1W0hZo3ck-Qk",
    "nbgrader": {
     "grade": false,
     "grade_id": "array_creation0",
     "locked": true,
     "schema_version": 3,
     "solution": false,
     "task": false
    }
   },
   "source": [
    "## *Operations on arrays*\n",
    "Make each of the indicated arrays"
   ]
  },
  {
   "cell_type": "markdown",
   "metadata": {},
   "source": [
    "**Task 2a:** Create an array `ar5` containing the squares of the values in `ar4`"
   ]
  },
  {
   "cell_type": "code",
   "execution_count": null,
   "metadata": {},
   "outputs": [],
   "source": [
    "# Your array creation code here\n",
    "import numpy as np\n",
    "ar4 = np.arange(6)\n",
    "\n"
   ]
  },
  {
   "cell_type": "code",
   "execution_count": null,
   "metadata": {},
   "outputs": [],
   "source": [
    "# Test that your array is correct\n",
    "expected_values = np.array([ 0,  1,  4,  9, 16, 25])\n",
    "assert np.array_equal(ar5, expected_values), \"The array does not contain the expected values.\"\n",
    "print(\"All tests passed! You created the correct array.\")"
   ]
  },
  {
   "cell_type": "markdown",
   "metadata": {},
   "source": [
    "**Task 2b:** Create an array `ar6` containing the square roots of the values in `ar4`"
   ]
  },
  {
   "cell_type": "code",
   "execution_count": null,
   "metadata": {},
   "outputs": [],
   "source": [
    "# Your array creation code here\n",
    "import numpy as np\n",
    "ar4 = np.arange(6)\n",
    "\n"
   ]
  },
  {
   "cell_type": "code",
   "execution_count": null,
   "metadata": {},
   "outputs": [],
   "source": [
    "# Test that your array is correct\n",
    "expected_values = np.array([0., 1. , 1.414, 1.732, 2. , 2.236])\n",
    "np.testing.assert_almost_equal(ar6, expected_values, decimal=2), \"The array does not contain the expected values.\"\n",
    "print(\"All tests passed! You created the correct array.\")"
   ]
  },
  {
   "cell_type": "markdown",
   "metadata": {},
   "source": [
    "**Task 2c:** Create a 1d array `ar7` with 6 values, which are integer multiples of $\\pi/5$, starting with 0 (i.e., $0, \\pi/5, 2\\pi/5, 3\\pi/5, ...)$"
   ]
  },
  {
   "cell_type": "code",
   "execution_count": null,
   "metadata": {},
   "outputs": [],
   "source": [
    "# Your array creation code here\n",
    "import numpy as np\n",
    "\n",
    "\n"
   ]
  },
  {
   "cell_type": "code",
   "execution_count": null,
   "metadata": {},
   "outputs": [],
   "source": [
    "# Test that your array is correct\n",
    "expected_values = np.array([0. , 0.628, 1.256, 1.885, 2.513, 3.1416])\n",
    "np.testing.assert_almost_equal(ar7, expected_values, decimal=2), \"The array does not contain the expected values.\"\n",
    "print(\"All tests passed! You created the correct array.\")"
   ]
  },
  {
   "cell_type": "markdown",
   "metadata": {
    "id": "iUB-e20nk-Qs",
    "nbgrader": {
     "grade": false,
     "grade_id": "cell-e3c2923bc258eef1",
     "locked": true,
     "schema_version": 3,
     "solution": false,
     "task": false
    }
   },
   "source": [
    "## *Statistics*\n",
    "\n",
    "Below is a 1d array called `my_data`, of size 20, with numbers drawn from a gaussian distribution. These will be your \"data\" for this question, and you will calculate some statistics of these data.\n",
    "\n",
    "The mean of a population, represented by a sample $x_1, x_2, ..., x_N$ can be estimated as:\n",
    "\n",
    "$\\hat{\\bar{x}} = \\frac{1}{N} \\sum_{i=1}^{N} x_i $\n",
    "\n",
    "The (unbiased) estimator for the sample standard deviation is given by:\n",
    "\n",
    "$\\widehat{Std[x]} = \\sqrt{\\frac{1}{N-1}\\sum_{i=1}^N (x_i-\\bar{x})^2}$"
   ]
  },
  {
   "cell_type": "markdown",
   "metadata": {},
   "source": [
    "**Task 3a:** First write code to calculate the mean and standard deviation using `numpy.mean` and `numpy.std`, and place the results into `np_mean`, and `np_std`. Recall there are multiple approaches to using these with an `ndarray` object (e.g., `my_data.mean()` or `mean(my_data)`)\n",
    "\n",
    "**Important!!!** Make sure to consult the documentation for `std` (https://numpy.org/doc/stable/reference/generated/numpy.std.html) because you need to use `ddof = 1` to override the default value of `ddof = 0` so that the denominator $1/(N-1)$ is correctly incorporated instead of $1/N$."
   ]
  },
  {
   "cell_type": "code",
   "execution_count": null,
   "metadata": {},
   "outputs": [],
   "source": [
    "# Your code here\n",
    "import numpy as np\n",
    "my_data = np.array([ 1.101, -1.238, -0.967, -0.497,  0.908,  2.079,  0.892,  0.392,\n",
    "       -0.439,  0.496,  1.483, -0.501, -0.443, -0.759,  1.432, -0.212,\n",
    "        0.227,  0.003,  0.547,  0.791])\n",
    "\n",
    "\n",
    "\n"
   ]
  },
  {
   "cell_type": "code",
   "execution_count": null,
   "metadata": {},
   "outputs": [],
   "source": [
    "# Test that your values are correct\n",
    "np.testing.assert_almost_equal(np_mean, 0.26475, decimal=4), \"np_mean does not contain the expected value.\"\n",
    "if(abs(np_std-0.8761985) < 0.00001):\n",
    "    print(\"*** It looks like your standard deviation did not correctly account for N-1 using ddof ***\")\n",
    "    print(\"*** Check that you included the optional argument of ddof=1 ***\")\n",
    "    np.testing.assert_almost_equal(np_std, 0.89896, decimal=3), \"See message before AssertionError\"\n",
    "np.testing.assert_almost_equal(np_std, 0.89896, decimal=3), \"np_std does not contain the expected value\"\n",
    "print(\"All tests passed! You calculated the correct values.\")"
   ]
  },
  {
   "cell_type": "markdown",
   "metadata": {},
   "source": [
    "**Task 3b:** Write code to calculate the mean of your data using the equation given in the original question statement. ***Do not*** use `numpy.mean`, but instead use other `ndarray` methods. Assign the result to the variable `my_mean`."
   ]
  },
  {
   "cell_type": "code",
   "execution_count": null,
   "metadata": {},
   "outputs": [],
   "source": [
    "# Your code here\n",
    "\n",
    "\n",
    "\n"
   ]
  },
  {
   "cell_type": "code",
   "execution_count": null,
   "metadata": {},
   "outputs": [],
   "source": [
    "# Test that your value is correct\n",
    "np.testing.assert_almost_equal(np_mean, my_mean, decimal=4), \"np_mean and my_mean do not contain the same value\"\n",
    "print(\"All tests passed! You calculated the correct value.\")"
   ]
  },
  {
   "cell_type": "markdown",
   "metadata": {},
   "source": [
    "**Task 3c:** Write code to calculate the variance and standard deviation according to the equations in the original question statement ***without*** using statistical functions or `ndarray` methods that calculate the variance or standard deviation directly. However, you may use `numpy.sum` and `numpy.sqrt`. Assign the result to `my_std`"
   ]
  },
  {
   "cell_type": "code",
   "execution_count": null,
   "metadata": {
    "id": "XFOL-Ivgk-Qs",
    "nbgrader": {
     "grade": false,
     "grade_id": "stats0",
     "locked": false,
     "schema_version": 3,
     "solution": true,
     "task": false
    }
   },
   "outputs": [],
   "source": [
    "# Your code here\n",
    "\n",
    "\n"
   ]
  },
  {
   "cell_type": "code",
   "execution_count": null,
   "metadata": {},
   "outputs": [],
   "source": [
    "# Test that your value is correct\n",
    "np.testing.assert_almost_equal(np_std, my_std, decimal=4), \"np_std and my_std do not contain the same value\"\n",
    "print(\"All tests passed! You calculated the correct value.\")"
   ]
  },
  {
   "cell_type": "markdown",
   "metadata": {},
   "source": [
    "## *Return of the command line*"
   ]
  },
  {
   "cell_type": "markdown",
   "metadata": {},
   "source": [
    "We introduced the Linux command line previously and are going to revisit it here. Let's start with a summary of some new useful basic commands."
   ]
  },
  {
   "cell_type": "markdown",
   "metadata": {},
   "source": [
    "`less filename` displays the content of a text file one screen at a time (more does something similar). Use `h` inside less to get a list of keyboard shortcuts. Most important are `space` to advance a screenful, and `q` to quit.\n",
    "\n",
    "`head -n filename` displays the first n lines of a text file (default n=10)\n",
    "\n",
    "`tail -n filename` displays the last n lines of a text file (default y)\n",
    "\n",
    "`wc filename` displays the number of lines, words and character in filename\n",
    "\n",
    "`mkdir dirName` creates the directory `dirName`\n",
    "\n",
    "`rmdir dirName` deletes a directory `dirName`. If `dirName` is not empty rmdir returns an error message\n",
    "\n",
    "`rm filename1 filename …` deletes files `filename1`, `filename2`, `…`\n",
    "\n",
    "`rm -r dirName` deletes the entire directory `dirName` even if directory is not empty, even its sub-directories, if any (use with caution!).\n",
    "\n",
    "`cp inName outName` creates a copy of file `inName` and names it `outName` (unless outName is a directory, in which case it will create a new file inside the `outName` directory).\n",
    "\n",
    "`cp -r inDirName outDirName` does the same as `cp` but when `inName` is a directory\n",
    "\n",
    "`mv inName outName` moves `inName` to `outName` (same as `cp -r` followed by the deletion of `inName`)"
   ]
  },
  {
   "cell_type": "markdown",
   "metadata": {},
   "source": [
    "### Task 4a: Text File manipulation with nano text editor\n",
    "\n",
    "(Try this out. You don't need to include any answers here.)\n",
    "\n",
    "Open a terminal in Jupyter, CoCalc or anywhere else you might have access to a Linux terminal. \n",
    "\n",
    "Let's add a file to our home directory. We’ll use a text editor called `nano` to create a new text file `newfile.txt`.\n",
    "```\n",
    "jovyan@jupyter-[yourCWL]:~$ nano newfile.txt\n",
    "```\n",
    "Write a few sentences within nano and make sure you use the word 'the' on at least 3 different lines. Then use CTRL-O (indicated as ^O in the menu) to save the file and then enter to confirm. Finally use CTRL-X (^X) to exit.\n",
    "\n",
    "Next, make a copy of your file with the name: `file2.txt`\n",
    "\n",
    "Verify that `file2.txt` contains what it should using the less command.\n",
    "\n",
    "Using one of the commands from the list above, count how many lines, words and characters there are in `file2.txt`"
   ]
  },
  {
   "cell_type": "markdown",
   "metadata": {},
   "source": [
    "### Pattern searching within text files\n",
    "\n",
    "`nano` has a `find` function (called \"Where Is\"). However, you probably shouldn't use it when running a terminal inside your browser (like in Open Jupyter or Cocalc) since the required keyboard shortcut `^W` might be interpreted by your broswer as being a command to close your browser tab instead of as a command with nano. \n",
    "\n",
    "Instead we will use a very powerful commmand-line command for searching within files: `grep`.\n",
    "\n",
    "The basic syntax of grep is:\n",
    "```\n",
    "grep pattern filename\n",
    "```\n",
    "So, to search for occurences of the word 'the' in your text file, you would type:\n",
    "```\n",
    "jovyan@jupyter-[yourCWL]:~$ grep the file2.txt\n",
    "```\n",
    "or\n",
    "```\n",
    "jovyan@jupyter-[yourCWL]:~$ grep \"the\" file2.txt\n",
    "```\n",
    "**Task 4b: Try it out!**\n",
    "\n",
    "(Try this out. You don't need to include any answers here.)\n",
    "\n",
    "Grep will show you the entire line on which the pattern occurs."
   ]
  },
  {
   "cell_type": "markdown",
   "metadata": {},
   "source": [
    "### Task 4c:\n",
    "\n",
    "How would you use `grep` to search for the word \"hello\" in a file named \"sample.txt\"?\n",
    "\n",
    "A) `grep search \"hello\" sample.txt`<br>\n",
    "B) `grep \"hello\" from sample.txt`<br>\n",
    "C) `grep \"hello\" in sample.txt`<br>\n",
    "D) `grep \"hello\" sample.txt`"
   ]
  },
  {
   "cell_type": "code",
   "execution_count": null,
   "metadata": {},
   "outputs": [],
   "source": [
    "# Code testing area to help answer this question\n",
    "\n"
   ]
  },
  {
   "cell_type": "code",
   "execution_count": null,
   "metadata": {},
   "outputs": [],
   "source": [
    "# Enter your answer inside the string quotes and then run this cell to check your anwer\n",
    "\n",
    "answer = \"\"\n",
    "\n",
    "import hashlib\n",
    "assert answer in ['A', 'B', 'C', 'D'], \"Your answer did not match any of the choices\"\n",
    "assert hashlib.sha256(answer.encode()).hexdigest() == \\\n",
    "    '3f39d5c348e5b79d06e842c114e6cc571583bbf44e4b0ebfda1a01ec05745d43', \"Your answer is incorrect\"\n",
    "print(\"Your answer\", answer, \"is correct\") # Passed all assert statements above"
   ]
  },
  {
   "cell_type": "markdown",
   "metadata": {},
   "source": [
    "### Redirecting output\n",
    "\n",
    "Command lines generate output information on the screen. However, you can redirect this information to a file filename by adding `> filename` at the end of the command line. For example, we can redirect the detailed file list information given by `ls -l` to `file3.txt` instead of as command line output:\n",
    "```\n",
    "ls -l > file3.txt\n",
    "```\n",
    "\n",
    "\n",
    "You can also pass the output from one command to be input for another command. This is done by putting `|` between the two commands, this is called a 'pipe'.\n",
    "\n",
    "For instance the command:\n",
    "```\n",
    "$ ls -l dirname | less \n",
    "```\n",
    "will show the detailed file list in directory `dirname` one screen at a time with the less command.\n",
    "\n"
   ]
  },
  {
   "cell_type": "markdown",
   "metadata": {},
   "source": [
    "### More on redirecting output\n",
    "\n",
    "`grep` can also act inside a pipe to filter the text output from other commands, as in:\n",
    "```\n",
    "$ ls dirName | grep filter | less\n",
    "```\n",
    "This will show only filenames that have 'filter' in them. As shown in this example you can have multiple commands piped together."
   ]
  },
  {
   "cell_type": "markdown",
   "metadata": {},
   "source": [
    "### Task 4d:\n",
    "\n",
    "*(Try this out. You don't need to include any answers here.)*\n",
    "\n",
    "Use the pipe construction described above to list the contents of the directory `/bin` so that only a page at a time displays on the screen."
   ]
  },
  {
   "cell_type": "markdown",
   "metadata": {},
   "source": [
    "### Task 4e: Try out the following\n",
    "\n",
    "*(Try this out. You don't need to include any answers here.)*\n",
    "\n",
    "1. Use `ls` and `grep` to find files that contain the string 'ipynb' in `p210-2024/LectureSlides/`. \n",
    "1. Do this again, but redirect the output to a file called: mk-files.txt\n",
    "1. Use `less mk-files.txt` to verify that the list of files is correct"
   ]
  },
  {
   "cell_type": "markdown",
   "metadata": {},
   "source": [
    "### Wildcards\n",
    "\n",
    "Many commands can take a list of files or directories. To minimize the typing that you need to do, it is useful to use the concept of wildcards (using the asterisk character `*`)\n",
    "\n",
    "Example: `ls *.txt` will list all files in the current directory whose file names end in .txt"
   ]
  },
  {
   "cell_type": "markdown",
   "metadata": {},
   "source": [
    "### Task 4f:\n",
    "\n",
    "*(Try this out. You don't need to include any answers here.)*\n",
    "\n",
    "Compare the outputs of `ls` and `ls *.txt` in the directory that you have been working in."
   ]
  },
  {
   "cell_type": "markdown",
   "metadata": {},
   "source": [
    "## *Completing this solo worksheet and submitting it to Canvas*\n",
    "Before submitting your work, restart + rerun your entire notebook to make sure that everything runs correctly and without error.\n",
    "\n",
    "To do this:\n",
    "1. **Restart & Run All:** From the \"Kernel\" menu to the right of the \"Cell\" menu, select \"Restart & Run All\". This will restart the python Kernel, erasing all variables currently stored in memory so that when you \"Run All\" cells, you can ensure that if you were to run your notebook again on a later day, it would run as intended.\n",
    "1. Look through the whole notebook and make sure there are no errors. Many questions have purposeful errors in the distributed version so make sure you have fixed them all such that \"Restart & Run All\" will run through the whole book and successfully print \"The notebook ran without errors\" at the end. If you have any trouble resolving the errors, please ask one of your classmates or ask us in class or on Piazza.\n",
    "\n",
    "**Export notebook as HTML:** After you've executed and checked your notebook, choose: File => Save_and_Export_Notebook_As => HTML. This will download an HTML version of your notebook to your computer. This version is can not be executed or modified. You may need to disable any pop-up blockers to allow the file to be downloaded.\n",
    "\n",
    "**Submit to Canvas:** Submit the html file that you just downloaded to the appropriate Solo Worksheet submission on Canvas."
   ]
  },
  {
   "cell_type": "code",
   "execution_count": null,
   "metadata": {},
   "outputs": [],
   "source": []
  }
 ],
 "metadata": {
  "celltoolbar": "Create Assignment",
  "colab": {
   "provenance": []
  },
  "kernelspec": {
   "display_name": "Python 3",
   "language": "python",
   "name": "python3"
  },
  "language_info": {
   "codemirror_mode": {
    "name": "ipython",
    "version": 3
   },
   "file_extension": ".py",
   "mimetype": "text/x-python",
   "name": "python",
   "nbconvert_exporter": "python",
   "pygments_lexer": "ipython3",
   "version": "3.7.6"
  },
  "nbgrader": {
   "__altered": false,
   "__hash": 782104853,
   "_root": {
    "entries": [
     [
      "size",
      6
     ],
     [
      "_root",
      {
       "entries": [
        [
         "size",
         1
        ],
        [
         "_root",
         {
          "entries": [
           [
            "cocalc_minimal_stubs",
            false
           ]
          ],
          "ownerID": {}
         }
        ],
        [
         "__ownerID",
         null
        ],
        [
         "__hash",
         -335098374
        ],
        [
         "__altered",
         false
        ],
        [
         "cocalc_minimal_stubs",
         false
        ]
       ],
       "ownerID": {}
      }
     ],
     [
      "__hash",
      633336276
     ],
     [
      "__altered",
      false
     ],
     [
      "cocalc_minimal_stubs",
      false
     ]
    ],
    "ownerID": {}
   },
   "cocalc_minimal_stubs": false,
   "size": 5
  }
 },
 "nbformat": 4,
 "nbformat_minor": 1
}

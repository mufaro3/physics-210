{
 "cells": [
  {
   "cell_type": "markdown",
   "id": "a0232ba2-18e5-45d4-925a-afdc0401074a",
   "metadata": {
    "id": "s7LPEdMxDJwD"
   },
   "source": [
    "# PHYS 210, Homework 03\n",
    "Due Monday, Sep 15, 2025 at the start of class on Canvas"
   ]
  },
  {
   "cell_type": "markdown",
   "id": "50821cf0-da12-4de0-854f-9135c8f3db61",
   "metadata": {},
   "source": [
    "## *Task 1: Slicing and step practice*\n",
    "Which *one* of the following will not produce the list `['G', 'E', 'C']`?\n",
    "```python\n",
    "long = [\"A\", \"B\", \"C\", \"D\", \"E\", \"F\", \"G\", \"H\", \"I\", \"J\"]\n",
    "```\n",
    "A)\n",
    "```python\n",
    "long[6:0:-2]\n",
    "```\n",
    "B)\n",
    "```python\n",
    "long[-4:-9:-2]\n",
    "```\n",
    "C)\n",
    "```python\n",
    "long[2:8:2][::-1]\n",
    "```\n",
    "D)\n",
    "```python\n",
    "long[2:8][::-2]\n",
    "```\n",
    "E)\n",
    "```python\n",
    "short = []\n",
    "for i in range(6,0,-2):\n",
    "    short.append(long[i])\n",
    "print(short)\n",
    "```"
   ]
  },
  {
   "cell_type": "code",
   "execution_count": null,
   "id": "18582737-beae-464e-a5a7-a1d58c89535f",
   "metadata": {},
   "outputs": [],
   "source": [
    "# Code testing area to help answer this question\n",
    "\n"
   ]
  },
  {
   "cell_type": "code",
   "execution_count": 2,
   "id": "9dea1a04-f62b-4b41-a786-9d45d239947f",
   "metadata": {},
   "outputs": [
    {
     "name": "stdout",
     "output_type": "stream",
     "text": [
      "Your answer D is correct\n"
     ]
    }
   ],
   "source": [
    "# Enter your answer inside the string quotes and then run this cell to check your anwer\n",
    "\n",
    "answer = \"D\"\n",
    "\n",
    "import hashlib\n",
    "assert answer in ['A', 'B', 'C', 'D', 'E'], \"Your answer did not match any of the choices\"\n",
    "assert hashlib.sha256(answer.encode()).hexdigest() == \\\n",
    "    '3f39d5c348e5b79d06e842c114e6cc571583bbf44e4b0ebfda1a01ec05745d43', \"Your answer is incorrect\"\n",
    "print(\"Your answer\", answer, \"is correct\") # Passed all assert statements above"
   ]
  },
  {
   "cell_type": "markdown",
   "id": "a021d26b-198d-41f5-836c-e27d92375ab9",
   "metadata": {
    "id": "KKBcgJ-fDJwg"
   },
   "source": [
    "## *The Jupyter notebook debugger*"
   ]
  },
  {
   "cell_type": "markdown",
   "id": "e6509155-aea1-4ab2-8016-34b64a570ec7",
   "metadata": {},
   "source": [
    "Thus far in this course, we have used `print(..)` statements to help us perform debugging/troubleshooting when trying to locate problems with our code or to monitor the state of the program to ensure it is working as intended. Today we are going to learn how to use the Jupyter notebook debugger, which is a form of breakpoint debugger. This means that you'll be able to set points within your code where the execution will pause and you will be able to observe what the current values are that are stored in all of your variables. This can be very handy while working with loops when you are trying to figure out why they are working unexpectedly. \n",
    "\n",
    "The built-in Jupyter notebook debugger works only in JupyterLab, which is the interface that you have experienced with Jupyter Open (or syzygy or on the phys119 Jupyter serve). It does not work on CoCalc."
   ]
  },
  {
   "cell_type": "markdown",
   "id": "b52805f8-8df3-4e06-9d97-c3062b09579b",
   "metadata": {},
   "source": [
    "Let's run the debugger on a familiar `for`loop"
   ]
  },
  {
   "cell_type": "markdown",
   "id": "e1201361-a341-47eb-9386-5cc997e2425f",
   "metadata": {},
   "source": [
    "### Enable the debugger\n",
    "\n",
    "The first thing we need to do is enable the debugger. You will know that it can be enabled when you see that the small bug symbol is dark and solid, as shown below.\n",
    "\n",
    "![The Enable Debugger button is immediately to the left of \"Python 3 (ipykernal)\" in the upper-right corner of the notebook](img/debugger-button.png)\n",
    "\n",
    "<br>Click on it to enable the debugger. This will cause a side panel to appear. You can disable the debugger by clicking on the same button again when it is red.\n",
    "\n",
    "![The side panel is shown](img/debugger-disable-and-side-panel.png)"
   ]
  },
  {
   "cell_type": "markdown",
   "id": "c23543ee-f8c4-43cb-aeb7-f461ff06e649",
   "metadata": {},
   "source": [
    "### Set a breakpoint\n",
    "\n",
    "Click on `BREAKPOINTS` to open up that subpanel. You may have noticed that when you enabled the debugger, line numbers were added to your code. Go down to the `for` loop code below and click on the empty space immediately to the left of line 18 (`t += dt`) to set a breakpoint at that line of code. You should see a solid red circle appear where you clicked and you should now see an entry in the `BREAKPOINTS` side-panel\n",
    "\n",
    "![](img/debugger-set-breakpoint.png)"
   ]
  },
  {
   "cell_type": "markdown",
   "id": "70f300a4-adb8-486d-ad18-8424b8cf218d",
   "metadata": {},
   "source": [
    "### Run the code up to breakpoint\n",
    "\n",
    "Open up the `VARIABLES` subpanel and then run the for loop (below). You will see that a bunch of `function variables` suddenly appear in the `VARIABLES` subpanel. Let's describe what has happend.\n",
    "\n",
    "The code block has run up to, but not including the breakpoint and every variable that was created or updated is now displayed.\n",
    "* These variables are displayed in alphabetical order, not the order in which they were created. This first 10 lines of code initializes (creates and gives initial values to) the following variables: `t`, `dt`, `tmax`, `y`, `v` and `num_steps`. \n",
    "* On line 12, we enter the for loop and `i` is set to `0` on the first loop\n",
    "* On line 15, `y_next` is initialized with `y + v * dt\n",
    "* The code pauses execution immediately before running line 18. Thus, `y` is still `0` instead of having the same value as `y_next`, which is what will happend once line 18 runs\n",
    "\n",
    "![](img/debugger-run.png)"
   ]
  },
  {
   "cell_type": "markdown",
   "id": "026d702c-81db-49ab-a2d4-012444fcc162",
   "metadata": {},
   "source": [
    "### Step through the code\n",
    "\n",
    "The `CALLSTACK` subpanel has a number of different buttons on it and we are going to mention the use of the three most common ones that you will be using. Try them out.\n",
    "\n",
    "* **Continue:** Go to the next breakpoint. If you are in a loop (like we are), this will take you to the next iteration of the loops\n",
    "\n",
    "![](img/debugger-continue.png)\n",
    "\n",
    "* **Next:** Run the current line of code and go to the next one\n",
    "\n",
    "![](img/debugger-next.png)\n",
    "\n",
    "* **Terminate:** This is a bit of a misleading label since it actually runs the rest of the code block without stopping for breakpoints\n",
    "\n",
    "![](img/debugger-terminate.png)\n",
    "\n",
    "**Note:** After the code block has completed, to go back and run it again in debugging mode, you just need to go back and run/execute the cell again."
   ]
  },
  {
   "cell_type": "markdown",
   "id": "7d7ea9ab-244d-4e2f-8acd-7245dfc6d434",
   "metadata": {},
   "source": [
    "### Task 2.1\n",
    "\n",
    "Add a second breakpoint on the `break` line (line 25). Run the code and try using **Continue** until the code block completes and gives you the 'Break condition achieved' message. Check if all of the variables are what you expect them to be."
   ]
  },
  {
   "cell_type": "code",
   "execution_count": 1,
   "id": "e47e650d-ee27-404d-b490-6efa53619bd5",
   "metadata": {},
   "outputs": [
    {
     "name": "stdout",
     "output_type": "stream",
     "text": [
      "Break condition achieved\n"
     ]
    }
   ],
   "source": [
    "# Constants and initial values\n",
    "t = 0.0 # s\n",
    "dt = 0.1 # s\n",
    "tmax = 100.0 # s\n",
    "\n",
    "y = 0. # m\n",
    "v = 15.3 # m/s\n",
    "\n",
    "# Calculate the number of steps\n",
    "num_steps = int(tmax / dt)\n",
    "\n",
    "for i in range(num_steps):\n",
    "    \n",
    "    # Calculate the kinematic variables at t+dt\n",
    "    y_next = y + v * dt\n",
    "\n",
    "    # Update time\n",
    "    t += dt\n",
    "\n",
    "    # Update kinematic variables for the next step\n",
    "    y = y_next\n",
    "    \n",
    "    if y >= 10: # Changed from 100 in the original code\n",
    "        print(\"Break condition achieved\")\n",
    "        break"
   ]
  },
  {
   "cell_type": "markdown",
   "id": "9d4973d6-d748-4c72-8dc4-2a7cb97fda04",
   "metadata": {},
   "source": [
    "### Task 2.2\n",
    "\n",
    "The nested loop below is supposed to stop completely once the first match `i == j` has been found and then print out the matching numbers, but it is not working correctly. Use the Jupyter notebook debugger to help you figure out the issue so that you can fix it.      \n",
    "\n",
    "Note: It is likely that you will need to modify the code more than just moving the given pieces around."
   ]
  },
  {
   "cell_type": "code",
   "execution_count": 1,
   "id": "bf95fc40-65ef-437a-8da3-6a07fa80349f",
   "metadata": {},
   "outputs": [
    {
     "name": "stdout",
     "output_type": "stream",
     "text": [
      "4 4\n"
     ]
    }
   ],
   "source": [
    "endloop=False\n",
    "for i in range(5, 0, -1):\n",
    "    if endloop:\n",
    "        break\n",
    "    for j in range(1, 5): \n",
    "        if i == j:\n",
    "            print(i,j)\n",
    "            endloop=True\n",
    "            break"
   ]
  },
  {
   "cell_type": "markdown",
   "id": "7441ba4e-b621-4cee-80e7-16f1cfed09fc",
   "metadata": {
    "id": "q1_8qSQc3VRA"
   },
   "source": [
    "## *Task 3: Motion diagram*\n",
    "\n",
    "Using a `for` loop, write a small program that displays a representation of motion of a constant-velocity object moving across a 10 \"pixel\" track using print statements. Below are two examples where one frame refers to a printed line."
   ]
  },
  {
   "cell_type": "markdown",
   "id": "03958bb1-85dd-4340-9f27-c785fab8dce2",
   "metadata": {
    "id": "UJJIXfI_3VRC"
   },
   "source": [
    "**Example 1:** v = 1 (pixels/frame)\n",
    "```\n",
    "o_________               \n",
    "_o________          \n",
    "__o_______          \n",
    "___o______          \n",
    "____o_____          \n",
    "_____o____          \n",
    "______o___          \n",
    "_______o__          \n",
    "________o_          \n",
    "_________o                   \n",
    "```\n",
    "**Example 2:** v = 3 (pixels/frame)\n",
    "```\n",
    "o_________               \n",
    "___o______          \n",
    "______o___          \n",
    "_________o                  \n",
    "```"
   ]
  },
  {
   "cell_type": "markdown",
   "id": "3f92a7f6-467c-4c2e-90f5-0472cdaa477b",
   "metadata": {
    "id": "iff-cMAg3VRF"
   },
   "source": [
    "In your program, you should be able to change `v` such that v represents the number of pixels the object moves each frame. Although you can assume that `v` will always be an integer, you should include some conditional logic so that\n",
    "1. It never enters the loop when `v = 0`\n",
    "1. It does not display any frames for situations where only one frame would be displayed (see examples below)\n",
    "\n",
    "Not required, but try to build your program so that you use a single dynamic print statement within your loop instead of conditional logic leading to 10 different possible print statements.\n",
    "\n",
    "Check your output for the following values of `v`:\n",
    "* `v = 0`: Nothing should be printed\n",
    "* `v = 1` and `v = 3`: the above examples should be reproduced\n",
    "* `v = 7`: two lines should be printed\n",
    "* `v = 17`: no lines should be printed\n",
    "* `v = -3`: no lines should be printed"
   ]
  },
  {
   "cell_type": "code",
   "execution_count": 2,
   "id": "bca55b7f-8e3e-4a7d-ab01-c0993fb1d575",
   "metadata": {
    "id": "Ff1ylCva3VRI"
   },
   "outputs": [
    {
     "name": "stdout",
     "output_type": "stream",
     "text": [
      "o_________\n",
      "_______o__\n"
     ]
    }
   ],
   "source": [
    "# Your code here\n",
    "x=1\n",
    "v = int(7) # force this to always be an integer\n",
    "\n",
    "# for loop\n",
    "while x<=10:\n",
    "    print('_'*(x-1)+'o'+'_'*(10-x))\n",
    "    x += v"
   ]
  },
  {
   "cell_type": "markdown",
   "id": "b245cbcd-a4ca-471e-b086-c30ddf4d4f9e",
   "metadata": {},
   "source": [
    "**Optional bonus task:** Try to make the object bounce off the right wall. Share ***your output*** (not your code) for v = 3 on Piazza."
   ]
  },
  {
   "cell_type": "markdown",
   "id": "c5615a6f-df60-4a98-baac-696d9f2019fa",
   "metadata": {
    "id": "fz_u0eb53VRP"
   },
   "source": [
    "## *Task 4a: Fourth root estimate: Newton's Method*\n",
    "You may have seen Newton's Method [https://en.wikipedia.org/wiki/Newton's_method](https://en.wikipedia.org/wiki/Newton's_method) in a calculus class as a way to find roots of an equation. As a quick review, the method is illustrated in the figure:\n",
    "\n",
    "![](img/homework04-newtwon-method.png)\n",
    "\n",
    "The way it works is that you pick a starting point on the x-axis and call it $x_0$, (1.25 in the example above). You then evaluate the function, $f(x_0)$, and its derivative, $f'(x_0)$, at that point. Then using the derivative, slide down the tangent line (in blue) until you get back to the x axis. Call that point $x_1$. Then you can repeat the procedure, getting closer and closer to the root, which is where the equation passes through 0.\n",
    "\n",
    "This method can be expressed as:\n",
    "$$ x_{n+1} = x_n - \\frac{f(x_n)}{f'(x_n)}$$\n",
    "\n",
    "Subject to certain conditions on the function $f(x)$ and its first derivative (that we will not worry about), if $x_0$ is close enough to one of the roots, the sequence will converge to that nearest root.\n",
    "Because the function may have more than one root, which root is arrived at depends on the initial guess, $x_0$.\n",
    "\n",
    "Write a program, using a `for` loop, that finds the root of the funtion $f(x) = x^4-1$ by iterating Newton's method from the starting point `x0`. The output of this program should be two integer values:\n",
    "\n",
    "* `n`: This is the number of iterations of Newton's method that was required for convergence. Here we define convergence as when the distance between $x_n$ and one of the roots (`-1` or `1`) is less than 0.02. If the starting value, `x0`, is already within 0.02 of a root, the number of iterations required is 0. If it takes two iterations ($x_1$ and $x_2$), then this should be `n = 2`.\n",
    "* `root`: This is the value of the root that was converged to, `-1` or `1`.\n",
    "\n",
    "**Failure to converge:** Your loop should perform a maximum of 100 iterations. If it gets to a 100th iteration and then does not converge during that iteration, the values above should be `n = 100`, `root = -99`. Otherwise, if it does converge during the 100th iteration, the values should be `n = 100` and then `root = -1` or `root = 1`, as appropriate.\n",
    "\n",
    "We provide some assert statements below your code cell for you to check some initial values."
   ]
  },
  {
   "cell_type": "code",
   "execution_count": 14,
   "id": "db790b44-30fd-4462-a793-ee88c501bf9d",
   "metadata": {},
   "outputs": [
    {
     "name": "stdout",
     "output_type": "stream",
     "text": [
      "1.0 1\n"
     ]
    }
   ],
   "source": [
    "# Your code here\n",
    "\n",
    "f = lambda x: x ** 4 - 1\n",
    "fp = lambda x: 4 * x ** 3\n",
    "\n",
    "x0 = 1.1\n",
    "n  = 0\n",
    "root = 1\n",
    "estimate = x0\n",
    "\n",
    "while abs(estimate-root)<=0.2:\n",
    "    n += 1\n",
    "    estimate -= f(estimate)/fp(estimate)\n",
    "    if n >= 100:\n",
    "        break\n",
    "    \n",
    "    \n"
   ]
  },
  {
   "cell_type": "code",
   "execution_count": 15,
   "id": "7d030479-d64f-4d52-9766-adcc079d9d35",
   "metadata": {},
   "outputs": [
    {
     "ename": "AssertionError",
     "evalue": "",
     "output_type": "error",
     "traceback": [
      "\u001b[0;31m---------------------------------------------------------------------------\u001b[0m",
      "\u001b[0;31mAssertionError\u001b[0m                            Traceback (most recent call last)",
      "Cell \u001b[0;32mIn [15], line 7\u001b[0m\n\u001b[1;32m      5\u001b[0m     \u001b[38;5;28mprint\u001b[39m(\u001b[38;5;124m\"\u001b[39m\u001b[38;5;124mPassed the test for x0 =\u001b[39m\u001b[38;5;124m\"\u001b[39m,x0)\n\u001b[1;32m      6\u001b[0m \u001b[38;5;28;01melif\u001b[39;00m x0 \u001b[38;5;241m==\u001b[39m \u001b[38;5;241m1.1\u001b[39m:\n\u001b[0;32m----> 7\u001b[0m     \u001b[38;5;28;01massert\u001b[39;00m root \u001b[38;5;241m==\u001b[39m \u001b[38;5;241m1\u001b[39m \u001b[38;5;129;01mand\u001b[39;00m n \u001b[38;5;241m==\u001b[39m \u001b[38;5;241m1\u001b[39m\n\u001b[1;32m      8\u001b[0m     \u001b[38;5;28mprint\u001b[39m(\u001b[38;5;124m\"\u001b[39m\u001b[38;5;124mPassed the test for x0 =\u001b[39m\u001b[38;5;124m\"\u001b[39m,x0)\n\u001b[1;32m      9\u001b[0m \u001b[38;5;28;01melif\u001b[39;00m x0 \u001b[38;5;241m==\u001b[39m \u001b[38;5;241m-\u001b[39m\u001b[38;5;241m1.25\u001b[39m:\n",
      "\u001b[0;31mAssertionError\u001b[0m: "
     ]
    }
   ],
   "source": [
    "# Test your output here\n",
    "\n",
    "if x0 == 0.000005:\n",
    "    assert root == -99 and n == 100\n",
    "    print(\"Passed the test for x0 =\",x0)\n",
    "elif x0 == 1.1:\n",
    "    assert root == 1 and n == 1\n",
    "    print(\"Passed the test for x0 =\",x0)\n",
    "elif x0 == -1.25:\n",
    "    assert root == -1 and n == 2\n",
    "    print(\"Passed the test for x0 =\",x0)\n",
    "else:\n",
    "    print(\"Your test x0 value should be one of the values shown above\")"
   ]
  },
  {
   "cell_type": "markdown",
   "id": "2a8e8a27-7fe5-4eb0-8202-7e836fed6886",
   "metadata": {},
   "source": [
    "## *Task 4b: Fourth root estimate, part 2*\n",
    "\n",
    "Copy and modify your code from 4.3 so that it can instead accept a list `x0_list` as its input and then provide the lists `root_list` and `n_list` as its output. Like in the previous question, we provide some assert statements to provide feedback and help debug your code. Note that the `assert x0 ==` statement is to ensure you don't accidentally change `x0_list`."
   ]
  },
  {
   "cell_type": "code",
   "execution_count": null,
   "id": "d6f06a0d-9877-4182-b67b-13d8614e850a",
   "metadata": {},
   "outputs": [],
   "source": [
    "# Your code here\n",
    "x0_list = [0.00005, 1.1, -1.25, 0.000053, 0.000052, 1.01, -1.01, 0.99, -0.99, 0.001, -0.001]\n",
    "\n",
    "\n"
   ]
  },
  {
   "cell_type": "code",
   "execution_count": null,
   "id": "e784a2c5-1a80-4854-8a4c-d10d745f6f70",
   "metadata": {},
   "outputs": [],
   "source": [
    "# Use the assert statements below to check your results for x0_list\n",
    "\n",
    "assert x0_list == [5e-05, 1.1, -1.25, 5.3e-05, 5.2e-05, 1.01, -1.01, 0.99, -0.99, 0.001, -0.001]\n",
    "assert root_list == [-99, 1, -1, 1, -99, 1, -1, 1, -1, 1, -1]\n",
    "assert n_list == [100, 1, 2, 100, 100, 0, 0, 0, 0, 70, 70]\n",
    "\n",
    "print(\"Yay! All assert statements were passed\")"
   ]
  },
  {
   "cell_type": "markdown",
   "id": "d5aa72a4-7597-483a-af34-6aff425e849b",
   "metadata": {
    "id": "KKBcgJ-fDJwg"
   },
   "source": [
    "## *Completing this homework assignment and submitting it to Canvas*"
   ]
  },
  {
   "cell_type": "markdown",
   "id": "7d465bd8-6050-4004-9321-c7c871e27943",
   "metadata": {
    "id": "bDmgj-cYDJwg"
   },
   "source": [
    "Before submitting your work, restart + rerun your entire notebook to make sure that everything runs correctly and without error.\n",
    "\n",
    "To do this:\n",
    "1. **Restart & Run All:** From the \"Kernel\" menu to the right of the \"Cell\" menu, select \"Restart & Run All\". This will restart the python Kernel, erasing all variables currently stored in memory so that when you \"Run All\" cells, you can ensure that if you were to run your notebook again on a later day, it would run as intended.\n",
    "1. Look through the whole notebook and make sure there are no errors. Many questions have purposeful errors in the distributed version so make sure you have fixed them all such that \"Restart & Run All\" will run through the whole book and successfully print \"The notebook ran without errors\" at the end. If you have any trouble resolving the errors, please ask one of your classmates or ask us in class or on Piazza.\n",
    "\n",
    "**Export notebook as HTML:** After you've executed and checked your notebook, choose: File => Save_and_Export_Notebook_As => HTML. This will download an HTML version of your notebook to your computer. This version is can not be executed or modified. You may need to disable any pop-up blockers to allow the file to be downloaded."
   ]
  },
  {
   "cell_type": "code",
   "execution_count": null,
   "id": "8e39253a-c743-4807-87e1-f038ce5813f0",
   "metadata": {
    "id": "06eWAWMiDJwh",
    "tags": []
   },
   "outputs": [],
   "source": [
    "print(\"The notebook ran without errors\")"
   ]
  }
 ],
 "metadata": {
  "colab": {
   "provenance": []
  },
  "kernelspec": {
   "display_name": "Python 3 (ipykernel)",
   "language": "python",
   "name": "python3"
  },
  "language_info": {
   "codemirror_mode": {
    "name": "ipython",
    "version": 3
   },
   "file_extension": ".py",
   "mimetype": "text/x-python",
   "name": "python",
   "nbconvert_exporter": "python",
   "pygments_lexer": "ipython3",
   "version": "3.11.2"
  },
  "name": "Homework03.ipynb"
 },
 "nbformat": 4,
 "nbformat_minor": 1
}

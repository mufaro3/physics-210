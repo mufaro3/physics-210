{
 "cells": [
  {
   "cell_type": "markdown",
   "metadata": {
    "id": "68gKoP9jF9lU"
   },
   "source": [
    "# Day 09 Group Worksheet\n",
    "Oct 01, 2025\n",
    "\n",
    "If you're working on CoCalc, it's good to rename your notebook with a fun group name and to include your names below so that you can easily find it later for reference."
   ]
  },
  {
   "cell_type": "markdown",
   "metadata": {
    "id": "B8UKtrg1F9lm"
   },
   "source": [
    "* Group members:"
   ]
  },
  {
   "cell_type": "markdown",
   "metadata": {
    "id": "iFyc4sgriobb"
   },
   "source": [
    "## Electric Field Hockey tasks:\n",
    "Today, your goal (pun intended) is to make sense of, fix and then update the functionality of the [Electric Field Hockey](https://phet.colorado.edu/en/simulations/electric-hockey) starter code provided below. **Read through all of the tasks below before starting to work on them** since you may not progress through them linearly."
   ]
  },
  {
   "cell_type": "markdown",
   "metadata": {},
   "source": [
    "$$F = \\frac{kq_1 q_2}{|\\vec{r}|^2} \\hat{r}$$"
   ]
  },
  {
   "cell_type": "markdown",
   "metadata": {
    "id": "ss2V3qeyiobb"
   },
   "source": [
    "### Starter code (there's an additional copy at the end of the notebook for reference)"
   ]
  },
  {
   "cell_type": "code",
   "execution_count": 1,
   "metadata": {
    "id": "uUhlvfVpiobc",
    "outputId": "631e8379-c271-4eab-c011-616ba7d10f16"
   },
   "outputs": [],
   "source": [
    "import numpy as np\n",
    "import matplotlib.pyplot as plt\n",
    "\n",
    "# Euler's method for ODE integration\n",
    "def euler_method(initial_state, t_array, fixed_charges, q, k, m):\n",
    "    '''\n",
    "    Variables defined outside of this function:\n",
    "    - The constants k, q and m\n",
    "    - The nested list fixed_charges\n",
    "    '''\n",
    "    \n",
    "    x0, y0, vx0, vy0 = initial_state # Initial state vector for the moving charge\n",
    "\n",
    "    x_array = np.zeros_like(t_array, dtype=float)\n",
    "    y_array = np.zeros_like(t_array, dtype=float)\n",
    "    vx_array = np.zeros_like(t_array, dtype=float)\n",
    "    vy_array = np.zeros_like(t_array, dtype=float)\n",
    "\n",
    "    # Set initial values\n",
    "    x_array[0], y_array[0] = x0, y0\n",
    "    vx_array[0], vy_array[0] = vx0, vy0\n",
    "    \n",
    "    for i in range(1, len(t_array)): # Start at i=1 since i=0 already filled\n",
    "\n",
    "        # Quantities from the previous step; used for calculating next step quantities\n",
    "        t = t_array[i-1], \n",
    "        dt = t_array[i] - t_array[i-1]\n",
    "        x, y = x_array[i-1], y_array[i-1]\n",
    "        vx, vy = vx_array[i-1], vy_array[i-1]\n",
    "        \n",
    "        # Determine net force on the moving charge\n",
    "        fx, fy = 0, 0\n",
    "        for fixed_charge in fixed_charges: # Coulomb's Law forces exerted on the moving charge\n",
    "            x_fixed_charge, y_fixed_charge = fixed_charge[0], fixed_charge[1]\n",
    "            sign_fixed_charge = fixed_charge[2]\n",
    "            r = np.array([x-x_fixed_charge, y-y_fixed_charge])\n",
    "            dist = np.linalg.norm(r)\n",
    "            rhat = r / dist\n",
    "            fixed_charge_charge = q if fixed_charge[2] == 'r' else -q\n",
    "            f = k * (fixed_charge_charge * abs(q)) / dist ** 2\n",
    "            fx += f * rhat[0] # Fix me! x-component needed\n",
    "            fy += f * rhat[1] # Fix me! y-component needed\n",
    "\n",
    "        ax, ay = fx/m, fy/m\n",
    "\n",
    "        x_array[i] = x + dt * vx\n",
    "        y_array[i] = y + dt * vy\n",
    "        vx_array[i] = vx + dt * ax\n",
    "        vy_array[i] = vy + dt * ay\n",
    "        \n",
    "        if y_array[i] >= 1 or y_array[i] <= 0 or x_array[i] >= 1 or x_array[i] <= 0: # Fix me! There should be additional break conditions\n",
    "            break\n",
    "\n",
    "    return t_array[:i+1], [ x_array[:i+1], y_array[:i+1], vx_array[:i+1], vy_array[:i+1] ]"
   ]
  },
  {
   "cell_type": "code",
   "execution_count": 2,
   "metadata": {},
   "outputs": [],
   "source": [
    "def run_simulation(pos=(0.5, 0.01), \n",
    "                   fixed_charges=[[.2, .6, 'r']], \n",
    "                   vel=(0.0, 10.), \n",
    "                   q=1e-6, \n",
    "                   k = 8.9875517923e9,\n",
    "                   m = 1e-3,\n",
    "                   goal_dim=np.array([[.98, 1.],[.75, .85]]), \n",
    "                   plot=False):\n",
    "    # Times to be simulated\n",
    "    t0, tmax, dt = 0, 1, 0.001\n",
    "    t = np.arange(t0, tmax+dt, dt) # end is exclusive so we use end = tmax + dt\n",
    "\n",
    "    # Solve the system using Euler's method\n",
    "    state0=[pos[0], pos[1], vel[0], vel[1]]\n",
    "    sol_t, sol_results = euler_method(state0, t, fixed_charges, q, k, m)\n",
    "    sol_x, sol_y, sol_vx, sol_vy = sol_results\n",
    "\n",
    "    # Extract the final conditions to check for a goal\n",
    "    x_final, y_final, t_final = sol_x[-1], sol_y[-1], sol_t[-1]\n",
    "\n",
    "    # Use the extracted final conditions to check for a goal\n",
    "    found_goal = False\n",
    "    if x_final > 0.99 and (goal_dim[1,0] <= y_final) and (y_final <= goal_dim[1,1]):\n",
    "        goal_text = \"Goal!\"\n",
    "        found_goal = True\n",
    "    else:\n",
    "        goal_text = \"No goal :(\"\n",
    "\n",
    "    if plot:\n",
    "        fig, ax = plt.subplots(figsize=(8, 8))\n",
    "\n",
    "        ax.plot([goal_dim[0,1], goal_dim[0,1]], [goal_dim[1,0], goal_dim[1,1]])\n",
    "        ax.text(0.45, 0.90, goal_text, fontsize=20, color='red')\n",
    "\n",
    "        for fixed_charge in fixed_charges:\n",
    "            x_fixed_charge, y_fixed_charge = fixed_charge[0], fixed_charge[1]\n",
    "            sign_fixed_charge = fixed_charge[2]\n",
    "            ax.scatter(x_fixed_charge, y_fixed_charge, color=sign_fixed_charge, s=100)\n",
    "\n",
    "        ax.set_title(f'Initial velocity = ({state0[2]}, {state0[3]}) m/s')\n",
    "        ax.plot(sol_x, sol_y, color='r')    \n",
    "\n",
    "        ax.set_xlim([-.01, 1.01])\n",
    "        ax.set_ylim([-.01, 1.01])\n",
    "\n",
    "        ax.grid(True)\n",
    "        plt.show()\n",
    "    return found_goal"
   ]
  },
  {
   "cell_type": "code",
   "execution_count": 3,
   "metadata": {},
   "outputs": [
    {
     "data": {
      "image/png": "[encoded data removed]",
      "text/plain": [
       "<Figure size 800x800 with 1 Axes>"
      ]
     },
     "metadata": {},
     "output_type": "display_data"
    },
    {
     "data": {
      "text/plain": [
       "False"
      ]
     },
     "execution_count": 3,
     "metadata": {},
     "output_type": "execute_result"
    }
   ],
   "source": [
    "run_simulation(plot=True)"
   ]
  },
  {
   "cell_type": "markdown",
   "metadata": {
    "id": "wb8TtM3Uiobf"
   },
   "source": [
    "### Example of target output for goal and no goal situations\n",
    "You <u>do not</u> need to match the exact format and style of the example goal and no goal visualizations, but at minimum your visualizations should include information about the dimensions and units of the play area, as well as feedback embedded in the visualization regarding if a goal was scored or not.\n",
    "\n",
    "The left panel below shows how the simulation should behave **when the Coulomb's Law code has been fixed**, while keeping the initial state as `state0 = [0.5, 0.01, 0.0, 10.]`. The right panel shows what a successful goal could look like with a correct implementation of Coulomb's Law and an appropriate update to `vy0`. \n",
    "\n",
    "<table border=\"0\" cellspacing=\"0\" cellpadding=\"0\"><tr>\n",
    "    <td><img src=\"https://i.ibb.co/4JnNyYm/no-goal.png\" alt=\"No goal :(\"></td>\n",
    "    <td><img src=\"https://i.ibb.co/0c4rytG/goal-unknown-vy0.png\" alt=\"Goal!\"></td>\n",
    "</tr></table>"
   ]
  },
  {
   "cell_type": "markdown",
   "metadata": {
    "id": "XXIbz04Siobf"
   },
   "source": [
    "### Task 1. Make sense of the `fixed_charges` list\n",
    "We will treat the moving charge and the initial fixed charge as each having positive charge. If we wanted to add a negative charge as a second fixed charge, we could updated our `fixed_charges` list to something along the lines of:\n",
    "```python\n",
    "fixed_charges = [ [.2, .6, 'r'], [.6, .2, 'b'] ] # Example of adding a second negative charge\n",
    "```\n",
    "How does the `fixed_charges` list of lists work? Where are all of the places in the code that this list is used? What is represented by each element in the list `[.2, .6, 'r']`? For example, what does `charge[0]` represent within the for loop `for fixed_charge in fixed_charges:`?"
   ]
  },
  {
   "cell_type": "markdown",
   "metadata": {
    "id": "XK8G0wJ2iobg"
   },
   "source": [
    "(Your notes)\n",
    "* fixed_charge[0]: x=0.2, y=0.6, positive charge\n",
    "* fixed_charge[1]: x=0.6, y=0.2, negative charge"
   ]
  },
  {
   "cell_type": "markdown",
   "metadata": {
    "id": "A_sB0Tcliobg"
   },
   "source": [
    "### Task 2: Make sense of the parameters in the `euler_method()` function\n",
    "Have a careful look at the `euler_method()` function and make sure you understand how the information used for each of the following variables is made available to the function, as well as how that information is used within the function"
   ]
  },
  {
   "cell_type": "markdown",
   "metadata": {
    "id": "Tt9LUEXDiobg"
   },
   "source": [
    "* x0: Initial x position\n",
    "* y0: Initial y position\n",
    "* vx0: Initial x velocity\n",
    "* vy0: Initial y velocity\n",
    "* k: Coulomb's coefficient\n",
    "* q: Charge\n",
    "* m: Mass"
   ]
  },
  {
   "cell_type": "markdown",
   "metadata": {},
   "source": [
    "### Task 3: Make sense of the objects returned from the `euler_method()` functions\n",
    "The format of the information returned by the `euler_method()` function is intended to match the format returned by `solve_ivp()`, a solver that we are going to learn next class. So the format may seem a bit odd, but it was chosen with this specific purpose.\n",
    "\n",
    "Why is the slice `[:i+1]` being used when returning the arrays `t_array`, `x_array`, `y_array`, `vx_array`and `vy_array` from the `euler_method()` function?\n",
    "```python\n",
    "return t_array`[:i+1], [ x_array[:i+1], y_array[:i+1], vx_array[:i+1], vy_array[:i+1] ]\n",
    "```\n",
    "\n",
    "What information is stored in the returned objects `sol_t` and `sol_results`?\n",
    "```python\n",
    "sol_t, sol_results = euler_method(state0, t)\n",
    "```"
   ]
  },
  {
   "cell_type": "markdown",
   "metadata": {},
   "source": [
    "(Your notes)\n",
    "\n",
    "- This is returning the time array, and then the arrays for each of the changing values during the simulation like the position and velocity.\n",
    "- It uses `:i+1` to remove all of the remaining zeros in case the simulation doesn't run for the full number of indices."
   ]
  },
  {
   "cell_type": "markdown",
   "metadata": {
    "id": "gwa_oTCxiobh"
   },
   "source": [
    "### Task 4. Fix the Coulomb's Law code to be split into x- and y-components\n",
    "Based on the graphical output, it may look like Coulomb's Law is implemented correctly, **but it is not**. Fix it in the code."
   ]
  },
  {
   "cell_type": "markdown",
   "metadata": {
    "id": "HVMwUpoWiobh"
   },
   "source": [
    "### Task 5. Update the visualization to include feedback of if a goal was scored or not\n",
    "The starter code includes the `goal_text` variable to provide feedback related to if a goal was scored or not. Update the visualization to include the feedback provided by the `goal_text` variable. Also add your own personal details to the overall visualization to make it your own."
   ]
  },
  {
   "cell_type": "markdown",
   "metadata": {
    "id": "DIuSgHT3iobh"
   },
   "source": [
    "### Task 6. Score some goals!!!\n",
    "Below we want you to score a goal by varying the initial conditions in a bunch of specified ways. \n",
    "\n",
    "***Bonus challenge***: See if you can build a function such that you only have to provide the initial conditions instead of copying the full code to each new cell, e.g., `run_simulation(state0, fixed_charges, ...)"
   ]
  },
  {
   "cell_type": "markdown",
   "metadata": {
    "id": "l_sckT6Tiobh"
   },
   "source": [
    "#### a) Starting with the original initial parameters and charge locations, score a goal by changing only the initial speed of the moving charge"
   ]
  },
  {
   "cell_type": "code",
   "execution_count": 4,
   "metadata": {},
   "outputs": [],
   "source": [
    "def find_goals_by_initial_vel():\n",
    "    for initial_x_velocity in np.linspace(0,10,100):\n",
    "        for initial_y_velocity in np.linspace(0,10,100):\n",
    "            if run_simulation(vel=(initial_x_velocity, initial_y_velocity)):\n",
    "                print(initial_x_velocity, initial_y_velocity)"
   ]
  },
  {
   "cell_type": "code",
   "execution_count": 5,
   "metadata": {},
   "outputs": [],
   "source": [
    "#find_goals_by_initial_vel()"
   ]
  },
  {
   "cell_type": "code",
   "execution_count": 6,
   "metadata": {
    "id": "K849N6k1iobh"
   },
   "outputs": [
    {
     "data": {
      "image/png": "[encoded data removed]",
      "text/plain": [
       "<Figure size 800x800 with 1 Axes>"
      ]
     },
     "metadata": {},
     "output_type": "display_data"
    },
    {
     "data": {
      "text/plain": [
       "True"
      ]
     },
     "execution_count": 6,
     "metadata": {},
     "output_type": "execute_result"
    }
   ],
   "source": [
    "run_simulation(vel=(1, 6.4), plot=True)"
   ]
  },
  {
   "cell_type": "markdown",
   "metadata": {
    "id": "nzbXYolwiobh"
   },
   "source": [
    "#### b) Starting with the original initial parameters and charge locations, score a goal by the initial direction, but not initial speed of the moving charge"
   ]
  },
  {
   "cell_type": "code",
   "execution_count": 7,
   "metadata": {},
   "outputs": [],
   "source": [
    "def rotate_vector_2d(vec, theta):\n",
    "    rotation_matrix = \\\n",
    "        np.array([[np.cos(theta), -np.sin(theta)],\n",
    "                  [np.sin(theta),  np.cos(theta)]])\n",
    "    return rotation_matrix @ vec\n",
    "        \n",
    "def find_goals_by_angle(initial_speed):\n",
    "    for theta in np.linspace(0, 2 * np.pi, 100):\n",
    "        vel = rotate_vector_2d(np.array([1,0]), theta) * initial_speed\n",
    "        if run_simulation(vel=vel):\n",
    "                print(vel)"
   ]
  },
  {
   "cell_type": "code",
   "execution_count": 8,
   "metadata": {},
   "outputs": [],
   "source": [
    "#find_goals_by_angle(initial_speed=10)"
   ]
  },
  {
   "cell_type": "code",
   "execution_count": 9,
   "metadata": {
    "id": "Dr7D44T3iobi"
   },
   "outputs": [
    {
     "data": {
      "image/png": "[encoded data removed]",
      "text/plain": [
       "<Figure size 800x800 with 1 Axes>"
      ]
     },
     "metadata": {},
     "output_type": "display_data"
    },
    {
     "data": {
      "text/plain": [
       "True"
      ]
     },
     "execution_count": 9,
     "metadata": {},
     "output_type": "execute_result"
    }
   ],
   "source": [
    "run_simulation(vel=(4.15415013, 9.09631995), plot=True)"
   ]
  },
  {
   "cell_type": "markdown",
   "metadata": {
    "id": "zTQpbq-Wiobi"
   },
   "source": [
    "#### c) Starting with the original initial parameters and charge locations, score a goal by changing only the position of the fixed charge"
   ]
  },
  {
   "cell_type": "code",
   "execution_count": 10,
   "metadata": {},
   "outputs": [],
   "source": [
    "def find_goals_by_charge_pos():\n",
    "    for x in np.linspace(0, 1, 100):\n",
    "        for y in np.linspace(0, 1, 100):\n",
    "            if run_simulation(fixed_charges=[[x, y, 'r']]):\n",
    "                print(x, y)"
   ]
  },
  {
   "cell_type": "code",
   "execution_count": 11,
   "metadata": {
    "id": "ifXppL_Hiobi"
   },
   "outputs": [],
   "source": [
    "#find_goals_by_charge_pos()"
   ]
  },
  {
   "cell_type": "code",
   "execution_count": 12,
   "metadata": {},
   "outputs": [
    {
     "data": {
      "image/png": "[encoded data removed]",
      "text/plain": [
       "<Figure size 800x800 with 1 Axes>"
      ]
     },
     "metadata": {},
     "output_type": "display_data"
    },
    {
     "data": {
      "text/plain": [
       "True"
      ]
     },
     "execution_count": 12,
     "metadata": {},
     "output_type": "execute_result"
    }
   ],
   "source": [
    "run_simulation(fixed_charges=[[1/3, 1/4, 'r']], plot=True)"
   ]
  },
  {
   "cell_type": "markdown",
   "metadata": {
    "id": "jiyj9gHdiobi"
   },
   "source": [
    "#### d) Starting with the original initial parameters and charge locations, score a goal by changing sign of the fixed charge and then moving the fixed charge to an appropriate location"
   ]
  },
  {
   "cell_type": "code",
   "execution_count": 13,
   "metadata": {},
   "outputs": [],
   "source": [
    "def find_goals_by_charge_pos_and_sign(charge):\n",
    "    for x in np.linspace(0, 1, 100):\n",
    "        for y in np.linspace(0, 1, 100):\n",
    "            for sign in (-1, 1):\n",
    "                if run_simulation(fixed_charges=[[x, y, 'r']], q=charge*sign):\n",
    "                    print(x, y, charge*sign)"
   ]
  },
  {
   "cell_type": "code",
   "execution_count": 14,
   "metadata": {},
   "outputs": [
    {
     "name": "stdout",
     "output_type": "stream",
     "text": [
      "0.32323232323232326 0.25252525252525254 1e-06\n",
      "0.32323232323232326 0.26262626262626265 1e-06\n",
      "0.32323232323232326 0.27272727272727276 1e-06\n",
      "0.32323232323232326 0.2828282828282829 1e-06\n",
      "0.32323232323232326 0.29292929292929293 1e-06\n",
      "0.32323232323232326 0.30303030303030304 1e-06\n",
      "0.32323232323232326 0.32323232323232326 1e-06\n",
      "0.32323232323232326 0.33333333333333337 1e-06\n",
      "0.33333333333333337 0.16161616161616163 1e-06\n",
      "0.33333333333333337 0.17171717171717174 1e-06\n",
      "0.33333333333333337 0.18181818181818182 1e-06\n",
      "0.33333333333333337 0.19191919191919193 1e-06\n",
      "0.33333333333333337 0.20202020202020204 1e-06\n",
      "0.33333333333333337 0.21212121212121213 1e-06\n",
      "0.33333333333333337 0.22222222222222224 1e-06\n",
      "0.33333333333333337 0.23232323232323235 1e-06\n",
      "0.33333333333333337 0.24242424242424243 1e-06\n",
      "0.33333333333333337 0.25252525252525254 1e-06\n",
      "0.33333333333333337 0.26262626262626265 1e-06\n",
      "0.33333333333333337 0.27272727272727276 1e-06\n",
      "0.33333333333333337 0.2828282828282829 1e-06\n",
      "0.33333333333333337 0.29292929292929293 1e-06\n",
      "0.33333333333333337 0.30303030303030304 1e-06\n",
      "0.33333333333333337 0.31313131313131315 1e-06\n",
      "0.33333333333333337 0.32323232323232326 1e-06\n",
      "0.33333333333333337 0.33333333333333337 1e-06\n",
      "0.33333333333333337 0.3434343434343435 1e-06\n",
      "0.33333333333333337 0.3535353535353536 1e-06\n",
      "0.33333333333333337 0.36363636363636365 1e-06\n",
      "0.33333333333333337 0.37373737373737376 1e-06\n",
      "0.33333333333333337 0.38383838383838387 1e-06\n",
      "0.33333333333333337 0.393939393939394 1e-06\n",
      "0.33333333333333337 0.4040404040404041 1e-06\n",
      "0.33333333333333337 0.4141414141414142 1e-06\n",
      "0.33333333333333337 0.42424242424242425 1e-06\n",
      "0.3434343434343435 0.12121212121212122 1e-06\n",
      "0.3434343434343435 0.13131313131313133 1e-06\n",
      "0.3434343434343435 0.14141414141414144 1e-06\n",
      "0.3434343434343435 0.15151515151515152 1e-06\n",
      "0.3434343434343435 0.16161616161616163 1e-06\n",
      "0.3434343434343435 0.17171717171717174 1e-06\n",
      "0.3434343434343435 0.18181818181818182 1e-06\n",
      "0.3434343434343435 0.19191919191919193 1e-06\n",
      "0.3434343434343435 0.3434343434343435 1e-06\n",
      "0.3434343434343435 0.3535353535353536 1e-06\n",
      "0.3434343434343435 0.36363636363636365 1e-06\n",
      "0.3434343434343435 0.37373737373737376 1e-06\n",
      "0.3434343434343435 0.38383838383838387 1e-06\n",
      "0.3434343434343435 0.393939393939394 1e-06\n",
      "0.3434343434343435 0.4040404040404041 1e-06\n",
      "0.3434343434343435 0.4141414141414142 1e-06\n",
      "0.3434343434343435 0.42424242424242425 1e-06\n",
      "0.3434343434343435 0.43434343434343436 1e-06\n",
      "0.3434343434343435 0.4444444444444445 1e-06\n",
      "0.3434343434343435 0.4545454545454546 1e-06\n",
      "0.3434343434343435 0.4646464646464647 1e-06\n",
      "0.3434343434343435 0.4747474747474748 1e-06\n",
      "0.3434343434343435 0.48484848484848486 1e-06\n",
      "0.3434343434343435 0.494949494949495 1e-06\n",
      "0.3434343434343435 0.5050505050505051 1e-06\n",
      "0.3535353535353536 0.09090909090909091 1e-06\n",
      "0.3535353535353536 0.10101010101010102 1e-06\n",
      "0.3535353535353536 0.11111111111111112 1e-06\n",
      "0.3535353535353536 0.12121212121212122 1e-06\n",
      "0.3535353535353536 0.13131313131313133 1e-06\n",
      "0.3535353535353536 0.42424242424242425 1e-06\n",
      "0.3535353535353536 0.43434343434343436 1e-06\n",
      "0.3535353535353536 0.4444444444444445 1e-06\n",
      "0.3535353535353536 0.4545454545454546 1e-06\n",
      "0.3535353535353536 0.4646464646464647 1e-06\n",
      "0.3535353535353536 0.4747474747474748 1e-06\n",
      "0.3535353535353536 0.48484848484848486 1e-06\n",
      "0.3535353535353536 0.494949494949495 1e-06\n",
      "0.3535353535353536 0.5050505050505051 1e-06\n",
      "0.3535353535353536 0.5151515151515152 1e-06\n",
      "0.3535353535353536 0.5252525252525253 1e-06\n",
      "0.3535353535353536 0.5353535353535354 1e-06\n",
      "0.3535353535353536 0.5454545454545455 1e-06\n",
      "0.3535353535353536 0.5555555555555556 1e-06\n",
      "0.3535353535353536 0.5656565656565657 1e-06\n",
      "0.36363636363636365 0.07070707070707072 1e-06\n",
      "0.36363636363636365 0.08080808080808081 1e-06\n",
      "0.36363636363636365 0.09090909090909091 1e-06\n",
      "0.36363636363636365 0.10101010101010102 1e-06\n",
      "0.36363636363636365 0.494949494949495 1e-06\n",
      "0.36363636363636365 0.5050505050505051 1e-06\n",
      "0.36363636363636365 0.5151515151515152 1e-06\n",
      "0.36363636363636365 0.5252525252525253 1e-06\n",
      "0.36363636363636365 0.5353535353535354 1e-06\n",
      "0.36363636363636365 0.5454545454545455 1e-06\n",
      "0.36363636363636365 0.5555555555555556 1e-06\n",
      "0.36363636363636365 0.5656565656565657 1e-06\n",
      "0.36363636363636365 0.5757575757575758 1e-06\n",
      "0.36363636363636365 0.5858585858585859 1e-06\n",
      "0.36363636363636365 0.595959595959596 1e-06\n",
      "0.36363636363636365 0.6060606060606061 1e-06\n",
      "0.36363636363636365 0.6161616161616162 1e-06\n",
      "0.37373737373737376 0.06060606060606061 1e-06\n",
      "0.37373737373737376 0.07070707070707072 1e-06\n",
      "0.37373737373737376 0.5656565656565657 1e-06\n",
      "0.37373737373737376 0.5757575757575758 1e-06\n",
      "0.37373737373737376 0.5858585858585859 1e-06\n",
      "0.37373737373737376 0.595959595959596 1e-06\n",
      "0.37373737373737376 0.6060606060606061 1e-06\n",
      "0.37373737373737376 0.6161616161616162 1e-06\n",
      "0.37373737373737376 0.6262626262626263 1e-06\n",
      "0.37373737373737376 0.6363636363636365 1e-06\n",
      "0.37373737373737376 0.6464646464646465 1e-06\n",
      "0.37373737373737376 0.6565656565656566 1e-06\n",
      "0.37373737373737376 0.6666666666666667 1e-06\n",
      "0.37373737373737376 0.6767676767676768 1e-06\n",
      "0.38383838383838387 0.04040404040404041 1e-06\n",
      "0.38383838383838387 0.05050505050505051 1e-06\n",
      "0.38383838383838387 0.6262626262626263 1e-06\n",
      "0.38383838383838387 0.6363636363636365 1e-06\n",
      "0.38383838383838387 0.6464646464646465 1e-06\n",
      "0.38383838383838387 0.6565656565656566 1e-06\n",
      "0.38383838383838387 0.6666666666666667 1e-06\n",
      "0.38383838383838387 0.6767676767676768 1e-06\n",
      "0.38383838383838387 0.686868686868687 1e-06\n",
      "0.38383838383838387 0.696969696969697 1e-06\n",
      "0.38383838383838387 0.7070707070707072 1e-06\n",
      "0.38383838383838387 0.7171717171717172 1e-06\n",
      "0.38383838383838387 0.7272727272727273 1e-06\n",
      "0.393939393939394 0.030303030303030304 1e-06\n",
      "0.393939393939394 0.04040404040404041 1e-06\n",
      "0.393939393939394 0.6767676767676768 1e-06\n",
      "0.393939393939394 0.686868686868687 1e-06\n",
      "0.393939393939394 0.696969696969697 1e-06\n",
      "0.393939393939394 0.7070707070707072 1e-06\n",
      "0.393939393939394 0.7171717171717172 1e-06\n",
      "0.393939393939394 0.7272727272727273 1e-06\n",
      "0.393939393939394 0.7373737373737375 1e-06\n",
      "0.393939393939394 0.7474747474747475 1e-06\n",
      "0.393939393939394 0.7575757575757577 1e-06\n",
      "0.393939393939394 0.7676767676767677 1e-06\n",
      "0.393939393939394 0.7777777777777778 1e-06\n",
      "0.393939393939394 0.787878787878788 1e-06\n",
      "0.4040404040404041 0.020202020202020204 1e-06\n",
      "0.4040404040404041 0.7474747474747475 1e-06\n",
      "0.4040404040404041 0.7575757575757577 1e-06\n",
      "0.4040404040404041 0.7676767676767677 1e-06\n",
      "0.4040404040404041 0.7777777777777778 1e-06\n",
      "0.4040404040404041 0.787878787878788 1e-06\n",
      "0.4040404040404041 0.797979797979798 1e-06\n",
      "0.4040404040404041 0.8080808080808082 1e-06\n",
      "0.4040404040404041 0.8181818181818182 1e-06\n",
      "0.4040404040404041 0.8282828282828284 1e-06\n",
      "0.4040404040404041 0.8383838383838385 1e-06\n",
      "0.4141414141414142 0.010101010101010102 1e-06\n",
      "0.4141414141414142 0.8080808080808082 1e-06\n",
      "0.4141414141414142 0.8181818181818182 1e-06\n",
      "0.4141414141414142 0.8282828282828284 1e-06\n",
      "0.4141414141414142 0.8383838383838385 1e-06\n",
      "0.4141414141414142 0.8484848484848485 1e-06\n",
      "0.4141414141414142 0.8585858585858587 1e-06\n",
      "0.4141414141414142 0.8686868686868687 1e-06\n",
      "0.4141414141414142 0.8787878787878789 1e-06\n",
      "0.4141414141414142 0.888888888888889 1e-06\n",
      "0.4141414141414142 0.8989898989898991 1e-06\n",
      "0.4141414141414142 0.9090909090909092 1e-06\n",
      "0.42424242424242425 0.010101010101010102 1e-06\n",
      "0.42424242424242425 0.8787878787878789 1e-06\n",
      "0.42424242424242425 0.888888888888889 1e-06\n",
      "0.42424242424242425 0.8989898989898991 1e-06\n",
      "0.42424242424242425 0.9090909090909092 1e-06\n",
      "0.42424242424242425 0.9191919191919192 1e-06\n",
      "0.42424242424242425 0.9292929292929294 1e-06\n",
      "0.42424242424242425 0.9393939393939394 1e-06\n",
      "0.42424242424242425 0.9494949494949496 1e-06\n",
      "0.42424242424242425 0.9595959595959597 1e-06\n",
      "0.42424242424242425 0.9696969696969697 1e-06\n",
      "0.43434343434343436 0.0 1e-06\n",
      "0.43434343434343436 0.9595959595959597 1e-06\n",
      "0.43434343434343436 0.9696969696969697 1e-06\n",
      "0.43434343434343436 0.9797979797979799 1e-06\n",
      "0.43434343434343436 0.98989898989899 1e-06\n",
      "0.43434343434343436 1.0 1e-06\n",
      "0.5050505050505051 0.26262626262626265 -1e-06\n",
      "0.5050505050505051 0.37373737373737376 -1e-06\n",
      "0.5050505050505051 0.42424242424242425 -1e-06\n",
      "0.5151515151515152 0.24242424242424243 -1e-06\n",
      "0.5151515151515152 0.25252525252525254 -1e-06\n",
      "0.5151515151515152 0.5252525252525253 -1e-06\n",
      "0.5151515151515152 0.6565656565656566 -1e-06\n",
      "0.5151515151515152 0.7070707070707072 -1e-06\n",
      "0.5151515151515152 0.8080808080808082 -1e-06\n"
     ]
    },
    {
     "name": "stdout",
     "output_type": "stream",
     "text": [
      "0.5252525252525253 0.4141414141414142 -1e-06\n",
      "0.5252525252525253 0.42424242424242425 -1e-06\n",
      "0.5252525252525253 0.494949494949495 -1e-06\n",
      "0.5252525252525253 0.5050505050505051 -1e-06\n",
      "0.5252525252525253 0.5353535353535354 -1e-06\n",
      "0.5252525252525253 0.5454545454545455 -1e-06\n",
      "0.5252525252525253 0.595959595959596 -1e-06\n",
      "0.5252525252525253 0.686868686868687 -1e-06\n",
      "0.5252525252525253 0.696969696969697 -1e-06\n",
      "0.5252525252525253 0.7070707070707072 -1e-06\n",
      "0.5252525252525253 0.7171717171717172 -1e-06\n",
      "0.5353535353535354 0.5252525252525253 -1e-06\n",
      "0.5353535353535354 0.5353535353535354 -1e-06\n",
      "0.5353535353535354 0.5454545454545455 -1e-06\n",
      "0.5353535353535354 0.5555555555555556 -1e-06\n",
      "0.5353535353535354 0.5656565656565657 -1e-06\n",
      "0.5353535353535354 0.5757575757575758 -1e-06\n",
      "0.5353535353535354 0.5858585858585859 -1e-06\n",
      "0.5353535353535354 0.595959595959596 -1e-06\n",
      "0.5353535353535354 0.6060606060606061 -1e-06\n",
      "0.5353535353535354 0.6161616161616162 -1e-06\n",
      "0.5353535353535354 0.6262626262626263 -1e-06\n",
      "0.5454545454545455 0.5454545454545455 -1e-06\n",
      "0.5454545454545455 0.5555555555555556 -1e-06\n",
      "0.5454545454545455 0.5656565656565657 -1e-06\n",
      "0.5454545454545455 0.5757575757575758 -1e-06\n",
      "0.5454545454545455 0.5858585858585859 -1e-06\n",
      "0.5454545454545455 0.595959595959596 -1e-06\n",
      "0.5454545454545455 0.6060606060606061 -1e-06\n",
      "0.5454545454545455 0.6161616161616162 -1e-06\n",
      "0.5454545454545455 0.6262626262626263 -1e-06\n",
      "0.5555555555555556 0.5353535353535354 -1e-06\n",
      "0.5555555555555556 0.5454545454545455 -1e-06\n",
      "0.5555555555555556 0.5555555555555556 -1e-06\n",
      "0.5555555555555556 0.5656565656565657 -1e-06\n",
      "0.5555555555555556 0.5757575757575758 -1e-06\n",
      "0.5555555555555556 0.5858585858585859 -1e-06\n",
      "0.5555555555555556 0.595959595959596 -1e-06\n",
      "0.5555555555555556 0.6060606060606061 -1e-06\n",
      "0.5555555555555556 0.6161616161616162 -1e-06\n",
      "0.5555555555555556 0.6262626262626263 -1e-06\n",
      "0.5656565656565657 0.5454545454545455 -1e-06\n",
      "0.5656565656565657 0.5555555555555556 -1e-06\n",
      "0.5656565656565657 0.5656565656565657 -1e-06\n",
      "0.5656565656565657 0.5757575757575758 -1e-06\n",
      "0.5656565656565657 0.5858585858585859 -1e-06\n",
      "0.5656565656565657 0.595959595959596 -1e-06\n",
      "0.5656565656565657 0.6060606060606061 -1e-06\n",
      "0.5656565656565657 0.6161616161616162 -1e-06\n",
      "0.5656565656565657 0.6262626262626263 -1e-06\n",
      "0.5656565656565657 0.6363636363636365 -1e-06\n",
      "0.5757575757575758 0.5454545454545455 -1e-06\n",
      "0.5757575757575758 0.5555555555555556 -1e-06\n",
      "0.5757575757575758 0.5656565656565657 -1e-06\n",
      "0.5757575757575758 0.5757575757575758 -1e-06\n",
      "0.5757575757575758 0.5858585858585859 -1e-06\n",
      "0.5757575757575758 0.595959595959596 -1e-06\n",
      "0.5757575757575758 0.6060606060606061 -1e-06\n",
      "0.5757575757575758 0.6161616161616162 -1e-06\n",
      "0.5757575757575758 0.6262626262626263 -1e-06\n",
      "0.5858585858585859 0.5353535353535354 -1e-06\n",
      "0.5858585858585859 0.5454545454545455 -1e-06\n",
      "0.5858585858585859 0.5555555555555556 -1e-06\n",
      "0.5858585858585859 0.5656565656565657 -1e-06\n",
      "0.5858585858585859 0.5757575757575758 -1e-06\n",
      "0.5858585858585859 0.5858585858585859 -1e-06\n",
      "0.5858585858585859 0.595959595959596 -1e-06\n",
      "0.5858585858585859 0.6060606060606061 -1e-06\n",
      "0.5858585858585859 0.6161616161616162 -1e-06\n",
      "0.595959595959596 0.5252525252525253 -1e-06\n",
      "0.595959595959596 0.5353535353535354 -1e-06\n",
      "0.595959595959596 0.5454545454545455 -1e-06\n",
      "0.595959595959596 0.5555555555555556 -1e-06\n",
      "0.595959595959596 0.5656565656565657 -1e-06\n",
      "0.595959595959596 0.5757575757575758 -1e-06\n",
      "0.595959595959596 0.5858585858585859 -1e-06\n",
      "0.595959595959596 0.595959595959596 -1e-06\n",
      "0.595959595959596 0.6060606060606061 -1e-06\n",
      "0.6060606060606061 0.5050505050505051 -1e-06\n",
      "0.6060606060606061 0.5151515151515152 -1e-06\n",
      "0.6060606060606061 0.5252525252525253 -1e-06\n",
      "0.6060606060606061 0.5353535353535354 -1e-06\n",
      "0.6060606060606061 0.5454545454545455 -1e-06\n",
      "0.6060606060606061 0.5555555555555556 -1e-06\n",
      "0.6060606060606061 0.5656565656565657 -1e-06\n",
      "0.6060606060606061 0.5757575757575758 -1e-06\n",
      "0.6060606060606061 0.5858585858585859 -1e-06\n",
      "0.6161616161616162 0.48484848484848486 -1e-06\n",
      "0.6161616161616162 0.494949494949495 -1e-06\n",
      "0.6161616161616162 0.5050505050505051 -1e-06\n",
      "0.6161616161616162 0.5151515151515152 -1e-06\n",
      "0.6161616161616162 0.5252525252525253 -1e-06\n",
      "0.6161616161616162 0.5353535353535354 -1e-06\n",
      "0.6161616161616162 0.5454545454545455 -1e-06\n",
      "0.6161616161616162 0.5555555555555556 -1e-06\n",
      "0.6161616161616162 0.5656565656565657 -1e-06\n",
      "0.6262626262626263 0.4646464646464647 -1e-06\n",
      "0.6262626262626263 0.4747474747474748 -1e-06\n",
      "0.6262626262626263 0.48484848484848486 -1e-06\n",
      "0.6262626262626263 0.494949494949495 -1e-06\n",
      "0.6262626262626263 0.5050505050505051 -1e-06\n",
      "0.6262626262626263 0.5151515151515152 -1e-06\n",
      "0.6262626262626263 0.5252525252525253 -1e-06\n",
      "0.6262626262626263 0.5353535353535354 -1e-06\n",
      "0.6262626262626263 0.5454545454545455 -1e-06\n",
      "0.6363636363636365 0.4444444444444445 -1e-06\n",
      "0.6363636363636365 0.4545454545454546 -1e-06\n",
      "0.6363636363636365 0.4646464646464647 -1e-06\n",
      "0.6363636363636365 0.4747474747474748 -1e-06\n",
      "0.6363636363636365 0.48484848484848486 -1e-06\n",
      "0.6363636363636365 0.494949494949495 -1e-06\n",
      "0.6363636363636365 0.5050505050505051 -1e-06\n",
      "0.6363636363636365 0.5151515151515152 -1e-06\n",
      "0.6363636363636365 0.5252525252525253 -1e-06\n",
      "0.6464646464646465 0.4141414141414142 -1e-06\n",
      "0.6464646464646465 0.42424242424242425 -1e-06\n",
      "0.6464646464646465 0.43434343434343436 -1e-06\n",
      "0.6464646464646465 0.4444444444444445 -1e-06\n",
      "0.6464646464646465 0.4545454545454546 -1e-06\n",
      "0.6464646464646465 0.4646464646464647 -1e-06\n",
      "0.6464646464646465 0.4747474747474748 -1e-06\n",
      "0.6464646464646465 0.48484848484848486 -1e-06\n",
      "0.6464646464646465 0.494949494949495 -1e-06\n",
      "0.6565656565656566 0.38383838383838387 -1e-06\n",
      "0.6565656565656566 0.393939393939394 -1e-06\n",
      "0.6565656565656566 0.4040404040404041 -1e-06\n",
      "0.6565656565656566 0.4141414141414142 -1e-06\n",
      "0.6565656565656566 0.42424242424242425 -1e-06\n",
      "0.6565656565656566 0.43434343434343436 -1e-06\n",
      "0.6565656565656566 0.4444444444444445 -1e-06\n",
      "0.6565656565656566 0.4545454545454546 -1e-06\n",
      "0.6565656565656566 0.4646464646464647 -1e-06\n",
      "0.6666666666666667 0.3535353535353536 -1e-06\n",
      "0.6666666666666667 0.36363636363636365 -1e-06\n",
      "0.6666666666666667 0.37373737373737376 -1e-06\n",
      "0.6666666666666667 0.38383838383838387 -1e-06\n",
      "0.6666666666666667 0.393939393939394 -1e-06\n",
      "0.6666666666666667 0.4040404040404041 -1e-06\n",
      "0.6666666666666667 0.4141414141414142 -1e-06\n",
      "0.6666666666666667 0.42424242424242425 -1e-06\n",
      "0.6666666666666667 0.43434343434343436 -1e-06\n",
      "0.6767676767676768 0.33333333333333337 -1e-06\n",
      "0.6767676767676768 0.3434343434343435 -1e-06\n",
      "0.6767676767676768 0.3535353535353536 -1e-06\n",
      "0.6767676767676768 0.36363636363636365 -1e-06\n",
      "0.6767676767676768 0.37373737373737376 -1e-06\n",
      "0.6767676767676768 0.38383838383838387 -1e-06\n",
      "0.6767676767676768 0.393939393939394 -1e-06\n",
      "0.6767676767676768 0.4040404040404041 -1e-06\n",
      "0.6767676767676768 0.4141414141414142 -1e-06\n",
      "0.686868686868687 0.29292929292929293 -1e-06\n",
      "0.686868686868687 0.30303030303030304 -1e-06\n",
      "0.686868686868687 0.31313131313131315 -1e-06\n",
      "0.686868686868687 0.32323232323232326 -1e-06\n",
      "0.686868686868687 0.33333333333333337 -1e-06\n",
      "0.686868686868687 0.3434343434343435 -1e-06\n",
      "0.686868686868687 0.3535353535353536 -1e-06\n",
      "0.686868686868687 0.36363636363636365 -1e-06\n",
      "0.686868686868687 0.37373737373737376 -1e-06\n",
      "0.696969696969697 0.0 -1e-06\n",
      "0.696969696969697 0.010101010101010102 -1e-06\n",
      "0.696969696969697 0.25252525252525254 -1e-06\n",
      "0.696969696969697 0.26262626262626265 -1e-06\n",
      "0.696969696969697 0.27272727272727276 -1e-06\n",
      "0.696969696969697 0.2828282828282829 -1e-06\n",
      "0.696969696969697 0.29292929292929293 -1e-06\n",
      "0.696969696969697 0.30303030303030304 -1e-06\n",
      "0.696969696969697 0.31313131313131315 -1e-06\n",
      "0.696969696969697 0.32323232323232326 -1e-06\n",
      "0.696969696969697 0.33333333333333337 -1e-06\n",
      "0.696969696969697 0.3434343434343435 -1e-06\n",
      "0.7070707070707072 0.010101010101010102 -1e-06\n",
      "0.7070707070707072 0.020202020202020204 -1e-06\n",
      "0.7070707070707072 0.030303030303030304 -1e-06\n",
      "0.7070707070707072 0.04040404040404041 -1e-06\n",
      "0.7070707070707072 0.20202020202020204 -1e-06\n",
      "0.7070707070707072 0.21212121212121213 -1e-06\n",
      "0.7070707070707072 0.22222222222222224 -1e-06\n",
      "0.7070707070707072 0.23232323232323235 -1e-06\n",
      "0.7070707070707072 0.24242424242424243 -1e-06\n",
      "0.7070707070707072 0.25252525252525254 -1e-06\n",
      "0.7070707070707072 0.26262626262626265 -1e-06\n",
      "0.7070707070707072 0.27272727272727276 -1e-06\n",
      "0.7070707070707072 0.2828282828282829 -1e-06\n",
      "0.7070707070707072 0.29292929292929293 -1e-06\n",
      "0.7070707070707072 0.30303030303030304 -1e-06\n",
      "0.7171717171717172 0.030303030303030304 -1e-06\n",
      "0.7171717171717172 0.04040404040404041 -1e-06\n",
      "0.7171717171717172 0.05050505050505051 -1e-06\n",
      "0.7171717171717172 0.06060606060606061 -1e-06\n",
      "0.7171717171717172 0.07070707070707072 -1e-06\n",
      "0.7171717171717172 0.08080808080808081 -1e-06\n",
      "0.7171717171717172 0.09090909090909091 -1e-06\n",
      "0.7171717171717172 0.10101010101010102 -1e-06\n",
      "0.7171717171717172 0.11111111111111112 -1e-06\n",
      "0.7171717171717172 0.12121212121212122 -1e-06\n",
      "0.7171717171717172 0.13131313131313133 -1e-06\n",
      "0.7171717171717172 0.14141414141414144 -1e-06\n",
      "0.7171717171717172 0.15151515151515152 -1e-06\n",
      "0.7171717171717172 0.16161616161616163 -1e-06\n",
      "0.7171717171717172 0.17171717171717174 -1e-06\n",
      "0.7171717171717172 0.18181818181818182 -1e-06\n",
      "0.7171717171717172 0.19191919191919193 -1e-06\n",
      "0.7171717171717172 0.20202020202020204 -1e-06\n",
      "0.7171717171717172 0.21212121212121213 -1e-06\n",
      "0.7171717171717172 0.22222222222222224 -1e-06\n",
      "0.7171717171717172 0.23232323232323235 -1e-06\n",
      "0.7171717171717172 0.24242424242424243 -1e-06\n",
      "0.7171717171717172 0.25252525252525254 -1e-06\n",
      "0.7171717171717172 0.26262626262626265 -1e-06\n",
      "0.7171717171717172 0.27272727272727276 -1e-06\n"
     ]
    },
    {
     "name": "stdout",
     "output_type": "stream",
     "text": [
      "0.7272727272727273 0.07070707070707072 -1e-06\n",
      "0.7272727272727273 0.08080808080808081 -1e-06\n",
      "0.7272727272727273 0.09090909090909091 -1e-06\n",
      "0.7272727272727273 0.10101010101010102 -1e-06\n",
      "0.7272727272727273 0.11111111111111112 -1e-06\n",
      "0.7272727272727273 0.12121212121212122 -1e-06\n",
      "0.7272727272727273 0.13131313131313133 -1e-06\n",
      "0.7272727272727273 0.14141414141414144 -1e-06\n",
      "0.7272727272727273 0.15151515151515152 -1e-06\n",
      "0.7272727272727273 0.16161616161616163 -1e-06\n",
      "0.7272727272727273 0.17171717171717174 -1e-06\n",
      "0.7272727272727273 0.18181818181818182 -1e-06\n",
      "0.7272727272727273 0.19191919191919193 -1e-06\n",
      "0.7272727272727273 0.20202020202020204 -1e-06\n",
      "0.7272727272727273 0.21212121212121213 -1e-06\n"
     ]
    }
   ],
   "source": [
    "find_goals_by_charge_pos_and_sign(charge=1e-6)"
   ]
  },
  {
   "cell_type": "code",
   "execution_count": null,
   "metadata": {},
   "outputs": [],
   "source": [
    "def find_goals_by_charge_pos_and_sign(charge):\n",
    "    for xr in np.linspace(0, 1, 10):\n",
    "        for yr in np.linspace(0, 1, 10):\n",
    "            for xb in np.linspace(0, 1, 10):\n",
    "                for yb in np.linspace(0, 1, 10):\n",
    "                    if run_simulation(fixed_charges=[[1/3, 1/4, 'r'],[0.63, 0.45, 'b']]):\n",
    "                        print(x, y, charge*sign)"
   ]
  },
  {
   "cell_type": "code",
   "execution_count": 19,
   "metadata": {
    "id": "EfqyPauiiobi"
   },
   "outputs": [
    {
     "data": {
      "image/png": "[encoded data removed]",
      "text/plain": [
       "<Figure size 800x800 with 1 Axes>"
      ]
     },
     "metadata": {},
     "output_type": "display_data"
    },
    {
     "data": {
      "text/plain": [
       "False"
      ]
     },
     "execution_count": 19,
     "metadata": {},
     "output_type": "execute_result"
    }
   ],
   "source": [
    "# Your 6d code\n",
    "\n",
    "run_simulation(fixed_charges=[[1/3, 1/4, 'r'],[0.63, 0.45, 'b']], plot=True)"
   ]
  },
  {
   "cell_type": "markdown",
   "metadata": {
    "id": "RGwsTA11iobi"
   },
   "source": [
    "#### e) Starting with the original initial parameters and charge locations, score a goal by adding a second fixed charge of either sign"
   ]
  },
  {
   "cell_type": "code",
   "execution_count": 16,
   "metadata": {
    "id": "sHSKYNFKiobj"
   },
   "outputs": [],
   "source": [
    "# Your 6e code\n",
    "\n",
    "run_simulation(fixed_charges=[[0.63, 0.45, 'b']], q=-1e-6, plot=True)"
   ]
  },
  {
   "cell_type": "markdown",
   "metadata": {
    "id": "PH-W7eFXiobj"
   },
   "source": [
    "## Backup copy of starter code"
   ]
  },
  {
   "cell_type": "markdown",
   "metadata": {
    "id": "uUhlvfVpiobc",
    "outputId": "631e8379-c271-4eab-c011-616ba7d10f16"
   },
   "source": [
    "```python\n",
    "import numpy as np\n",
    "import matplotlib.pyplot as plt\n",
    "\n",
    "# Euler's method for ODE integration\n",
    "def euler_method(initial_state, t_array):\n",
    "    '''\n",
    "    Variables defined outside of this function:\n",
    "    - The constants k, q and m\n",
    "    - The nested list fixed_charges\n",
    "    '''\n",
    "    \n",
    "    x0, y0, vx0, vy0 = initial_state # Initial state vector for the moving charge\n",
    "\n",
    "    x_array = np.zeros_like(t_array, dtype=float)\n",
    "    y_array = np.zeros_like(t_array, dtype=float)\n",
    "    vx_array = np.zeros_like(t_array, dtype=float)\n",
    "    vy_array = np.zeros_like(t_array, dtype=float)\n",
    "\n",
    "    # Set initial values\n",
    "    x_array[0], y_array[0] = x0, y0\n",
    "    vx_array[0], vy_array[0] = vx0, vy0\n",
    "    \n",
    "    for i in range(1, len(t_array)): # Start at i=1 since i=0 already filled\n",
    "\n",
    "        # Quantities from the previous step; used for calculating next step quantities\n",
    "        t = t_array[i-1], \n",
    "        dt = t_array[i] - t_array[i-1]\n",
    "        x, y = x_array[i-1], y_array[i-1]\n",
    "        vx, vy = vx_array[i-1], vy_array[i-1]\n",
    "        \n",
    "        # Determine net force on the moving charge\n",
    "        fx, fy = 0, 0\n",
    "        for fixed_charge in fixed_charges: # Coulomb's Law forces exerted on the moving charge\n",
    "            x_fixed_charge, y_fixed_charge = fixed_charge[0], fixed_charge[1]\n",
    "            sign_fixed_charge = fixed_charge[2]            \n",
    "            r = np.sqrt((x-x_fixed_charge)**2 + (y-y_fixed_charge)**2)\n",
    "            fx += k * q**2 / r**2 # Fix me! x-component needed\n",
    "            fy += k * q**2 / r**2 # Fix me! y-component needed\n",
    "\n",
    "        ax, ay = fx/m, fy/m\n",
    "\n",
    "        x_array[i] = x + dt * vx\n",
    "        y_array[i] = y + dt * vy\n",
    "        vx_array[i] = vx + dt * ax\n",
    "        vy_array[i] = vy + dt * ay\n",
    "        \n",
    "        if y_array[i] >= 1.: # Fix me! There should be additional break conditions\n",
    "            break\n",
    "\n",
    "    return t_array[:i+1], [ x_array[:i+1], y_array[:i+1], vx_array[:i+1], vy_array[:i+1] ]\n",
    "        \n",
    "'''\n",
    "The main code area\n",
    "'''\n",
    "    \n",
    "# Constants\n",
    "k = 8.9875517923e9 # Coulomb's constant; N*m^2/C^2\n",
    "q = 1e-6 # Base charge is 1 uC\n",
    "m = 1e-3 # Base mass is 1 g\n",
    "\n",
    "goal_dim = np.array([[.98, 1.],[.75, .85]])\n",
    "\n",
    "# Initial state vector and fixed charge parameters\n",
    "state0 = [0.5, 0.01, 0.0, 10.] # x0, y0, vx0, vy0\n",
    "fixed_charges = [ [.2, .6, 'r'] ] # For each charge: x, y and sign of charge\n",
    "\n",
    "# Times to be simulated\n",
    "t0, tmax, dt = 0, 1, 0.001\n",
    "t = np.arange(t0, tmax+dt, dt) # end is exclusive so we use end = tmax + dt\n",
    "\n",
    "# Solve the system using Euler's method\n",
    "sol_t, sol_results = euler_method(state0, t)\n",
    "sol_x, sol_y, sol_vx, sol_vy = sol_results\n",
    "\n",
    "# Extract the final conditions to check for a goal\n",
    "x_final, y_final, t_final = sol_x[-1], sol_y[-1], sol_t[-1]\n",
    "\n",
    "# Use the extracted final conditions to check for a goal\n",
    "if x_final > 0.99 and goal_dim[1,0] <= y_final <= goal_dim[1,1]:\n",
    "    goal_text = \"Goal!\"\n",
    "else:\n",
    "    goal_text = \"No goal :(\"\n",
    "\n",
    "    \n",
    "'''\n",
    "Plotting\n",
    "'''\n",
    "\n",
    "fig, ax = plt.subplots(figsize=(8, 8))\n",
    "\n",
    "ax.plot([goal_dim[0,1], goal_dim[0,1]], [goal_dim[1,0], goal_dim[1,1]])\n",
    "\n",
    "for fixed_charge in fixed_charges:\n",
    "    x_fixed_charge, y_fixed_charge = fixed_charge[0], fixed_charge[1]\n",
    "    sign_fixed_charge = fixed_charge[2]\n",
    "    ax.scatter(x_fixed_charge, y_fixed_charge, color=sign_fixed_charge, s=100)\n",
    "\n",
    "ax.plot(sol_x, sol_y, color='r')\n",
    "\n",
    "ax.set_xlim([-.01, 1.01])\n",
    "ax.set_ylim([-.01, 1.01])\n",
    "\n",
    "ax.grid(True)\n",
    "plt.show()\n",
    "```"
   ]
  }
 ],
 "metadata": {
  "colab": {
   "provenance": []
  },
  "kernelspec": {
   "display_name": "Python 3 (ipykernel)",
   "language": "python",
   "name": "python3"
  },
  "language_info": {
   "codemirror_mode": {
    "name": "ipython",
    "version": 3
   },
   "file_extension": ".py",
   "mimetype": "text/x-python",
   "name": "python",
   "nbconvert_exporter": "python",
   "pygments_lexer": "ipython3",
   "version": "3.11.2"
  }
 },
 "nbformat": 4,
 "nbformat_minor": 1
}

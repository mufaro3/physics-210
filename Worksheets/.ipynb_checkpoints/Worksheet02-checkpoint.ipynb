{
 "cells": [
  {
   "cell_type": "markdown",
   "id": "5021e1d9-7f73-4aa7-8d94-eef9c4d2ef29",
   "metadata": {
    "collapsed": false
   },
   "source": [
    "# Day 02 Group Worksheet\n",
    "Sept 08, 2025"
   ]
  },
  {
   "cell_type": "markdown",
   "id": "4b5d4c42-0c11-44fe-a2d1-bd7762909f04",
   "metadata": {
    "collapsed": false
   },
   "source": [
    "If you're working on CoCalc, it's good to rename your notebook with a fun group name and to include all group member names below so that you can easily find it later for reference."
   ]
  },
  {
   "cell_type": "markdown",
   "id": "12ba3f10-e261-439b-a82e-974f631a8781",
   "metadata": {
    "collapsed": false
   },
   "source": [
    "* Group members:   "
   ]
  },
  {
   "cell_type": "markdown",
   "id": "ad59eb67-8657-43e7-825b-4c2dd9d3ae05",
   "metadata": {
    "collapsed": false
   },
   "source": [
    "## Task 1: Playing with syntax\n",
    "In the cell below, try out each of the following sub-tasks. In a few words, explain the results to each sub-task in the cell below.\n",
    "1. In printed math notation, you can multiply x and y like this: $xy$.  What happens if you try that in python?\n",
    "1. What if you import numpy as np, but call numpy.sin(2)?\n",
    "1. What is the difference between using `+` and `*` for strings and numbers?\n",
    "1. Can you use `-` or `/` on strings?\n",
    "1. Is there a difference between defining a string as `string1 = 'all the words'` vs `string2 = \"all the words\"`? Can you define one by mixing the two, `string3 = 'all the words\"`?\n",
    "1. You can use a minus sign to make a negative number like -2. What happens if you put a plus sign before a number? What about `2++2` or `2 ++ +2`?\n",
    "1. In math notation, leading zeros are ok, as in 09. What happens if you try this in Python?"
   ]
  },
  {
   "cell_type": "code",
   "execution_count": null,
   "id": "5818dc12-74e7-43f2-b6b8-34083de8162c",
   "metadata": {
    "collapsed": false
   },
   "outputs": [],
   "source": [
    "# Do your testing here\n",
    "\n"
   ]
  },
  {
   "cell_type": "markdown",
   "id": "3058fbb0-e730-4494-860f-a9af71ef16f1",
   "metadata": {
    "collapsed": false
   },
   "source": [
    "Put your responses to \"Playing with syntax\" in this cell:\n",
    "\n",
    "1. ...\n",
    "1. ...\n",
    "1. ...\n",
    "1. ...\n",
    "1. ...\n",
    "1. ...\n",
    "1. ..."
   ]
  },
  {
   "cell_type": "markdown",
   "id": "f54ee7a4-796c-4ef4-a2bc-d6b82ac164a1",
   "metadata": {
    "collapsed": false
   },
   "source": [
    "## Task 2:Debugging\n",
    "The code in the following cell should print: \n",
    "```\n",
    "sin(1.987) =  \n",
    "x.xxxxx\n",
    "is less than 8 is True\n",
    "```\n",
    "Find and correct the mistakes (there are multiple). `x.xxxxx` represents that actual numerical value of sin for that value to the number of decimal places specified."
   ]
  },
  {
   "cell_type": "code",
   "execution_count": null,
   "id": "10c9416a-3456-42a4-b6b8-28d7f9d9f0e6",
   "metadata": {
    "collapsed": false
   },
   "outputs": [],
   "source": [
    "print(sin(1.987) = )\n",
    "print(np.sin(1.987))\n",
    "\n",
    "sometext = 'ibidbu is less than dodi'\n",
    "subtext = sometext[6:17]\n",
    "A = 16/2\n",
    "print(subtext , A, \"is\", (A > np.sin(1.987)))"
   ]
  },
  {
   "cell_type": "markdown",
   "id": "651d869c-0465-4406-9478-918f57b1d413",
   "metadata": {
    "collapsed": false
   },
   "source": [
    "## Task 3: Math practice\n",
    "\n",
    "Zerubbabel says they are 441200 hours old. Use python to print their age in years, days and hours. Your program should print a line that looks like: \n",
    "```\n",
    "Zerubbabel is y years, d days and h hours old\n",
    "```\n",
    "where `y`, `d` and `h` are replaced with the appropriate numbers. Let's not discuss the fact that by the time you figure out their age, they will already be older.\n",
    "\n",
    "Ignore leap years (assume every year has 365 days).\n",
    "\n",
    "Use string concatenation or string formatting to print it all in one statement. Hint: if you use string concatenation, you can convert from one variable type to another using `str()` or `int()`."
   ]
  },
  {
   "cell_type": "code",
   "execution_count": null,
   "id": "3a7a7008-6e60-4c49-ac55-02f2042b86dc",
   "metadata": {
    "collapsed": false
   },
   "outputs": [],
   "source": [
    "# Code for Zerubbabel's age here.\n",
    "\n"
   ]
  },
  {
   "cell_type": "markdown",
   "id": "58e9e2ba-6fbc-4fff-859c-4c37a96fb1b2",
   "metadata": {
    "collapsed": false
   },
   "source": [
    "## Task 4: Practice with indexing strings among us\n",
    "Someone in this class is an imposter and sent out a secret message to reveal their identity to the other imposters in class. Write code in python to complete the steps below to find out who it is!\n",
    "```\n",
    "A = 'dsjsoofdjsnwraebseiyiuhjijenrheegrbeqiloieskjbdkb'\n",
    "```\n",
    "\n",
    "**Steps: (use python code to do all of the steps)**\n",
    "\n",
    "First letter:\n",
    "1. Get the number of times ‘o’ appears in the string in between positions 2 and 8 (inclusive) when counting from 1.\n",
    "    * When indexing a string, remember that indices start counting at 0, so the firstt letter 'd' is index 0, but is position 1Remember that an index starts atRemember the difference between element number (how most of us are used to counting) and index, which starts at 0 for the left-most element.\n",
    "2. This is the _index_ of string A which is the first letter\n",
    "3. Capitalize it\n",
    "\n",
    "\n",
    "Second letter:\n",
    "1. Take the length of the string A, divide it by 7 and add 3. Round down to the nearest integer (floor division) to ensure you are using an integer as for your index.\n",
    "2. The answer from 1 is the _negative index_ of the second letter. This means that if you calculated `5` in step 1, you are looking for the letter found at `A[-5]`. \n",
    "   * Remember that negative indices start at the right-most position (`b`) with an index of `-1`, and then the second position from the right (`k`) has an index of `-2`, and so on.\n",
    "\n",
    "\n",
    "Third letter:\n",
    "1. Create a string that is made up of _every second letter_ from index 14 to index 34 (inclusive). You may wish to use an internet search or Generative AI (see Task 7) to figure out how to choose every second letter when slicing. We will learn more about this soon when we are learning about lists.\n",
    "2. Find the number of times the letter `i` is in this substring and raise this number to the power of 2. This is the _index_ of the third letter\n",
    "\n",
    "\n",
    "Fourth Letter:\n",
    "1. Add the number of times the letter `e` appears to the number of times the letter `c` appears (in the whole string). Use this as a negative index to determine the fourth letter."
   ]
  },
  {
   "cell_type": "code",
   "execution_count": null,
   "id": "6b6eec57-a2bf-4b16-ac7a-f427bb7574e4",
   "metadata": {
    "collapsed": false
   },
   "outputs": [],
   "source": [
    "# Code for your answer here\n",
    "\n"
   ]
  },
  {
   "cell_type": "markdown",
   "id": "4ba781e9-d2bf-4788-819f-c22c61eaedb0",
   "metadata": {
    "collapsed": false
   },
   "source": [
    "## Task 5: Group-activity decision-maker\n",
    "Write some code to help your group decide what to do based on the weather and available budget. Use the variables below and write conditional statements that print different activity recommendations. After you are done coding the different conditions, go back and double-check that your logic still works correctly for each condition."
   ]
  },
  {
   "cell_type": "code",
   "execution_count": null,
   "id": "fd1cc8c7-8c48-4d6b-84da-2219e3b6e4a4",
   "metadata": {
    "collapsed": false
   },
   "outputs": [],
   "source": [
    "weather = \"sunny\"  # could be \"sunny\", \"rainy\", \"snowy\", \"cloudy\"\n",
    "budget = 25        # dollars available\n",
    "temperature = 18   # degrees Celsius\n",
    "group_size = 4     # number of people in your group\n",
    "\n",
    "# Write if/elif/else statements to recommend activities. E.g.,\n",
    "# - \"Go hiking!\" (if sunny and warm and budget > 10)\n",
    "# - \"Movie time!\" (if rainy or cold and budget > 60)\n",
    "# - \"Study session!\" (if budget < 20)\n",
    "# - etc. Be creative and make sure every group member adds a condition!"
   ]
  },
  {
   "cell_type": "markdown",
   "id": "245ced6b-36e1-4c94-8644-a402f77e0094",
   "metadata": {
    "collapsed": false
   },
   "source": [
    "## Task 6: Group check-out for engagement points\n",
    "Only Tasks 1-5 are required for engagement points today. Once you reach **this point on the worksheet** call one of the members of the teaching team over to ask you some check-out questions. \n",
    "\n",
    "Afterward (or while you are waiting), we encourage you to try out the optional sequence of Tasks below."
   ]
  },
  {
   "cell_type": "markdown",
   "id": "94cf1926-9929-4a89-9927-64175afa5e71",
   "metadata": {
    "collapsed": false
   },
   "source": [
    "## (Optional) Task 7: Getting started with Generative AI\n",
    "\n",
    "_**You are not required to use Generative AI in this course so please determine your own level of comfort in terms of how much you wish to engage with these tasks. Please feel free to split up the tasks or group up using a single computer.**_\n",
    "\n",
    "Be aware that if you create accounts for any of these services, any personal information used to create this account will be available to this service. As an additional precaution, you may wish to use a pseudonym and/or temporary email address for account creation. Additionally, information entered into the toola may be shared outside of Canada.\n",
    "\n",
    "**GenAI services which do not require an account**\n",
    "\n",
    "Each of these services can be interacted with in a limited fashion from an incognito browser in a way that does not require a login. \n",
    "\n",
    "* https://copilot.microsoft.com/ - Like with all of the online Microsoft products, you can login to this using your  @student.ubc.ca email address and your CWL password. As of August, 2025, Copilot is built on GPT-5 (the same large language model as ChatGPT) and uses servers in Canada. See also \n",
    "[UBC guidance for use](https://ai.ctlt.ubc.ca/microsoft-copilot-for-organizations/).\n",
    "\n",
    "* https://chatgpt.com/ - The free, no login version is ChatGPT 4o mini. (see [UBC guidance for use](https://ai.ctlt.ubc.ca/chatgpt-without-an-account/)). You can also create a free account for additional functionality and access to a powerful version.\n",
    "\n",
    "* https://www.meta.ai/ - This requires an age verification prompt if using without logging in. \n",
    "\n",
    "* https://chat.mistral.ai/ - Mistral's GenAI\n",
    "\n",
    "**GenAI services which require a free account**\n",
    "\n",
    "* https://gemini.google.com/ - Google's GenAI\n",
    "* https://claude.ai/ - Anthropic's GenAI\n",
    "\n",
    "**GenAI services available from within CoCalc**\n",
    "\n",
    "* With your free CoCalc account you will find a \"generate with AI\" link inside the Jupyter cells. After you enter your prompt, you can choose which GenAI to use beside the \"Generate with...\" button. This gives you access to compact versions of ChatGPT, Gemini, Claude and Mistral."
   ]
  },
  {
   "cell_type": "markdown",
   "id": "b7fc22c6-4f18-4bbc-89d9-889438c9484b",
   "metadata": {
    "collapsed": false
   },
   "source": [
    "### Task 7.1\n",
    "To the degree that you are comfortable doing so, each person in your group should choose a different one of the services above for this question and the following questions:\n",
    "\n",
    "\n",
    "* Use your chosen service to learn how to get a value for 1/e in python. An example prompt you could use is \"How do I calculate 1/e in python?\", but you should experiment to learn different ways to write a prompt. Ask it how to get values for pi, tau and other mathematical constants using different styles of prompts. What happens if you ask it to specifically use the math or numpy libraries? What happens if you ask it for a function as opposed to a constant?\n",
    "* Compare with the other people in your group and record a few notes on what you learned about the different services or different ways of creating generative AI prompts\n"
   ]
  },
  {
   "cell_type": "markdown",
   "id": "68498d43-1bb5-4e50-a147-be26dac1a5a1",
   "metadata": {
    "collapsed": false
   },
   "source": [
    "**Notes on 7.1 for group member #1**\n",
    "* ...\n",
    "* ...\n",
    "* ..."
   ]
  },
  {
   "cell_type": "markdown",
   "id": "71f3b333-8ae2-477d-a296-f795b5ebfc4a",
   "metadata": {
    "collapsed": false
   },
   "source": [
    "**Notes on 7.1 for group member #2**\n",
    "* ...\n",
    "* ...\n",
    "* ..."
   ]
  },
  {
   "cell_type": "markdown",
   "id": "a4db0167-ce38-4f1e-a3bf-425a2e40f94e",
   "metadata": {
    "collapsed": false
   },
   "source": [
    "**Notes on 7.1 for group member #3**\n",
    "* ...\n",
    "* ...\n",
    "* ..."
   ]
  },
  {
   "cell_type": "markdown",
   "id": "7a5c9c4a-1c18-4a2f-9f0e-0da68f4e7df9",
   "metadata": {
    "collapsed": false
   },
   "source": [
    "**Notes on 7.1 for group member #4**\n",
    "* ...\n",
    "* ...\n",
    "* ..."
   ]
  },
  {
   "cell_type": "markdown",
   "id": "8763588f-d6b0-4d08-aabf-0053ca0a92a9",
   "metadata": {
    "collapsed": false
   },
   "source": [
    "### Task 7.2\n",
    "* Use your preferred string formatting method to create a string \"After one time constant a value decays to (something) or (something else) of its original value\" using a string variable `oneovere = \"1/e\"` and your preferred method of determining a `value` for 1/e from Task 7.1. Recall that the string formatting methods are percent-style string formatting (old style), str.format() (new style) and f-strings.\n",
    "* Apply your string formatting method to `my_string` to incorporate `oneovere` and `value` in a way that will give the desired output to pass the assert statement\n",
    "* Your group can choose to all work on your individual preferred methods, team-up to work on one method, or divide up the different string formatting approaches between group members"
   ]
  },
  {
   "cell_type": "markdown",
   "id": "4d857e40-d7fd-47e7-b743-ebfb06c4f149",
   "metadata": {
    "collapsed": false
   },
   "source": [
    "**Code for group member or method #1**"
   ]
  },
  {
   "cell_type": "code",
   "execution_count": null,
   "id": "92366804-183f-4cd2-9532-3088a78839e0",
   "metadata": {
    "collapsed": false
   },
   "outputs": [],
   "source": [
    "# Update the code to pass the assert statement\n",
    "\n",
    "oneovere1 = \"1/e\"\n",
    "value1 =  # Use a math or numpy constant or function\n",
    "my_string1 = \"After one time constant a value decays to (something) or (something else) of its original value\""
   ]
  },
  {
   "cell_type": "code",
   "execution_count": null,
   "id": "a2f2e056-814e-4ea1-9166-c1501c7891f2",
   "metadata": {
    "collapsed": false
   },
   "outputs": [],
   "source": [
    "assert my_string1 == \"After one time constant a value decays to 1/e or 36.8% of its original value\""
   ]
  },
  {
   "cell_type": "markdown",
   "id": "9349e905-c78b-411b-a62a-a299b76f0f06",
   "metadata": {
    "collapsed": false
   },
   "source": [
    "**Code for group member or method #2**"
   ]
  },
  {
   "cell_type": "code",
   "execution_count": null,
   "id": "c7d3f138-c9c7-4c41-93c9-6ad5ac921e12",
   "metadata": {
    "collapsed": false
   },
   "outputs": [],
   "source": [
    "# Update the code to pass the assert statement\n",
    "\n",
    "oneovere2 = \"1/e\"\n",
    "value2 =  # Use a math or numpy constant or function\n",
    "my_string2 = \"After one time constant a value decays to (something) or (something else) of its original value\""
   ]
  },
  {
   "cell_type": "code",
   "execution_count": null,
   "id": "142b2927-e279-4fea-b086-24c1f53eb375",
   "metadata": {
    "collapsed": false
   },
   "outputs": [],
   "source": [
    "assert my_string2 == \"After one time constant a value decays to 1/e or 36.8% of its original value\""
   ]
  },
  {
   "cell_type": "markdown",
   "id": "07913f53-9a2e-4158-9d30-6341663991ec",
   "metadata": {
    "collapsed": false
   },
   "source": [
    "**Code for group member or method #3**"
   ]
  },
  {
   "cell_type": "code",
   "execution_count": null,
   "id": "2490be1e-fc9c-4764-a678-f49b36a8516b",
   "metadata": {
    "collapsed": false
   },
   "outputs": [],
   "source": [
    "# Update the code to pass the assert statement\n",
    "\n",
    "oneovere3 = \"1/e\"\n",
    "value3 =  # Use a math or numpy constant or function\n",
    "my_string3 = \"After one time constant a value decays to (something) or (something else) of its original value\""
   ]
  },
  {
   "cell_type": "code",
   "execution_count": null,
   "id": "e71674ae-c8db-4bc4-8ef1-9897aa847253",
   "metadata": {
    "collapsed": false
   },
   "outputs": [],
   "source": [
    "assert my_string3 == \"After one time constant a value decays to 1/e or 36.8% of its original value\""
   ]
  },
  {
   "cell_type": "markdown",
   "id": "69845a08-2551-4da6-beaa-49e172cbf6bb",
   "metadata": {
    "collapsed": false
   },
   "source": [
    "**Code for group member or method #4**"
   ]
  },
  {
   "cell_type": "code",
   "execution_count": null,
   "id": "b44ed6f7-ab38-43b1-a29c-3575f926d37f",
   "metadata": {
    "collapsed": false
   },
   "outputs": [],
   "source": [
    "# Update the code to pass the assert statement\n",
    "\n",
    "oneovere4 = \"1/e\"\n",
    "value4 =  # Use a math or numpy constant or function\n",
    "my_string4 = \"After one time constant a value decays to (something) or (something else) of its original value\""
   ]
  },
  {
   "cell_type": "code",
   "execution_count": null,
   "id": "c738e920-6262-41b3-a3a1-68da832024c8",
   "metadata": {
    "collapsed": false
   },
   "outputs": [],
   "source": [
    "assert my_string4 == \"After one time constant a value decays to 1/e or 36.8% of its original value\""
   ]
  },
  {
   "cell_type": "markdown",
   "id": "7fe29d1d-2678-4f5f-8d26-f68f935082cb",
   "metadata": {
    "collapsed": false
   },
   "source": [
    "### Task 7.3\n",
    "Use one or more of the Generative AI services to convert your formatted `my_string` string from one string formatting method to another. Try to figure out the most concise prompt needed to do this. Record your most concise prompt for each service you try this out on."
   ]
  },
  {
   "cell_type": "markdown",
   "id": "b29c5687-304c-4ae6-8286-2084823d0806",
   "metadata": {
    "collapsed": false
   },
   "source": [
    "**Service #1**\n",
    "\n",
    "* .."
   ]
  },
  {
   "cell_type": "markdown",
   "id": "77704920-ddfd-4c0a-bae3-901ee443a413",
   "metadata": {
    "collapsed": false
   },
   "source": [
    "**Service #2**\n",
    "\n",
    "* .."
   ]
  },
  {
   "cell_type": "markdown",
   "id": "508474ee-11db-471e-b107-c54550b2138b",
   "metadata": {
    "collapsed": false
   },
   "source": [
    "**Service #3**\n",
    "\n",
    "* .."
   ]
  },
  {
   "cell_type": "markdown",
   "id": "808706a5-01e5-4273-852c-4dfbd9fddc66",
   "metadata": {
    "collapsed": false
   },
   "source": [
    "**Service #4**\n",
    "\n",
    "* .."
   ]
  }
 ],
 "metadata": {
  "kernelspec": {
   "argv": [
    "/usr/bin/python3",
    "-m",
    "ipykernel_launcher",
    "-f",
    "{connection_file}"
   ],
   "display_name": "Python 3 (ipykernel)",
   "env": null,
   "interrupt_mode": "signal",
   "language": "python",
   "metadata": {
    "debugger": true
   },
   "name": "python3"
  },
  "language_info": {
   "codemirror_mode": {
    "name": "ipython",
    "version": 3
   },
   "file_extension": ".py",
   "mimetype": "text/x-python",
   "name": "python",
   "nbconvert_exporter": "python",
   "pygments_lexer": "ipython3",
   "version": "3.7.6"
  },
  "name": "Worksheet02.ipynb",
  "widgets": {
   "application/vnd.jupyter.widget-state+json": {
    "state": null,
    "version_major": 2,
    "version_minor": 0
   }
  }
 },
 "nbformat": 4,
 "nbformat_minor": 4
}

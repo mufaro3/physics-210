{
 "cells": [
  {
   "cell_type": "markdown",
   "id": "23888f4c-4c75-4b0f-acc6-7486779e07eb",
   "metadata": {
    "collapsed": false,
    "id": "68gKoP9jF9lU"
   },
   "source": [
    "# Day 03 Group Worksheet\n",
    "Sept 10, 2025\n",
    "\n",
    "If you're working on CoCalc, it's good to rename your notebook with a fun group name and to include all group member names below so that you can easily find it later for reference."
   ]
  },
  {
   "cell_type": "markdown",
   "id": "472ece20-f96f-4b5c-9b71-d27e8620bacf",
   "metadata": {
    "collapsed": false,
    "id": "B8UKtrg1F9lm"
   },
   "source": [
    "* Group members:"
   ]
  },
  {
   "cell_type": "markdown",
   "id": "778c8e6f-6df5-44c3-bd96-12c30f4e681d",
   "metadata": {
    "collapsed": false
   },
   "source": [
    "## Task 1: Lists warmup\n",
    "As a group, come up with at least 3 different ways that you could fill the list `short` from the list `long`, such that the contents are as shown.\n",
    "```python\n",
    "long = [\"A\", \"B\", \"C\", \"D\", \"E\", \"F\", \"G\", \"H\", \"I\", \"J\"]\n",
    "print(short)\n",
    "```\n",
    "`[\"D\", \"F\", \"H\", \"J\"]`"
   ]
  },
  {
   "cell_type": "code",
   "execution_count": null,
   "id": "2c227c50-2f50-4b33-a568-c1e35ea0817f",
   "metadata": {
    "collapsed": false
   },
   "outputs": [],
   "source": [
    "# Method 1\n",
    "\n"
   ]
  },
  {
   "cell_type": "code",
   "execution_count": null,
   "id": "f3b7df3b-8b41-4c93-a1f7-83407d4dad6d",
   "metadata": {
    "collapsed": false
   },
   "outputs": [],
   "source": [
    "# Method 2\n",
    "\n"
   ]
  },
  {
   "cell_type": "code",
   "execution_count": null,
   "id": "c3101382-6632-4319-bc28-967377eb253c",
   "metadata": {
    "collapsed": false
   },
   "outputs": [],
   "source": [
    "# Method 3\n",
    "\n"
   ]
  },
  {
   "cell_type": "code",
   "execution_count": null,
   "id": "2be6580f-4bb8-4cf7-819c-12cdd54555c5",
   "metadata": {
    "collapsed": false
   },
   "outputs": [],
   "source": [
    "# Method 4 (optional)\n",
    "\n"
   ]
  },
  {
   "cell_type": "code",
   "execution_count": null,
   "id": "eee43dd2-1f12-48f1-8737-9e9ceaf2c54b",
   "metadata": {
    "collapsed": false
   },
   "outputs": [],
   "source": [
    "# Method 5 (optional)\n",
    "\n"
   ]
  },
  {
   "cell_type": "markdown",
   "id": "2549f8f5-6464-49dd-a1bb-95b1f13a8660",
   "metadata": {
    "collapsed": false,
    "id": "CcT-r3o7F9lp"
   },
   "source": [
    "## Task 2: Euler's method for motion\n",
    "Euler's method is a simple numerical technique for solving ordinary differential equations (ODEs) describing motion or change over time. Over the next few weeks we will use increasingly sophisticated numerical techniques to solve increasingly complex physical systems.\n",
    "\n",
    "Today we will tackle 1D motion for situations where your first-year mechanics knowledge is more than sufficient to allow you to double-check the results.\n",
    "\n",
    "Let's start with our fundamental definitions of velocity and acceleration, in differential form:\n",
    "\n",
    "$$\\frac{d\\vec{r}}{dt} = \\vec{v} \\;\\;\\;\\;\\mbox{and}\\;\\;\\;\\; \\frac{d\\vec{v}}{dt} = \\vec{a}.$$\n",
    "\n",
    "For an object with constant acceleration and known initial conditions, we can know position and velocity for all times, but things can get much more complicated if the acceleration is not constant with time. A great example of this would be an object orbitting a much larger object in a non-circular path.\n",
    "\n",
    "Using the definition of a derivative for a small $\\Delta t$, we could write the above as:\n",
    "\n",
    "$$\\vec{r}(t+\\Delta t) \\approx \\vec{r}(t) + \\Delta t \\cdot \\vec{v}(t),$$\n",
    "\n",
    "and\n",
    "\n",
    "$$\\vec{v}(t+\\Delta t) \\approx \\vec{v}(t) + \\Delta t \\cdot \\vec{a}(t).$$\n",
    "\n",
    "Here, $\\approx$ reminds us that ratio of the left side to the right side approaches 1 as $\\Delta t \\rightarrow 0$. The formulas looks suspiciously similar to our first-year constant-acceleration kinematics equations, but we can use these ones even if the acceleration is not constant.\n",
    "\n",
    "Using numerical methods, if we know position and velocity at a specific time, we can find them a slightly later time $(t+\\Delta t)$ and can use those equations over and over again to find positions and velocities at any time in the future.\n",
    "\n",
    "The solutions will always be approximations, which become more accurate the smaller we make $\\Delta t$. As we move toward Project 2, we will also encounter more sophisticated algorithms for solving ordinary differential equations."
   ]
  },
  {
   "cell_type": "markdown",
   "id": "55c00dae-074a-47af-94db-4a49ff6df9ea",
   "metadata": {
    "collapsed": false,
    "id": "WF85UmjsF9lv"
   },
   "source": [
    "### Your sub-tasks\n",
    "Below is a chunk of code representing a simple physical situation using Euler's method for motion. Some of the steps in here might seem unnecessary, but once we start adding additional complications---such as acceleration---they will help ensure we do things in the correct order."
   ]
  },
  {
   "cell_type": "code",
   "execution_count": null,
   "id": "752fd974-8785-42b0-b885-0307a81d9a08",
   "metadata": {
    "collapsed": false
   },
   "outputs": [],
   "source": [
    "# Constants and initial values\n",
    "t = 0.0 # s\n",
    "dt = 0.1 # s\n",
    "t_max = 100.0 # s\n",
    "\n",
    "y = 0. # m\n",
    "v = 15.3 # m/s\n",
    "\n",
    "# Calculate the number of steps\n",
    "n_steps = int(t_max / dt)\n",
    "\n",
    "for i in range(n_steps):\n",
    "    \n",
    "    # Calculate the kinematic variables at t+dt\n",
    "    y_next = y + v * dt\n",
    "\n",
    "    # Update time\n",
    "    t += dt\n",
    "\n",
    "    # Update kinematic variables for the next step\n",
    "    y = y_next\n",
    "    \n",
    "    if y >= 100:\n",
    "        print(\"Break condition achieved\")\n",
    "        break"
   ]
  },
  {
   "cell_type": "markdown",
   "id": "15cca23e-2d5c-4fd8-9c9f-16c804d32389",
   "metadata": {
    "collapsed": false,
    "id": "OJPnv4B3F9lz"
   },
   "source": [
    "**Task 2a)** Describe the physical system being modelled by this code.\n",
    "\n",
    "* Your notes here\n",
    "* .."
   ]
  },
  {
   "cell_type": "markdown",
   "id": "ce51a335-cb55-44f1-b5be-be92001384a7",
   "metadata": {
    "collapsed": false,
    "id": "BwAzsVFFF9l2"
   },
   "source": [
    "**Task 2b)** What does the `break` keyword accomplish in this code?\n",
    "\n",
    "* Your notes here\n",
    "* .."
   ]
  },
  {
   "cell_type": "markdown",
   "id": "ea4baee6-d4a7-425b-b7a0-4230dc58396c",
   "metadata": {
    "collapsed": false,
    "id": "cJExtJjvF9l4"
   },
   "source": [
    "**Task 2c)** Ask GenAI to explain what this code does. How well does it seem to understand the physical situation? What seem to be its strengths and limitations?\n",
    "\n",
    "* Your notes here\n",
    "* .."
   ]
  },
  {
   "cell_type": "markdown",
   "id": "4ebbed04-5d4b-44bc-82ed-d4012f69d2c2",
   "metadata": {
    "collapsed": false,
    "id": "U1EA_uilF9l-"
   },
   "source": [
    "**Task 2d)** Make a copy of this code in a new cell and change the names of the all of the variables to generic names like `var1`, `var2`, etc, and remove ALL of the comments. Somebody in your group should start a new GenAI session and ask it to explain what the code does. How different are the results? What information is missing? Is any new information provided?\n",
    "\n",
    "* Your notes here\n",
    "* .."
   ]
  },
  {
   "cell_type": "markdown",
   "id": "de2384d0-eac8-44d1-bf5c-52547b2fc8a3",
   "metadata": {
    "collapsed": false,
    "id": "VE-RMlY7F9mC"
   },
   "source": [
    "**Task 2e)** Let's add some diagnostic output so we know more about the motion. Add some print statements at appropriate points in the original code to provide output of a form similar to that shown. Don't truncate the middle times like our example does. We only did this to make this question more readable. The output doesn't need to match this exactly, but feel free to take this as a good excuse to practice your string formatting skills involving padding.\n",
    "\n",
    "Example output:\n",
    "\n",
    "```\n",
    "t =  0.0 s,   y =   0.0 m,   v =  15.3 m/s\n",
    "t =  0.1 s,   y =   1.5 m,   v =  15.3 m/s\n",
    "..\n",
    "t =  6.5 s,   y =  99.5 m,   v =  15.3 m/s\n",
    "t =  6.6 s,   y = 101.0 m,   v =  15.3 m/s\n",
    "```"
   ]
  },
  {
   "cell_type": "markdown",
   "id": "8ab8c3b1-37f4-4f0a-8d20-e83d4e569bd7",
   "metadata": {
    "collapsed": false,
    "id": "CFvawuqJHgfP"
   },
   "source": [
    "**Task 2f)** Comment out the `break` keyword so that the code will make it to the end of the loop. How have the final time and position changed? Are these the results you expect?\n",
    "\n",
    "**Don't forget to uncomment the `break` keyword before you continue on to the next parts.**\n",
    "\n",
    "* Your notes here\n",
    "* .."
   ]
  },
  {
   "cell_type": "markdown",
   "id": "123521a2-136c-41ac-a763-ddd7f372c48c",
   "metadata": {
    "collapsed": false,
    "id": "K7IaOeQwF9mI"
   },
   "source": [
    "**Task 2g)** Copy your code into the cell below and add gravity in the opposite direction to the initial velocity. Describe what you observe in your output regarding this new situation.\n",
    "\n",
    "* Your notes here\n",
    "* ..\n",
    "\n"
   ]
  },
  {
   "cell_type": "code",
   "execution_count": null,
   "id": "8e02a171-303a-4a1f-afa2-73fdfec15bd0",
   "metadata": {
    "collapsed": false
   },
   "outputs": [],
   "source": [
    "# Copy your code here\n",
    "\n"
   ]
  },
  {
   "cell_type": "markdown",
   "id": "aaf829d2-05d7-4cc1-bda8-fd401228fc27",
   "metadata": {
    "collapsed": false,
    "id": "soUXPUYDIhu7"
   },
   "source": [
    "**Task 2h)** Modify the `break` condition so that it instead causes the loop to end once the object has reached its maximum height."
   ]
  },
  {
   "cell_type": "markdown",
   "id": "2addde4d-91ac-409e-86e0-171fc9f4bfe7",
   "metadata": {
    "collapsed": false,
    "id": "QDhgwiDWF9mK"
   },
   "source": [
    "**Task 2i)** Using constant-acceleration kinematics equations, incorporate into your code a calculation for the time at which the object should reach the maximum height. Investigate how close this calculated time is to the time of the `break` condition. How much does this difference depend on your initial velocity? How small do you need to make `dt` before you start to feel like the time of the `break` condition gives a reasonably accurate value? (*Note: you may wish to comment out and/or modify some of your print statements to keep the quantity of the output to a manageable level.*)\n",
    "\n",
    "* Your notes here\n",
    "* .."
   ]
  },
  {
   "cell_type": "markdown",
   "id": "7fc4f54c-187f-4093-a7bb-84eea623141a",
   "metadata": {
    "collapsed": false,
    "id": "o50xHKmVF9me"
   },
   "source": [
    "## Task 3: Group check-out for engagement points\n",
    "Once you reach this point call one of the members of the teaching team over to ask you each a check-out question. \n",
    "\n",
    "Afterward (or while you are waiting), we encourage you to get started on Task 4 below"
   ]
  },
  {
   "cell_type": "markdown",
   "id": "45ece4b5-32c3-41fa-8f26-483aa823a6f8",
   "metadata": {
    "collapsed": false,
    "id": "ZvPVgY38F9mM"
   },
   "source": [
    "## Task 4 (Optional) Bonus tasks if you have time. Pick those that are most interesting to you.\n",
    "\n",
    "1. Modify your code to specify the time intervals at which the print statements happen (e.g., if you reduce dt to `dt = 0.01`, it still prints only every 0.1 seconds except for the final print statement related to when the `break` happened.\n",
    "2. Similar to the above, modify the code to make print statements happen only every nth loop (e.g., every 5th loop). Again you will still want a final print statement related to when the `break` happened.\n",
    "3. Instead of making `dt` as small as possible, another way to get a more accurate answer for when the object reached its maximum height is to interpolate in-between the times right before and right after it has reached the maximum height in the loop. We suggest you start with simpler / less accurate approaches to this interpolation and build up to more sophisticated ones."
   ]
  },
  {
   "cell_type": "code",
   "execution_count": null,
   "id": "a2aad247-7a7f-4bf8-83e3-1444153d02e7",
   "metadata": {
    "collapsed": false
   },
   "outputs": [],
   "source": []
  }
 ],
 "metadata": {
  "colab": {
   "provenance": []
  },
  "kernelspec": {
   "argv": [
    "/usr/bin/python3",
    "-m",
    "ipykernel_launcher",
    "-f",
    "{connection_file}"
   ],
   "display_name": "Python 3 (ipykernel)",
   "env": null,
   "interrupt_mode": "signal",
   "language": "python",
   "metadata": {
    "debugger": true
   },
   "name": "python3"
  },
  "language_info": {
   "codemirror_mode": {
    "name": "ipython",
    "version": 3
   },
   "file_extension": ".py",
   "mimetype": "text/x-python",
   "name": "python",
   "nbconvert_exporter": "python",
   "pygments_lexer": "ipython3",
   "version": "3.7.6"
  },
  "name": "Worksheet03.ipynb"
 },
 "nbformat": 4,
 "nbformat_minor": 1
}

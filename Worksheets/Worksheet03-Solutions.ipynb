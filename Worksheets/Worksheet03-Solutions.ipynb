{
 "cells": [
  {
   "cell_type": "markdown",
   "metadata": {
    "id": "68gKoP9jF9lU"
   },
   "source": [
    "# Day 03 Group Worksheet - Solutions\n",
    "Sept 10, 2025\n",
    "\n",
    "If you're working on CoCalc, it's good to rename your notebook with a fun group name and to include all group member names below so that you can easily find it later for reference."
   ]
  },
  {
   "cell_type": "markdown",
   "metadata": {},
   "source": [
    "## Task 1: Lists warmup\n",
    "As a group, come up with at least 3 different ways that you could fill the list `short` from the list `long`, such that the contents are as shown.\n",
    "```python\n",
    "long = [\"A\", \"B\", \"C\", \"D\", \"E\", \"F\", \"G\", \"H\", \"I\", \"J\"]\n",
    "print(short)\n",
    "```\n",
    "`[\"D\", \"F\", \"H\", \"J\"]`"
   ]
  },
  {
   "cell_type": "code",
   "execution_count": 1,
   "metadata": {},
   "outputs": [
    {
     "name": "stdout",
     "output_type": "stream",
     "text": [
      "['D', 'F', 'H', 'J']\n"
     ]
    }
   ],
   "source": [
    "# Method 1\n",
    "long = [\"A\", \"B\", \"C\", \"D\", \"E\", \"F\", \"G\", \"H\", \"I\", \"J\"]\n",
    "short = [long[3], long[5], long[7], long[9]]\n",
    "print(short)"
   ]
  },
  {
   "cell_type": "code",
   "execution_count": 2,
   "metadata": {},
   "outputs": [
    {
     "name": "stdout",
     "output_type": "stream",
     "text": [
      "['D', 'F', 'H', 'J']\n"
     ]
    }
   ],
   "source": [
    "# Method 2\n",
    "long = [\"A\", \"B\", \"C\", \"D\", \"E\", \"F\", \"G\", \"H\", \"I\", \"J\"]\n",
    "short = long[3::2]  # Start at index 3, take every 2nd element\n",
    "print(short)"
   ]
  },
  {
   "cell_type": "code",
   "execution_count": 3,
   "metadata": {},
   "outputs": [
    {
     "name": "stdout",
     "output_type": "stream",
     "text": [
      "['D', 'F', 'H', 'J']\n"
     ]
    }
   ],
   "source": [
    "# Method 3\n",
    "long = [\"A\", \"B\", \"C\", \"D\", \"E\", \"F\", \"G\", \"H\", \"I\", \"J\"]\n",
    "short = []\n",
    "for i in range(len(long)):\n",
    "    if i in [3, 5, 7, 9]:\n",
    "        short.append(long[i])\n",
    "print(short)"
   ]
  },
  {
   "cell_type": "code",
   "execution_count": 4,
   "metadata": {},
   "outputs": [
    {
     "name": "stdout",
     "output_type": "stream",
     "text": [
      "['D', 'F', 'H', 'J']\n"
     ]
    }
   ],
   "source": [
    "# Method 4 (optional)\n",
    "long = [\"A\", \"B\", \"C\", \"D\", \"E\", \"F\", \"G\", \"H\", \"I\", \"J\"]\n",
    "short = []\n",
    "for i in range(len(long)):\n",
    "    if i < 3:\n",
    "        continue\n",
    "    if i % 2 == 0:\n",
    "        continue\n",
    "    short.append(long[i])\n",
    "print(short)"
   ]
  },
  {
   "cell_type": "code",
   "execution_count": 5,
   "metadata": {},
   "outputs": [
    {
     "name": "stdout",
     "output_type": "stream",
     "text": [
      "['D', 'F', 'H', 'J']\n"
     ]
    }
   ],
   "source": [
    "# Method 5 (optional)\n",
    "long = [\"A\", \"B\", \"C\", \"D\", \"E\", \"F\", \"G\", \"H\", \"I\", \"J\"]\n",
    "short = []\n",
    "for i in range(3, len(long), 2):  # Start at 3, increment by 2\n",
    "    short.append(long[i])\n",
    "print(short)"
   ]
  },
  {
   "cell_type": "markdown",
   "metadata": {
    "id": "CcT-r3o7F9lp"
   },
   "source": [
    "## Task 2: Euler's method for motion\n",
    "Euler's method is a simple numerical technique for solving ordinary differential equations (ODEs) describing motion or change over time. Over the next few weeks we will use increasingly sophisticated numerical techniques to solve increasingly complex physical systems.\n",
    "\n",
    "Today we will tackle 1D motion for situations where your first-year mechanics knowledge is more than sufficient to allow you to double-check the results.\n",
    "\n",
    "Let's start with our fundamental definitions of velocity and acceleration, in differential form:\n",
    "\n",
    "$$\\frac{d\\vec{r}}{dt} = \\vec{v} \\;\\;\\;\\;\\mbox{and}\\;\\;\\;\\; \\frac{d\\vec{v}}{dt} = \\vec{a}.$$\n",
    "\n",
    "For an object with constant acceleration and known initial conditions, we can know position and velocity for all times, but things can get much more complicated if the acceleration is not constant with time. A great example of this would be an object orbitting a much larger object in a non-circular path.\n",
    "\n",
    "Using the definition of a derivative for a small $\\Delta t$, we could write the above as:\n",
    "\n",
    "$$\\vec{r}(t+\\Delta t) \\approx \\vec{r}(t) + \\Delta t \\cdot \\vec{v}(t),$$\n",
    "\n",
    "and\n",
    "\n",
    "$$\\vec{v}(t+\\Delta t) \\approx \\vec{v}(t) + \\Delta t \\cdot \\vec{a}(t).$$\n",
    "\n",
    "Here, $\\approx$ reminds us that ratio of the left side to the right side approaches 1 as $\\Delta t \\rightarrow 0$. The formulas looks suspiciously similar to our first-year constant-acceleration kinematics equations, but we can use these ones even if the acceleration is not constant.\n",
    "\n",
    "Using numerical methods, if we know position and velocity at a specific time, we can find them a slightly later time $(t+\\Delta t)$ and can use those equations over and over again to find positions and velocities at any time in the future.\n",
    "\n",
    "The solutions will always be approximations, which become more accurate the smaller we make $\\Delta t$. As we move toward Project 2, we will also encounter more sophisticated algorithms for solving ordinary differential equations."
   ]
  },
  {
   "cell_type": "markdown",
   "metadata": {
    "id": "WF85UmjsF9lv"
   },
   "source": [
    "### Your sub-tasks\n",
    "Below is a chunk of code representing a simple physical situation using Euler's method for motion. Some of the steps in here might seem unnecessary, but once we start adding additional complications---such as acceleration---they will help ensure we do things in the correct order."
   ]
  },
  {
   "cell_type": "code",
   "execution_count": 6,
   "metadata": {},
   "outputs": [
    {
     "name": "stdout",
     "output_type": "stream",
     "text": [
      "Break condition achieved\n"
     ]
    }
   ],
   "source": [
    "# Constants and initial values\n",
    "t = 0.0 # s\n",
    "dt = 0.1 # s\n",
    "t_max = 100.0 # s\n",
    "\n",
    "y = 0. # m\n",
    "v = 15.3 # m/s\n",
    "\n",
    "# Calculate the number of steps\n",
    "n_steps = int(t_max / dt)\n",
    "\n",
    "for i in range(n_steps):\n",
    "    \n",
    "    # Calculate the kinematic variables at t+dt\n",
    "    y_next = y + v * dt\n",
    "\n",
    "    # Update time\n",
    "    t += dt\n",
    "\n",
    "    # Update kinematic variables for the next step\n",
    "    y = y_next\n",
    "    \n",
    "    if y >= 100:\n",
    "        print(\"Break condition achieved\")\n",
    "        break"
   ]
  },
  {
   "cell_type": "markdown",
   "metadata": {
    "id": "OJPnv4B3F9lz"
   },
   "source": [
    "**Task 2a)** Describe the physical system being modelled by this code.\n",
    "\n",
    "* Your notes here\n",
    "* .."
   ]
  },
  {
   "cell_type": "markdown",
   "metadata": {
    "id": "BwAzsVFFF9l2"
   },
   "source": [
    "**Task 2b)** What does the `break` keyword accomplish in this code?\n",
    "\n",
    "* Your notes here\n",
    "* .."
   ]
  },
  {
   "cell_type": "markdown",
   "metadata": {
    "id": "cJExtJjvF9l4"
   },
   "source": [
    "**Task 2c)** Ask GenAI to explain what this code does. How well does it seem to understand the physical situation? What seem to be its strengths and limitations?\n",
    "\n",
    "* Your notes here\n",
    "* .."
   ]
  },
  {
   "cell_type": "markdown",
   "metadata": {
    "id": "U1EA_uilF9l-"
   },
   "source": [
    "**Task 2d)** Make a copy of this code in a new cell and change the names of the all of the variables to generic names like `var1`, `var2`, etc, and remove ALL of the comments. Somebody in your group should start a new GenAI session and ask it to explain what the code does. How different are the results? What information is missing? Is any new information provided?\n",
    "\n",
    "* Your notes here\n",
    "* .."
   ]
  },
  {
   "cell_type": "markdown",
   "metadata": {
    "id": "VE-RMlY7F9mC"
   },
   "source": [
    "**Task 2e)** Let's add some diagnostic output so we know more about the motion. Add some print statements at appropriate points in the original code to provide output of a form similar to that shown. Don't truncate the middle times like our example does. We only did this to make this question more readable. The output doesn't need to match this exactly, but feel free to take this as a good excuse to practice your string formatting skills involving padding.\n",
    "\n",
    "Example output:\n",
    "\n",
    "```\n",
    "t =  0.0 s,   y =   0.0 m,   v =  15.3 m/s\n",
    "t =  0.1 s,   y =   1.5 m,   v =  15.3 m/s\n",
    "..\n",
    "t =  6.5 s,   y =  99.5 m,   v =  15.3 m/s\n",
    "t =  6.6 s,   y = 101.0 m,   v =  15.3 m/s\n",
    "```"
   ]
  },
  {
   "cell_type": "markdown",
   "metadata": {
    "id": "CFvawuqJHgfP"
   },
   "source": [
    "**Task 2f)** Comment out the `break` keyword so that the code will make it to the end of the loop. How have the final time and position changed? Are these the results you expect?\n",
    "\n",
    "**Don't forget to uncomment the `break` keyword before you continue on to the next parts.**\n",
    "\n",
    "* Your notes here\n",
    "* .."
   ]
  },
  {
   "cell_type": "markdown",
   "metadata": {
    "id": "K7IaOeQwF9mI"
   },
   "source": [
    "**Task 2g)** Copy your code into the cell below and add gravity in the opposite direction to the initial velocity. Describe what you observe in your output regarding this new situation.\n",
    "\n",
    "* Your notes here\n",
    "* ..\n",
    "\n"
   ]
  },
  {
   "cell_type": "code",
   "execution_count": 7,
   "metadata": {},
   "outputs": [
    {
     "name": "stdout",
     "output_type": "stream",
     "text": [
      "Object returned to ground at t=3.3s\n",
      "\n",
      "Maximum height reached: 12.72m at t=1.6s\n",
      "Final position: y=-1.25m\n",
      "Final velocity: v=-17.04m/s\n"
     ]
    }
   ],
   "source": [
    "# Constants and initial values\n",
    "t = 0.0      # s\n",
    "dt = 0.1     # s\n",
    "t_max = 100.0 # s\n",
    "y = 0.       # m\n",
    "v = 15.3     # m/s (initial upward velocity)\n",
    "a = -9.8     # m/s² (gravity acting downward)\n",
    "\n",
    "# Calculate the number of steps\n",
    "n_steps = int(t_max / dt)\n",
    "\n",
    "# Track maximum height for observation\n",
    "max_height = 0\n",
    "turning_point_time = 0\n",
    "\n",
    "for i in range(n_steps):\n",
    "    \n",
    "    # Calculate the kinematic variables at t+dt\n",
    "    y_next = y + v * dt\n",
    "    v_next = v + a * dt\n",
    "    \n",
    "    # Track maximum height\n",
    "    if y_next > max_height:\n",
    "        max_height = y_next\n",
    "        turning_point_time = t + dt\n",
    "    \n",
    "    # Update time\n",
    "    t += dt\n",
    "    \n",
    "    # Update kinematic variables for the next step\n",
    "    y = y_next\n",
    "    v = v_next\n",
    "    \n",
    "    if y >= 100:\n",
    "        print(f\"Break condition achieved at t={t:.1f}s\")\n",
    "        break\n",
    "    \n",
    "    # Check if object falls back to ground\n",
    "    if y < 0 and t > 0.1:\n",
    "        print(f\"Object returned to ground at t={t:.1f}s\")\n",
    "        break\n",
    "\n",
    "print(f\"\\nMaximum height reached: {max_height:.2f}m at t={turning_point_time:.1f}s\")\n",
    "print(f\"Final position: y={y:.2f}m\")\n",
    "print(f\"Final velocity: v={v:.2f}m/s\")"
   ]
  },
  {
   "cell_type": "markdown",
   "metadata": {
    "id": "soUXPUYDIhu7"
   },
   "source": [
    "**Task 2h)** Modify the `break` condition so that it instead causes the loop to end once the object has reached its maximum height."
   ]
  },
  {
   "cell_type": "markdown",
   "metadata": {
    "id": "QDhgwiDWF9mK"
   },
   "source": [
    "**Task 2i)** Using constant-acceleration kinematics equations, incorporate into your code a calculation for the time at which the object should reach the maximum height. Investigate how close this calculated time is to the time of the `break` condition. How much does this difference depend on your initial velocity? How small do you need to make `dt` before you start to feel like the time of the `break` condition gives a reasonably accurate value? (*Note: you may wish to comment out and/or modify some of your print statements to keep the quantity of the output to a manageable level.*)"
   ]
  },
  {
   "cell_type": "code",
   "execution_count": 8,
   "metadata": {},
   "outputs": [
    {
     "name": "stdout",
     "output_type": "stream",
     "text": [
      "============================================================\n",
      "Analytical time to max height: 1.5612 s\n",
      "Analytical max height: 11.94 m\n",
      "============================================================\n",
      "\n",
      "--- Testing dt = 1.0 s ---\n",
      "Numerical max height time: 2.0000 s\n",
      "Time error: 0.4388 s\n",
      "Percentage error: 28.10%\n",
      "\n",
      "--- Testing dt = 0.5 s ---\n",
      "Numerical max height time: 2.0000 s\n",
      "Time error: 0.4388 s\n",
      "Percentage error: 28.10%\n",
      "\n",
      "--- Testing dt = 0.1 s ---\n",
      "Numerical max height time: 1.6000 s\n",
      "Time error: 0.0388 s\n",
      "Percentage error: 2.48%\n",
      "\n",
      "--- Testing dt = 0.05 s ---\n",
      "Numerical max height time: 1.6000 s\n",
      "Time error: 0.0388 s\n",
      "Percentage error: 2.48%\n",
      "\n",
      "--- Testing dt = 0.01 s ---\n",
      "Numerical max height time: 1.5700 s\n",
      "Time error: 0.0088 s\n",
      "Percentage error: 0.56%\n",
      "\n",
      "--- Testing dt = 0.005 s ---\n",
      "Numerical max height time: 1.5650 s\n",
      "Time error: 0.0038 s\n",
      "Percentage error: 0.24%\n",
      "\n",
      "--- Testing dt = 0.001 s ---\n",
      "Numerical max height time: 1.5620 s\n",
      "Time error: 0.0008 s\n",
      "Percentage error: 0.05%\n",
      "\n",
      "\n",
      "SUMMARY:\n",
      "------------------------------------------------------------\n",
      "dt (s)     Numerical t_max (s)  Error (s)    Error %   \n",
      "------------------------------------------------------------\n",
      "1.0000     2.0000               0.4388       28.10     \n",
      "0.5000     2.0000               0.4388       28.10     \n",
      "0.1000     1.6000               0.0388       2.48      \n",
      "0.0500     1.6000               0.0388       2.48      \n",
      "0.0100     1.5700               0.0088       0.56      \n",
      "0.0050     1.5650               0.0038       0.24      \n",
      "0.0010     1.5620               0.0008       0.05      \n"
     ]
    }
   ],
   "source": [
    "# Test different timestep values\n",
    "dt_values = [1.0, 0.5, 0.1, 0.05, 0.01, 0.005, 0.001]\n",
    "\n",
    "# Initial velocity for all trials\n",
    "v_initial = 15.3  # m/s\n",
    "\n",
    "# Analytical calculation (same for all trials)\n",
    "t_max_analytical = v_initial / 9.8\n",
    "y_max_analytical = v_initial * v_initial / (2 * 9.8)\n",
    "\n",
    "print(\"=\" * 60)\n",
    "print(f\"Analytical time to max height: {t_max_analytical:.4f} s\")\n",
    "print(f\"Analytical max height: {y_max_analytical:.2f} m\")\n",
    "print(\"=\" * 60)\n",
    "\n",
    "# Store results for summary table\n",
    "results = []\n",
    "\n",
    "# Loop through each dt value\n",
    "for dt in dt_values:\n",
    "    print(f\"\\n--- Testing dt = {dt} s ---\")\n",
    "    \n",
    "    # Reset initial values for each trial\n",
    "    t = 0.0\n",
    "    t_max = 100.0\n",
    "    y = 0.\n",
    "    v = v_initial\n",
    "    g = -9.8\n",
    "    \n",
    "    # Calculate the number of steps\n",
    "    n_steps = int(t_max / dt)\n",
    "    \n",
    "    # Track maximum height\n",
    "    max_height = 0\n",
    "    max_height_time = 0\n",
    "    \n",
    "    for i in range(n_steps):\n",
    "        # Calculate the kinematic variables at t+dt\n",
    "        y_next = y + v * dt\n",
    "        v_next = v + g * dt\n",
    "        \n",
    "        # Track maximum height\n",
    "        if y_next > max_height:\n",
    "            max_height = y_next\n",
    "            max_height_time = t + dt\n",
    "        \n",
    "        # Update time\n",
    "        t += dt\n",
    "        \n",
    "        # Update kinematic variables for the next step\n",
    "        y = y_next\n",
    "        v = v_next\n",
    "        \n",
    "        if y >= 100:\n",
    "            print(f\"Break condition achieved at t={t:.1f}s\")\n",
    "            break\n",
    "        \n",
    "        # Check if object falls back to ground\n",
    "        if y < 0 and t > 0.1:\n",
    "            break\n",
    "    \n",
    "    # Calculate and display errors for this dt\n",
    "    time_error = abs(max_height_time - t_max_analytical)\n",
    "    percent_error = (time_error / t_max_analytical) * 100\n",
    "    \n",
    "    print(f\"Numerical max height time: {max_height_time:.4f} s\")\n",
    "    print(f\"Time error: {time_error:.4f} s\")\n",
    "    print(f\"Percentage error: {percent_error:.2f}%\")\n",
    "    \n",
    "    # Store results for summary\n",
    "    results.append([dt, max_height_time, time_error, percent_error])\n",
    "\n",
    "# Summary table\n",
    "print(\"\\n\\nSUMMARY:\")\n",
    "print(\"-\" * 60)\n",
    "print(f\"{'dt (s)':<10} {'Numerical t_max (s)':<20} {'Error (s)':<12} {'Error %':<10}\")\n",
    "print(\"-\" * 60)\n",
    "\n",
    "for dt, t_num, error, percent in results:\n",
    "    print(f\"{dt:<10.4f} {t_num:<20.4f} {error:<12.4f} {percent:<10.2f}\")\n"
   ]
  },
  {
   "cell_type": "markdown",
   "metadata": {
    "id": "o50xHKmVF9me"
   },
   "source": [
    "## Task 3: Group check-out for engagement points\n",
    "Once you reach this point call one of the members of the teaching team over to ask you each a check-out question. \n",
    "\n",
    "Afterward (or while you are waiting), we encourage you to get started on Task 4 below"
   ]
  },
  {
   "cell_type": "markdown",
   "metadata": {
    "id": "ZvPVgY38F9mM"
   },
   "source": [
    "## Task 4 (Optional) Bonus tasks if you have time. Pick those that are most interesting to you.\n",
    "\n",
    "1. Modify your code to specify the time intervals at which the print statements happen (e.g., if you reduce dt to `dt = 0.01`, it still prints only every 0.1 seconds except for the final print statement related to when the `break` happened.\n",
    "2. Similar to the above, modify the code to make print statements happen only every nth loop (e.g., every 5th loop). Again you will still want a final print statement related to when the `break` happened.\n",
    "3. Instead of making `dt` as small as possible, another way to get a more accurate answer for when the object reached its maximum height is to interpolate in-between the times right before and right after it has reached the maximum height in the loop. We suggest you start with simpler / less accurate approaches to this interpolation and build up to more sophisticated ones."
   ]
  },
  {
   "cell_type": "code",
   "execution_count": null,
   "metadata": {},
   "outputs": [],
   "source": []
  }
 ],
 "metadata": {
  "colab": {
   "provenance": []
  },
  "kernelspec": {
   "display_name": "Python 3",
   "language": "python",
   "name": "python3"
  },
  "language_info": {
   "codemirror_mode": {
    "name": "ipython",
    "version": 3
   },
   "file_extension": ".py",
   "mimetype": "text/x-python",
   "name": "python",
   "nbconvert_exporter": "python",
   "pygments_lexer": "ipython3",
   "version": "3.7.6"
  }
 },
 "nbformat": 4,
 "nbformat_minor": 1
}

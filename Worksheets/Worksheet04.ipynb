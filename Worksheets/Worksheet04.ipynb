{
 "cells": [
  {
   "cell_type": "markdown",
   "metadata": {
    "id": "68gKoP9jF9lU"
   },
   "source": [
    "# Day 04 Group Worksheet\n",
    "Sept 15, 2025\n",
    "\n",
    "If you're working on CoCalc, it's good to rename your notebook with a fun group name and to include all group member names below so that you can easily find it later for reference."
   ]
  },
  {
   "cell_type": "markdown",
   "metadata": {
    "id": "B8UKtrg1F9lm"
   },
   "source": [
    "* Group members:"
   ]
  },
  {
   "cell_type": "markdown",
   "metadata": {},
   "source": [
    "## Task 1: Array warmups"
   ]
  },
  {
   "cell_type": "markdown",
   "metadata": {},
   "source": [
    "**Task 1a)** Create the following 5x5 matrix where the border is filled with 1s and the inside is filled with 0s. \n",
    "\n",
    "I.e.,\n",
    "```python\n",
    "[[1. 1. 1. 1. 1.]\n",
    " [1. 0. 0. 0. 1.]\n",
    " [1. 0. 0. 0. 1.]\n",
    " [1. 0. 0. 0. 1.]\n",
    " [1. 1. 1. 1. 1.]]\n",
    "```"
   ]
  },
  {
   "cell_type": "code",
   "execution_count": null,
   "metadata": {},
   "outputs": [],
   "source": [
    "# Your code here\n"
   ]
  },
  {
   "cell_type": "markdown",
   "metadata": {},
   "source": [
    "**Task 1b)** Create the following 8x8 checkerboard pattern matrix with alternating 0s and 1s.\n",
    "```python\n",
    "[[0 1 0 1 0 1 0 1]\n",
    " [1 0 1 0 1 0 1 0]\n",
    " [0 1 0 1 0 1 0 1]\n",
    " [1 0 1 0 1 0 1 0]\n",
    " [0 1 0 1 0 1 0 1]\n",
    " [1 0 1 0 1 0 1 0]\n",
    " [0 1 0 1 0 1 0 1]\n",
    " [1 0 1 0 1 0 1 0]]\n",
    "```"
   ]
  },
  {
   "cell_type": "code",
   "execution_count": null,
   "metadata": {},
   "outputs": [],
   "source": [
    "# Your code here\n"
   ]
  },
  {
   "cell_type": "markdown",
   "metadata": {},
   "source": [
    "**Task 1c)** Normalize the following array (make the values sum to 1)"
   ]
  },
  {
   "cell_type": "code",
   "execution_count": null,
   "metadata": {},
   "outputs": [],
   "source": [
    "# Your code here\n",
    "\n",
    "import numpy as np\n",
    "arr = np.array([1, 2, 3, 4])\n",
    "\n"
   ]
  },
  {
   "cell_type": "markdown",
   "metadata": {},
   "source": [
    "**Task 1d)** For the array `arr` below, find the mean of each row and each column. Your answers should be:\n",
    "```python\n",
    "Row means: [2. 5. 8.]\n",
    "Column means: [4. 5. 6.]\n",
    "```"
   ]
  },
  {
   "cell_type": "code",
   "execution_count": null,
   "metadata": {},
   "outputs": [],
   "source": [
    "# Your code here\n",
    "\n",
    "imprort numpy as np\n",
    "arr = np.array([[1, 2, 3], [4, 5, 6], [7, 8, 9]])\n"
   ]
  },
  {
   "cell_type": "markdown",
   "metadata": {},
   "source": [
    "## Task 2: More Euler's method for motion\n",
    "Today we are going to continue our work with Euler's method for motion by:\n",
    "1. Introducing arrays as a way to store all of the motion data generated throughout a loop\n",
    "1. Introducing collisions"
   ]
  },
  {
   "cell_type": "markdown",
   "metadata": {
    "id": "WF85UmjsF9lv"
   },
   "source": [
    "### A collision and storing data in arrays\n",
    "Below is a modified version of our Day 03 Euler's method code which introduces a collision, as well as storing our time, position and velocity data in arrays to be able to analyze after the main loop. After the code you will find your tasks related to this code."
   ]
  },
  {
   "cell_type": "code",
   "execution_count": null,
   "metadata": {
    "id": "Dkj-a45vF9mO"
   },
   "outputs": [],
   "source": [
    "import numpy as np\n",
    "\n",
    "# Constants and initial values\n",
    "y0 = 0. # m\n",
    "y_max = 100. # m\n",
    "\n",
    "v0 = 15.3 # m/s\n",
    "\n",
    "t0 = 0. # s\n",
    "t_max = 50. # s\n",
    "dt = 0.1 # s\n",
    "\n",
    "# Our number of steps will also be our array size\n",
    "n_steps = int((t_max - t0) / dt) + 1 # Total number of steps\n",
    "\n",
    "# Arrays to store values throughout the simulation\n",
    "y = np.zeros(n_steps)\n",
    "v = np.zeros(n_steps)\n",
    "t = np.zeros(n_steps)\n",
    "\n",
    "# Store initial values in the array\n",
    "y[0] = y0\n",
    "v[0] = v0\n",
    "t[0] = t0\n",
    "\n",
    "# Main loop\n",
    "for i in range(1, n_steps):\n",
    "    \n",
    "    y[i] = y[i-1] + v[i-1] * dt\n",
    "    v[i] = v[i-1]\n",
    "    t[i] = t[i-1] + dt\n",
    "    \n",
    "    if y[i] >= y_max:\n",
    "        v[i] = -v[i]\n",
    "\n",
    "        "
   ]
  },
  {
   "cell_type": "markdown",
   "metadata": {},
   "source": [
    "**Task 2a)** Let's start by looking at the use of arrays in this version of the code. Add in any print or other diagnostic statements that you need to make sense of the code.\n",
    "\n",
    "1. How are we storing the data generated throughout the loop? \n",
    "1. How is `[i-1]` being used in the loop? \n",
    "1. Why are we adding `1` to  `number_steps = int((t_max - t0) / dt)`?\n",
    "1. Why are we using `range(1, n_steps)` instead of `range(n_steps)`? "
   ]
  },
  {
   "cell_type": "markdown",
   "metadata": {},
   "source": [
    "* Your notes here\n",
    "* .."
   ]
  },
  {
   "cell_type": "markdown",
   "metadata": {},
   "source": [
    "**Task 2b)** How does the collision work? "
   ]
  },
  {
   "cell_type": "markdown",
   "metadata": {},
   "source": [
    "* Your notes here\n",
    "* .."
   ]
  },
  {
   "cell_type": "markdown",
   "metadata": {},
   "source": [
    "**Task 2c)** From within the loop, use the variable `col_idx` to store the index associated with when the collision occured. Based on how the `t`, `y` and `v` arrays are built, we expect that this same index would apply to all three. Build a second loop after this main loop to print out the information from the five sequential steps consisting of the two steps immediately before the collision, the collision itself, and the two steps immediately after the collision. Below is an example of what this information could look like. \n",
    "\n",
    "```\n",
    "t = 6.4 s,   y =  97.92 m,   v =  15.3 m/s\n",
    "t = 6.5 s,   y =  99.45 m,   v =  15.3 m/s\n",
    "t = 6.6 s,   y = 100.98 m,   v = -15.3 m/s\n",
    "t = 6.7 s,   y =  99.45 m,   v = -15.3 m/s\n",
    "t = 6.8 s,   y =  97.92 m,   v = -15.3 m/s\n",
    "```"
   ]
  },
  {
   "cell_type": "code",
   "execution_count": null,
   "metadata": {},
   "outputs": [],
   "source": [
    "# Your code here\n",
    "\n"
   ]
  },
  {
   "cell_type": "markdown",
   "metadata": {},
   "source": [
    "## Multiple collisions\n",
    "\n",
    "**Task 2d)** Introduce into your code a second collision barrier at `-100 m`, such that the object will be bouncing back and forth between the two barriers. Change `col_idx` to a list of the indices at which these collisions occur. And then, after the main loop, build a second loop that uses the indices stored in `col_idx` to output the times of each collision, in a format similar to what is shown below. In your output you are welcome to communicate the collision numbers with the first collision being numbered 0 or 1.\n",
    "```\n",
    "Collision number 1 occurred at  6.6 seconds\n",
    "Collision number 2 occurred at 19.8 seconds\n",
    "Collision number 3 occurred at 33.0 seconds\n",
    "Collision number 4 occurred at 46.2 seconds\n",
    "```"
   ]
  },
  {
   "cell_type": "code",
   "execution_count": null,
   "metadata": {},
   "outputs": [],
   "source": [
    "# Your code here\n",
    "\n"
   ]
  },
  {
   "cell_type": "markdown",
   "metadata": {},
   "source": [
    "## Group check-out for engagement points\n",
    "Once you reach this point call one of the members of the teaching team over to ask you each a check-out question. \n",
    "\n",
    "Afterward (or while you are waiting), engage with the bonus tasks below."
   ]
  },
  {
   "cell_type": "markdown",
   "metadata": {},
   "source": [
    "## Bonus tasks if you have time. \n",
    "\n",
    "**Task 3:** Pick the tasks that are most interesting to you\n",
    "\n",
    "1. For **Task 2c**, try to figure out how to use the function `enumerate()` in your `for` loop statement (e.g., `for .. in enumerate(col_idx):` as an alternate method of extracting the desired information out of `col_idx`.\n",
    "1. In loops that take a long time to run, it can be helpful to provide progress feedback while the loop is running. Add code to one of your loops that prints some output every 100 iterations (e.g., `100 iterations complete`, `200 iterations complete`, etc,...).\n",
    "1. For a trickier challenge than the above task, instead print output for every 10% complete (e.g., `10% complete`, `20% complete`, etc,...). Make sure that this is built in a responsive way so that if you update `t_max` or `dt`, it will still work correctly."
   ]
  },
  {
   "cell_type": "code",
   "execution_count": null,
   "metadata": {},
   "outputs": [],
   "source": [
    "# Your code here\n",
    "\n"
   ]
  },
  {
   "cell_type": "code",
   "execution_count": null,
   "metadata": {},
   "outputs": [],
   "source": [
    "# Your code here\n",
    "\n"
   ]
  },
  {
   "cell_type": "code",
   "execution_count": null,
   "metadata": {},
   "outputs": [],
   "source": [
    "# Your code here\n",
    "\n"
   ]
  }
 ],
 "metadata": {
  "colab": {
   "provenance": []
  },
  "kernelspec": {
   "display_name": "Python 3",
   "language": "python",
   "name": "python3"
  },
  "language_info": {
   "codemirror_mode": {
    "name": "ipython",
    "version": 3
   },
   "file_extension": ".py",
   "mimetype": "text/x-python",
   "name": "python",
   "nbconvert_exporter": "python",
   "pygments_lexer": "ipython3",
   "version": "3.7.6"
  }
 },
 "nbformat": 4,
 "nbformat_minor": 1
}

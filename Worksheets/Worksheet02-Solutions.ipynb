{
 "cells": [
  {
   "cell_type": "markdown",
   "metadata": {},
   "source": [
    "# Day 02 Group Worksheet - Solutions\n",
    "Sept 08, 2025"
   ]
  },
  {
   "cell_type": "markdown",
   "metadata": {},
   "source": [
    "## Task 1: Playing with syntax\n",
    "In the cell below, try out each of the following sub-tasks. In a few words, explain the results to each sub-task in the cell below.\n",
    "1. In printed math notation, you can multiply x and y like this: $xy$.  What happens if you try that in python?\n",
    "1. What if you import numpy as np, but call numpy.sin(2)?\n",
    "1. What is the difference between using `+` and `*` for strings and numbers?\n",
    "1. Can you use `-` or `/` on strings?\n",
    "1. Is there a difference between defining a string as `string1 = 'all the words'` vs `string2 = \"all the words\"`? Can you define one by mixing the two, `string3 = 'all the words\"`?\n",
    "1. You can use a minus sign to make a negative number like -2. What happens if you put a plus sign before a number? What about `2++2` or `2 ++ +2`?\n",
    "1. In math notation, leading zeros are ok, as in 09. What happens if you try this in Python?"
   ]
  },
  {
   "cell_type": "markdown",
   "metadata": {},
   "source": [
    "**(Solutions)** Put your responses to \"Playing with syntax\" in this cell:\n",
    "\n",
    "1. Sticking two variables x and y together as in xy refers to a completely different variable, which will make an error if it hasn't been defined.\n",
    "1. if you import numpy as np but then try to call numpy.sin you'll get an error\n",
    "1. `+` and `*` are addition and multiplication for numbers, but are concatenation and repetition for strings\n",
    "1. `-` and `/` don't work with strings\n",
    "1. 'all the words' and \"all the words\" are identical beyond the fact that if you want to include one kind of quote inside your string, use the other kind to start and end it\n",
    "1. Extra `+` signs in front of numbers are ignored\n",
    "1. Leading zeros as in 09 produce an error"
   ]
  },
  {
   "cell_type": "markdown",
   "metadata": {},
   "source": [
    "## Task 2:Debugging\n",
    "The code in the following cell should print: \n",
    "```\n",
    "sin(1.987) =  \n",
    "x.xxxxx\n",
    "is less than 8 is True\n",
    "```\n",
    "Find and correct the mistakes (there are multiple). `x.xxxxx` represents that actual numerical value of sin for that value to the number of decimal places specified."
   ]
  },
  {
   "cell_type": "code",
   "execution_count": null,
   "metadata": {},
   "outputs": [],
   "source": [
    "# Original code provided\n",
    "\n",
    "print(sin(1.987) = )\n",
    "print(np.sin(1.987))\n",
    "\n",
    "sometext = 'ibidbu is less than dodi'\n",
    "subtext = sometext[6:17]\n",
    "A = 16/2\n",
    "print(subtext , A, \"is\", (A > np.sin(1.987)))"
   ]
  },
  {
   "cell_type": "code",
   "execution_count": null,
   "metadata": {},
   "outputs": [],
   "source": [
    "# Fixed code\n",
    "\n",
    "import numpy as np\n",
    "\n",
    "print('sin(1.987) = ')\n",
    "print(f\"{np.sin(1.987):.5f}\")\n",
    "\n",
    "sometext = 'ibidbu is less than dodi'\n",
    "A = 16//2\n",
    "print(sometext[7:19],A , 'is', (8 > np.sin(1.987)))"
   ]
  },
  {
   "cell_type": "markdown",
   "metadata": {},
   "source": [
    "## Task 3: Math practice\n",
    "\n",
    "Zerubbabel says they are 441200 hours old. Use python to print their age in years, days and hours. Your program should print a line that looks like: \n",
    "```\n",
    "Zerubbabel is y years, d days and h hours old\n",
    "```\n",
    "where `y`, `d` and `h` are replaced with the appropriate numbers. Let's not discuss the fact that by the time you figure out their age, they will already be older.\n",
    "\n",
    "Ignore leap years (assume every year has 365 days).\n",
    "\n",
    "Use string concatenation or string formatting to print it all in one statement. Hint: if you use string concatenation, you can convert from one variable type to another using `str()` or `int()`."
   ]
  },
  {
   "cell_type": "code",
   "execution_count": null,
   "metadata": {},
   "outputs": [],
   "source": [
    "# Code for Zerubbabel's age here.\n",
    "\n",
    "hours = 441200 \n",
    "years = hours // (24*365)\n",
    "hours_remaining = hours - years*24*365 # leftover hours\n",
    "days = hours_remaining // 24\n",
    "hours = hours_remaining % 24 \n",
    "\n",
    "# Print the result\n",
    "print(f\"Zerubbabel is {years} years, {days} days, {hours} hours\")\n"
   ]
  },
  {
   "cell_type": "markdown",
   "metadata": {},
   "source": [
    "## Task 4: Practice with indexing strings among us\n",
    "Someone in this class is an imposter and sent out a secret message to reveal their identity to the other imposters in class. Write code in python to complete the steps below to find out who it is!\n",
    "```\n",
    "A = 'dsjsoofdjsnwraebseiyiuhjijenrheegrbeqiloieskjbdkb'\n",
    "```\n",
    "\n",
    "**Steps: (use python code to do all of the steps)**\n",
    "\n",
    "First letter:\n",
    "1. Get the number of times ‘o’ appears in the string in between positions 2 and 8 (inclusive) when counting from 1.\n",
    "    * When indexing a string, remember that indices start counting at 0, so the firstt letter 'd' is index 0, but is position 1Remember that an index starts atRemember the difference between element number (how most of us are used to counting) and index, which starts at 0 for the left-most element.\n",
    "2. This is the _index_ of string A which is the first letter\n",
    "3. Capitalize it\n",
    "\n",
    "\n",
    "Second letter:\n",
    "1. Take the length of the string A, divide it by 7 and add 3. Round down to the nearest integer (floor division) to ensure you are using an integer as for your index.\n",
    "2. The answer from 1 is the _negative index_ of the second letter. This means that if you calculated `5` in step 1, you are looking for the letter found at `A[-5]`. \n",
    "   * Remember that negative indices start at the right-most position (`b`) with an index of `-1`, and then the second position from the right (`k`) has an index of `-2`, and so on.\n",
    "\n",
    "\n",
    "Third letter:\n",
    "1. Create a string that is made up of _every second letter_ from index 14 to index 34 (inclusive). You may wish to use an internet search or Generative AI (see Task 7) to figure out how to choose every second letter when slicing. We will learn more about this soon when we are learning about lists.\n",
    "2. Find the number of times the letter `i` is in this substring and raise this number to the power of 2. This is the _index_ of the third letter\n",
    "\n",
    "\n",
    "Fourth Letter:\n",
    "1. Add the number of times the letter `e` appears to the number of times the letter `c` appears (in the whole string). Use this as a negative index to determine the fourth letter."
   ]
  },
  {
   "cell_type": "code",
   "execution_count": null,
   "metadata": {},
   "outputs": [],
   "source": [
    "# Code for your answer here\n",
    "\n",
    "A = 'dsjsoofdjsnwraebseiyiuhjijenrheegrbeqiloieskjbdkb'\n",
    "\n",
    "# First letter\n",
    "count_o = A[2:9].count('o')\n",
    "first_letter = A[count_o].upper()\n",
    "\n",
    "# Second letter\n",
    "string_length = len(A)\n",
    "second_letter_index = (string_length // 7) + 3\n",
    "second_letter = A[-second_letter_index]\n",
    "\n",
    "# Third letter\n",
    "substring = A[14:35:2]\n",
    "count_i = substring.count('i')\n",
    "third_letter_index = count_i ** 2\n",
    "third_letter = A[third_letter_index]\n",
    "\n",
    "# Fourth letter\n",
    "count_e = A.count('e')\n",
    "count_c = A.count('c')\n",
    "fourth_letter_index = -(count_e + count_c)\n",
    "fourth_letter = A[fourth_letter_index]\n",
    "\n",
    "print(first_letter, second_letter, third_letter, fourth_letter)"
   ]
  },
  {
   "cell_type": "markdown",
   "metadata": {},
   "source": [
    "## Task 5: Group-activity decision-maker\n",
    "Write some code to help your group decide what to do based on the weather and available budget. Use the variables below and write conditional statements that print different activity recommendations. After you are done coding the different conditions, go back and double-check that your logic still works correctly for each condition."
   ]
  },
  {
   "cell_type": "code",
   "execution_count": null,
   "metadata": {},
   "outputs": [],
   "source": [
    "weather = \"sunny\"  # could be \"sunny\", \"rainy\", \"snowy\", \"cloudy\"\n",
    "budget = 25        # dollars available\n",
    "temperature = 18   # degrees Celsius\n",
    "group_size = 4     # number of people in your group\n",
    "\n",
    "# Write if/elif/else statements to recommend activities. E.g.,\n",
    "# - \"Go hiking!\" (if sunny and warm and budget > 10)\n",
    "# - \"Movie time!\" (if rainy or cold and budget > 60)\n",
    "# - \"Study session!\" (if budget < 20)\n",
    "# - etc. Be creative and make sure every group member adds a condition!"
   ]
  },
  {
   "cell_type": "code",
   "execution_count": null,
   "metadata": {},
   "outputs": [],
   "source": [
    "# Solution\n",
    "\n",
    "weather = \"sunny\"  # could be \"sunny\", \"rainy\", \"snowy\", \"cloudy\"\n",
    "budget = 25        # dollars available\n",
    "temperature = 18   # degrees Celsius\n",
    "group_size = 4     # number of people in your group\n",
    "\n",
    "if weather == \"sunny\" and temperature >= 20 and budget >= 10:\n",
    "    print(\"Go hiking!\")\n",
    "    \n",
    "elif weather == \"sunny\" and temperature >= 20 and budget >= 40:\n",
    "    print(\"Picnic at the beach! Lots of money for food.\")\n",
    "    \n",
    "elif weather == \"rainy\" and budget >= 15 * group_size:\n",
    "    print(\"Movie time! Everyone can afford a ticket.\")\n",
    "    \n",
    "elif weather == \"snowy\" and temperature <= 0 and budget >= 30:\n",
    "    print(\"Ice skating and hot chocolate!\")\n",
    "    \n",
    "elif budget < 20:\n",
    "    print(\"Study session at the library!\")\n",
    "    \n",
    "elif weather == \"cloudy\" and budget >= 25 and budget < 50:\n",
    "    print(\"Visit a museum! Indoor activity within budget.\")\n",
    "    \n",
    "elif weather == \"rainy\" and budget < 15 * group_size:\n",
    "    print(\"Board game day!\")\n",
    "    \n",
    "elif temperature < 10 and budget >= 20:\n",
    "    print(\"Stay warm at the café!\")\n",
    "    \n",
    "elif weather == \"sunny\" and temperature < 15:\n",
    "    print(\"Walk in the park - dress warmly!\")\n",
    "    \n",
    "else:\n",
    "    print(\"Potluck dinner party!\")"
   ]
  },
  {
   "cell_type": "markdown",
   "metadata": {},
   "source": [
    "## Task 6: Group check-out for engagement points\n",
    "Only Tasks 1-5 are required for engagement points today. Once you reach **this point on the worksheet** call one of the members of the teaching team over to ask you some check-out questions. \n",
    "\n",
    "Afterward (or while you are waiting), we encourage you to try out the optional sequence of Tasks below."
   ]
  },
  {
   "cell_type": "markdown",
   "metadata": {},
   "source": [
    "## (Optional) Task 7: Getting started with Generative AI\n",
    "\n",
    "_**You are not required to use Generative AI in this course so please determine your own level of comfort in terms of how much you wish to engage with these tasks. Please feel free to split up the tasks or group up using a single computer.**_\n",
    "\n",
    "Be aware that if you create accounts for any of these services, any personal information used to create this account will be available to this service. As an additional precaution, you may wish to use a pseudonym and/or temporary email address for account creation. Additionally, information entered into the toola may be shared outside of Canada.\n",
    "\n",
    "**GenAI services which do not require an account**\n",
    "\n",
    "Each of these services can be interacted with in a limited fashion from an incognito browser in a way that does not require a login. \n",
    "\n",
    "* https://copilot.microsoft.com/ - Like with all of the online Microsoft products, you can login to this using your  @student.ubc.ca email address and your CWL password. As of August, 2025, Copilot is built on GPT-5 (the same large language model as ChatGPT) and uses servers in Canada. See also \n",
    "[UBC guidance for use](https://ai.ctlt.ubc.ca/microsoft-copilot-for-organizations/).\n",
    "\n",
    "* https://chatgpt.com/ - The free, no login version is ChatGPT 4o mini. (see [UBC guidance for use](https://ai.ctlt.ubc.ca/chatgpt-without-an-account/)). You can also create a free account for additional functionality and access to a powerful version.\n",
    "\n",
    "* https://www.meta.ai/ - This requires an age verification prompt if using without logging in. \n",
    "\n",
    "* https://chat.mistral.ai/ - Mistral's GenAI\n",
    "\n",
    "**GenAI services which require a free account**\n",
    "\n",
    "* https://gemini.google.com/ - Google's GenAI\n",
    "* https://claude.ai/ - Anthropic's GenAI\n",
    "\n",
    "**GenAI services available from within CoCalc**\n",
    "\n",
    "* With your free CoCalc account you will find a \"generate with AI\" link inside the Jupyter cells. After you enter your prompt, you can choose which GenAI to use beside the \"Generate with...\" button. This gives you access to compact versions of ChatGPT, Gemini, Claude and Mistral."
   ]
  },
  {
   "cell_type": "markdown",
   "metadata": {},
   "source": [
    "### Task 7.1\n",
    "To the degree that you are comfortable doing so, each person in your group should choose a different one of the services above for this question and the following questions:\n",
    "\n",
    "\n",
    "* Use your chosen service to learn how to get a value for 1/e in python. An example prompt you could use is \"How do I calculate 1/e in python?\", but you should experiment to learn different ways to write a prompt. Ask it how to get values for pi, tau and other mathematical constants using different styles of prompts. What happens if you ask it to specifically use the math or numpy libraries? What happens if you ask it for a function as opposed to a constant?\n",
    "* Compare with the other people in your group and record a few notes on what you learned about the different services or different ways of creating generative AI prompts\n"
   ]
  },
  {
   "cell_type": "markdown",
   "metadata": {},
   "source": [
    "**Notes on 7.1 for group member #1**\n",
    "* ...\n",
    "* ...\n",
    "* ..."
   ]
  },
  {
   "cell_type": "markdown",
   "metadata": {},
   "source": [
    "**Notes on 7.1 for group member #2**\n",
    "* ...\n",
    "* ...\n",
    "* ..."
   ]
  },
  {
   "cell_type": "markdown",
   "metadata": {},
   "source": [
    "**Notes on 7.1 for group member #3**\n",
    "* ...\n",
    "* ...\n",
    "* ..."
   ]
  },
  {
   "cell_type": "markdown",
   "metadata": {},
   "source": [
    "**Notes on 7.1 for group member #4**\n",
    "* ...\n",
    "* ...\n",
    "* ..."
   ]
  },
  {
   "cell_type": "markdown",
   "metadata": {},
   "source": [
    "### Task 7.2\n",
    "* Use your preferred string formatting method to create a string \"After one time constant a value decays to (something) or (something else) of its original value\" using a string variable `oneovere = \"1/e\"` and your preferred method of determining a `value` for 1/e from Task 7.1. Recall that the string formatting methods are percent-style string formatting (old style), str.format() (new style) and f-strings.\n",
    "* Apply your string formatting method to `my_string` to incorporate `oneovere` and `value` in a way that will give the desired output to pass the assert statement\n",
    "* Your group can choose to all work on your individual preferred methods, team-up to work on one method, or divide up the different string formatting approaches between group members"
   ]
  },
  {
   "cell_type": "markdown",
   "metadata": {},
   "source": [
    "**Code for group member or method #1**"
   ]
  },
  {
   "cell_type": "code",
   "execution_count": null,
   "metadata": {},
   "outputs": [],
   "source": [
    "# Update the code to pass the assert statement\n",
    "\n",
    "oneovere1 = \"1/e\"\n",
    "value1 =  # Use a math or numpy constant or function\n",
    "my_string1 = \"After one time constant a value decays to (something) or (something else) of its original value\""
   ]
  },
  {
   "cell_type": "code",
   "execution_count": null,
   "metadata": {},
   "outputs": [],
   "source": [
    "assert my_string1 == \"After one time constant a value decays to 1/e or 36.8% of its original value\""
   ]
  },
  {
   "cell_type": "markdown",
   "metadata": {},
   "source": [
    "**Code for group member or method #2**"
   ]
  },
  {
   "cell_type": "code",
   "execution_count": null,
   "metadata": {},
   "outputs": [],
   "source": [
    "# Update the code to pass the assert statement\n",
    "\n",
    "oneovere2 = \"1/e\"\n",
    "value2 =  # Use a math or numpy constant or function\n",
    "my_string2 = \"After one time constant a value decays to (something) or (something else) of its original value\""
   ]
  },
  {
   "cell_type": "code",
   "execution_count": null,
   "metadata": {},
   "outputs": [],
   "source": [
    "assert my_string2 == \"After one time constant a value decays to 1/e or 36.8% of its original value\""
   ]
  },
  {
   "cell_type": "markdown",
   "metadata": {},
   "source": [
    "**Code for group member or method #3**"
   ]
  },
  {
   "cell_type": "code",
   "execution_count": null,
   "metadata": {},
   "outputs": [],
   "source": [
    "# Update the code to pass the assert statement\n",
    "\n",
    "oneovere3 = \"1/e\"\n",
    "value3 =  # Use a math or numpy constant or function\n",
    "my_string3 = \"After one time constant a value decays to (something) or (something else) of its original value\""
   ]
  },
  {
   "cell_type": "code",
   "execution_count": null,
   "metadata": {},
   "outputs": [],
   "source": [
    "assert my_string3 == \"After one time constant a value decays to 1/e or 36.8% of its original value\""
   ]
  },
  {
   "cell_type": "markdown",
   "metadata": {},
   "source": [
    "**Code for group member or method #4**"
   ]
  },
  {
   "cell_type": "code",
   "execution_count": null,
   "metadata": {},
   "outputs": [],
   "source": [
    "# Update the code to pass the assert statement\n",
    "\n",
    "oneovere4 = \"1/e\"\n",
    "value4 =  # Use a math or numpy constant or function\n",
    "my_string4 = \"After one time constant a value decays to (something) or (something else) of its original value\""
   ]
  },
  {
   "cell_type": "code",
   "execution_count": null,
   "metadata": {},
   "outputs": [],
   "source": [
    "assert my_string4 == \"After one time constant a value decays to 1/e or 36.8% of its original value\""
   ]
  },
  {
   "cell_type": "markdown",
   "metadata": {},
   "source": [
    "### Task 7.3\n",
    "Use one or more of the Generative AI services to convert your formatted `my_string` string from one string formatting method to another. Try to figure out the most concise prompt needed to do this. Record your most concise prompt for each service you try this out on."
   ]
  },
  {
   "cell_type": "markdown",
   "metadata": {},
   "source": [
    "**Service #1**\n",
    "\n",
    "* .."
   ]
  },
  {
   "cell_type": "markdown",
   "metadata": {},
   "source": [
    "**Service #2**\n",
    "\n",
    "* .."
   ]
  },
  {
   "cell_type": "markdown",
   "metadata": {},
   "source": [
    "**Service #3**\n",
    "\n",
    "* .."
   ]
  },
  {
   "cell_type": "markdown",
   "metadata": {},
   "source": [
    "**Service #4**\n",
    "\n",
    "* .."
   ]
  }
 ],
 "metadata": {
  "kernelspec": {
   "display_name": "Python 3",
   "language": "python",
   "name": "python3"
  },
  "language_info": {
   "codemirror_mode": {
    "name": "ipython",
    "version": 3
   },
   "file_extension": ".py",
   "mimetype": "text/x-python",
   "name": "python",
   "nbconvert_exporter": "python",
   "pygments_lexer": "ipython3",
   "version": "3.7.6"
  },
  "widgets": {
   "application/vnd.jupyter.widget-state+json": {
    "state": {},
    "version_major": 2,
    "version_minor": 0
   }
  }
 },
 "nbformat": 4,
 "nbformat_minor": 4
}

{
 "cells": [
  {
   "cell_type": "markdown",
   "metadata": {
    "slideshow": {
     "slide_type": "slide"
    }
   },
   "source": [
    "# PHYS 210 Day 03 - Sep 10, 2025\n",
    "Assigned tables are by specialization\n",
    "1. Announcements\n",
    "1. Preclass 03 Q&A and polling questions\n",
    "     * **Get you iclicker up and running**\n",
    "1. (Group) Worksheet 03\n",
    "1. Homework 03"
   ]
  },
  {
   "cell_type": "markdown",
   "metadata": {
    "slideshow": {
     "slide_type": "slide"
    }
   },
   "source": [
    "## When you need help...\n",
    "\n",
    "* Troubleshooting, debugging and reasonable help-seeking with google and Generative AI\n",
    "* TAs, me and classmates during class time\n",
    "* **Piazza** if it is reasonable that another student could benefit from the answer or could help answer the question \n",
    "   * \"Please explain the answer for Homework Q3 since I don't quite get it\"\n",
    "* Office hours (Hebb 112 and zoom): Tu 4-5:30pm, Th 11:45am-1:15pm, Th 4-5:30pm, Fr 2:15-3:45pm\n",
    "* Contact me privately only if none of those seem like the right thing"
   ]
  },
  {
   "cell_type": "markdown",
   "metadata": {
    "slideshow": {
     "slide_type": "slide"
    }
   },
   "source": [
    "## Reading topics (our polling questions and Q&A)\n",
    "\n",
    "* **lists (and nested lists):** a container variable that holds an ordered sequence of other variables\n",
    "* **`for` Loops:** iterate through the elements of an iterable object. `break` and `continue` keywords\n",
    "* **`range()`:** a list-like object useful for generating indicies in `for` loops\n",
    "* **Indentation:** New blocks of code must be indented. 4 spaces is best"
   ]
  },
  {
   "cell_type": "markdown",
   "metadata": {
    "slideshow": {
     "slide_type": "slide"
    }
   },
   "source": [
    "**Poll Q1:** What will the following code output?"
   ]
  },
  {
   "cell_type": "code",
   "execution_count": null,
   "metadata": {},
   "outputs": [],
   "source": [
    "alphabet = ['a', 'b', 'c', 'd', 'e', 'f', 'g'] \n",
    "print(alphabet[1:5:2])"
   ]
  },
  {
   "cell_type": "markdown",
   "metadata": {},
   "source": [
    "A) `['a', 'c', 'e']` <br>\n",
    "B) `['b', 'd', 'f']` <br>\n",
    "C) `['a', 'c']` <br>\n",
    "D) `['b', 'd']` <br>\n",
    "E) `['a', 'c', 'e', 'g']`"
   ]
  },
  {
   "cell_type": "code",
   "execution_count": null,
   "metadata": {
    "slideshow": {
     "slide_type": "slide"
    }
   },
   "outputs": [],
   "source": [
    "print(alphabet[:-2])\n",
    "print(alphabet[::-2])"
   ]
  },
  {
   "cell_type": "markdown",
   "metadata": {
    "slideshow": {
     "slide_type": "slide"
    }
   },
   "source": [
    "### Could we review the double indexing from question 1?\n",
    "Let's look at a similar nested list example"
   ]
  },
  {
   "cell_type": "code",
   "execution_count": null,
   "metadata": {},
   "outputs": [],
   "source": [
    "nested = [1, [\"2a\", \"2b\"], 3] \n",
    "print(\"The length of this list is\", len(nested))\n",
    "print(nested[1])\n",
    "print(nested[1][1])"
   ]
  },
  {
   "cell_type": "markdown",
   "metadata": {
    "slideshow": {
     "slide_type": "slide"
    }
   },
   "source": [
    "**Q.** Can we use append to add something midway into a list?"
   ]
  },
  {
   "cell_type": "markdown",
   "metadata": {
    "slideshow": {
     "slide_type": "slide"
    }
   },
   "source": [
    "`list.insert(index, element)` is a list method that allows you to insert an element anywhere in the list:\n",
    "\n",
    "* `index`: where to insert the element (can be positive or negative). If greater than the length of the list, the element is added at the end.\n",
    "* `element`: The item to insert into the list.\n"
   ]
  },
  {
   "cell_type": "code",
   "execution_count": null,
   "metadata": {
    "slideshow": {
     "slide_type": "-"
    }
   },
   "outputs": [],
   "source": [
    "my_list = [1, 2, 4, 5]\n",
    "my_list.insert(2, 3)  # Insert 3 at index 2 \n",
    "print(my_list) \n",
    "my_list.insert(100, 6)  # Insert 6 at the end \n",
    "print(my_list) "
   ]
  },
  {
   "cell_type": "markdown",
   "metadata": {
    "slideshow": {
     "slide_type": "slide"
    }
   },
   "source": [
    "Less common would be to use list concatenation"
   ]
  },
  {
   "cell_type": "code",
   "execution_count": null,
   "metadata": {},
   "outputs": [],
   "source": [
    "my_list = [2, 3, 4]\n",
    "my_list = [1] + my_list \n",
    "print(my_list)"
   ]
  },
  {
   "cell_type": "code",
   "execution_count": null,
   "metadata": {},
   "outputs": [],
   "source": [
    "idx = 2\n",
    "my_list = [1, 2, 4, 5]\n",
    "my_list = my_list[:2] + [3] + my_list[2:] \n",
    "print(my_list)"
   ]
  },
  {
   "cell_type": "markdown",
   "metadata": {
    "slideshow": {
     "slide_type": "slide"
    }
   },
   "source": [
    "### Discussed on piazza\n",
    "Iterating over the elements of a list/string vs over the a range object based on the length of the string/list"
   ]
  },
  {
   "cell_type": "code",
   "execution_count": null,
   "metadata": {
    "slideshow": {
     "slide_type": "slide"
    }
   },
   "outputs": [],
   "source": [
    "mystring = 'ABC'\n",
    "\n",
    "for x1 in mystring: # Iterating over the string\n",
    "    print(x1)"
   ]
  },
  {
   "cell_type": "code",
   "execution_count": null,
   "metadata": {},
   "outputs": [],
   "source": [
    "for x2 in range( len(mystring) ): # Iterating over the range\n",
    "    print(x2, mystring[x2])"
   ]
  },
  {
   "cell_type": "markdown",
   "metadata": {
    "slideshow": {
     "slide_type": "slide"
    }
   },
   "source": [
    "Also note that we can also use `enumerate` to do both things at once"
   ]
  },
  {
   "cell_type": "code",
   "execution_count": null,
   "metadata": {},
   "outputs": [],
   "source": [
    "mystring = 'ABC'\n",
    "\n",
    "for i, element in enumerate(mystring):\n",
    "    print(\"i =\",i,\"; element =\",element)"
   ]
  },
  {
   "cell_type": "markdown",
   "metadata": {
    "slideshow": {
     "slide_type": "slide"
    }
   },
   "source": [
    "**Questions about `break` (and let's also discuss `continue`):** <br>\n",
    "`continue` drops you to the end of the current iteration and starts the next iteration (if there is one). `break` forces you to exit the loop. Each of them do so immediately when they are encountered. The following code prints `0, 1, 3, 4`.  `2` isn’t printed because of the continue, and 5 deosn't happen because the loop is terminated."
   ]
  },
  {
   "cell_type": "code",
   "execution_count": null,
   "metadata": {},
   "outputs": [],
   "source": [
    "for x in range(10):\n",
    "    if x == 2:\n",
    "        continue\n",
    "    elif x == 5:\n",
    "        break\n",
    "    else:\n",
    "        print(x)"
   ]
  },
  {
   "cell_type": "markdown",
   "metadata": {
    "slideshow": {
     "slide_type": "slide"
    }
   },
   "source": [
    "**Poll Q2a:** How many times will 'hello' be printed?:"
   ]
  },
  {
   "cell_type": "code",
   "execution_count": null,
   "metadata": {},
   "outputs": [],
   "source": [
    "for i in range(5):\n",
    "    if (i == 3):\n",
    "        break\n",
    "    print (i, \"hello\")"
   ]
  },
  {
   "cell_type": "markdown",
   "metadata": {},
   "source": [
    "A) 6<br>\n",
    "B) 5<br>\n",
    "C) 4<br>\n",
    "D) 3<br>\n",
    "E) 1"
   ]
  },
  {
   "cell_type": "markdown",
   "metadata": {
    "slideshow": {
     "slide_type": "slide"
    }
   },
   "source": [
    "**Poll Q2b:** How many times will 'hello' be printed?:"
   ]
  },
  {
   "cell_type": "code",
   "execution_count": null,
   "metadata": {},
   "outputs": [],
   "source": [
    "for i in range(0,6,2):\n",
    "    if (i == 2):\n",
    "        continue\n",
    "    print (i,\"hello\")"
   ]
  },
  {
   "cell_type": "markdown",
   "metadata": {},
   "source": [
    "A) 6<br>\n",
    "B) 5<br>\n",
    "C) 4<br>\n",
    "D) 3<br>\n",
    "E) 1"
   ]
  },
  {
   "cell_type": "markdown",
   "metadata": {
    "slideshow": {
     "slide_type": "slide"
    }
   },
   "source": [
    "# The rest of today\n",
    "Two options for group worksheets today:\n",
    "* If using CoCalc, work in groups of 3-4\n",
    "* If not using CoCalc, work **closely** with a partner (ideally on one device and then share the notebook afterward)\n",
    "\n",
    "Solutions to Worksheet 02 are posted"
   ]
  },
  {
   "cell_type": "code",
   "execution_count": null,
   "metadata": {},
   "outputs": [],
   "source": []
  }
 ],
 "metadata": {
  "celltoolbar": "Slideshow",
  "kernelspec": {
   "display_name": "Python 3",
   "language": "python",
   "name": "python3"
  },
  "language_info": {
   "codemirror_mode": {
    "name": "ipython",
    "version": 3
   },
   "file_extension": ".py",
   "mimetype": "text/x-python",
   "name": "python",
   "nbconvert_exporter": "python",
   "pygments_lexer": "ipython3",
   "version": "3.7.6"
  }
 },
 "nbformat": 4,
 "nbformat_minor": 4
}

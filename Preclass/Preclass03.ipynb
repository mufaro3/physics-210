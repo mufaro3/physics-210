{
 "cells": [
  {
   "cell_type": "markdown",
   "metadata": {
    "id": "UFf2XTsPQjrb"
   },
   "source": [
    "# Preclass Preaparation Assignment: Day 03 (Sep 10, 2025)<br>Lists and For Loops\n",
    "Learning goals\n",
    "1. Create, index and slice a one-dimensional or nested list\n",
    "1. Modify a list through indexing, slicing and list methods\n",
    "1. Build a `for` loop that iterates directly over the elements of a string or list\n",
    "1. Build a `for` loop that iterates over a `range` object\n",
    "1. Use the break keywords in a `for` loop"
   ]
  },
  {
   "cell_type": "markdown",
   "metadata": {
    "id": "2R0I6Ya9Qjrl"
   },
   "source": [
    "## *Self-assessment questions*\n",
    "\n",
    "**If you can already answer these correctly, you can skip the rest of the reading assignment and submit it. Otherwise, complete the rest of the reading assignment and return to these questions to test what you learned. You might decide you would benefit from further review before class.**\n",
    "\n",
    "Note that these questions can often be answered easily by running the provided code, so the intellectual work on your part is figuring out the correct answer and then running the code to check your answer.\n",
    "\n",
    "Please ensure all of these self-assessment questions are answered correctly before submitting this pre-class reading assignment. The *Your Turn* questions, found throughout the rest of this assignment, are for your practice as you learn this material and do not need to be answered correctly to receive full completion marks for this pre-class reading assignment.\n",
    "\n",
    "Instructions for submission can be found at the end of this document."
   ]
  },
  {
   "cell_type": "markdown",
   "metadata": {},
   "source": [
    "### Self-assessment Q1\n",
    "\n",
    "Which number will be printed by the following?\n",
    "```python\n",
    "gnarly_list = [ 1, [2, 3, 4], [5, 6, 7, 8] ]\n",
    "print(gnarly_list[-2][1])\n",
    "```\n",
    "A) 1<br>\n",
    "B) 2<br>\n",
    "C) 3<br>\n",
    "D) 5<br>\n",
    "E) 6<br>\n",
    "F) 7"
   ]
  },
  {
   "cell_type": "code",
   "execution_count": null,
   "metadata": {},
   "outputs": [],
   "source": [
    "# Code testing area to help answer this question\n",
    "\n"
   ]
  },
  {
   "cell_type": "code",
   "execution_count": null,
   "metadata": {},
   "outputs": [],
   "source": [
    "# Enter your answer inside the string quotes and then run this cell to check your anwer\n",
    "\n",
    "answer = \"\"\n",
    "\n",
    "import hashlib\n",
    "assert answer in ['A', 'B', 'C', 'D', 'E', 'F'], \"Your answer did not match any of the choices\"\n",
    "assert hashlib.sha256(answer.encode()).hexdigest() == \\\n",
    "    '6b23c0d5f35d1b11f9b683f0b0a617355deb11277d91ae091d399c655b87940d', \"Your answer is incorrect\"\n",
    "print(\"Your answer\", answer, \"is correct\") # Passed all assert statements above"
   ]
  },
  {
   "cell_type": "markdown",
   "metadata": {},
   "source": [
    "### Self-assessment question Q2\n",
    "\n",
    "What will be printed by the following?\n",
    "```python\n",
    "my_list = [4, 5, 6, 7]\n",
    "\n",
    "my_list.append(8)\n",
    "my_list[1] = [4, 4]\n",
    "\n",
    "print(my_list)\n",
    "```\n",
    "A) `[4, 4, 4, 6, 7]`<br>\n",
    "B) `[4, 4, 4, 6, 7, 8]`<br>\n",
    "C) `[[4, 4], 5, 6, 7, 8]`<br>\n",
    "D) `[4, [4, 4], 6, 7, 8]`<br>\n",
    "E) `[[4, 4], 5, 6, 7]`<br>\n",
    "F) `[4, [4, 4], 6, 7]`"
   ]
  },
  {
   "cell_type": "code",
   "execution_count": null,
   "metadata": {},
   "outputs": [],
   "source": [
    "# Code testing area to help answer this question\n",
    "\n"
   ]
  },
  {
   "cell_type": "code",
   "execution_count": null,
   "metadata": {},
   "outputs": [],
   "source": [
    "# Enter your answer inside the string quotes and then run this cell to check your anwer\n",
    "\n",
    "answer = \"\"\n",
    "\n",
    "import hashlib\n",
    "assert answer in ['A', 'B', 'C', 'D', 'E', 'F'], \"Your answer did not match any of the choices\"\n",
    "assert hashlib.sha256(answer.encode()).hexdigest() == \\\n",
    "    '3f39d5c348e5b79d06e842c114e6cc571583bbf44e4b0ebfda1a01ec05745d43', \"Your answer is incorrect\"\n",
    "print(\"Your answer\", answer, \"is correct\") # Passed all assert statements above"
   ]
  },
  {
   "cell_type": "markdown",
   "metadata": {},
   "source": [
    "### Self-assessment question Q3\n",
    "\n",
    "What will be the output of the following?\n",
    "\n",
    "```python\n",
    "gnarly_list2 = [ 1, [2, 3] ]\n",
    "for item in gnarly_list2:\n",
    "    print(item)\n",
    "```\n",
    "A)<br> &nbsp; &nbsp;`1`<br> &nbsp; &nbsp;`2`<br> &nbsp; &nbsp;`3`<br>\n",
    "B)<br> &nbsp; &nbsp;`1`<br> &nbsp; &nbsp;`[2]`<br> &nbsp; &nbsp;`[3]`<br>\n",
    "C)<br> &nbsp; &nbsp;`1`<br> &nbsp; &nbsp;`[2, 3]`\n"
   ]
  },
  {
   "cell_type": "code",
   "execution_count": null,
   "metadata": {},
   "outputs": [],
   "source": [
    "# Code testing area to help answer this question\n",
    "\n"
   ]
  },
  {
   "cell_type": "code",
   "execution_count": null,
   "metadata": {},
   "outputs": [],
   "source": [
    "# Enter your answer inside the string quotes and then run this cell to check your anwer\n",
    "\n",
    "answer = \"\"\n",
    "\n",
    "import hashlib\n",
    "assert answer in ['A', 'B', 'C'], \"Your answer did not match any of the choices\"\n",
    "assert hashlib.sha256(answer.encode()).hexdigest() == \\\n",
    "    '6b23c0d5f35d1b11f9b683f0b0a617355deb11277d91ae091d399c655b87940d', \"Your answer is incorrect\"\n",
    "print(\"Your answer\", answer, \"is correct\") # Passed all assert statements above"
   ]
  },
  {
   "cell_type": "markdown",
   "metadata": {
    "id": "lmdd9pYcQjru"
   },
   "source": [
    "### Self-assessment Q4\n",
    "\n",
    "Which of the loops below will output `A` as its first line?\n",
    "```python\n",
    "# For loop 1\n",
    "alpha = \"ABCDE\"\n",
    "for i in alpha:\n",
    "    print(i)\n",
    "\n",
    "# For loop 2\n",
    "alpha = \"ABCDE\"\n",
    "for i in alpha:\n",
    "    print(alpha[i])\n",
    "```\n",
    "A) For loop 1<br>\n",
    "B) For loop 2<br>\n",
    "C) Both for loops<br>\n",
    "D) Neither for loop"
   ]
  },
  {
   "cell_type": "code",
   "execution_count": null,
   "metadata": {
    "id": "ngzGCVuvQjrv"
   },
   "outputs": [],
   "source": [
    "# Code testing area to help answer this question\n",
    "\n"
   ]
  },
  {
   "cell_type": "code",
   "execution_count": null,
   "metadata": {
    "id": "Ouyx4O6RQjrv",
    "outputId": "55d47e38-2ac0-4689-d97e-dd2bf95180c8"
   },
   "outputs": [],
   "source": [
    "# Enter your answer inside the string quotes and then run this cell to check your answer\n",
    "\n",
    "answer = \"\"\n",
    "\n",
    "import hashlib\n",
    "assert answer in ['A', 'B', 'C', 'D'], \"Your answer did not match any of the choices\"\n",
    "assert hashlib.sha256(answer.encode()).hexdigest() == \\\n",
    "    '559aead08264d5795d3909718cdd05abd49572e84fe55590eef31a88a08fdffd', \"Your answer is incorrect\"\n",
    "print(\"Your answer\", answer, \"is correct\") # Passed all assert statements above"
   ]
  },
  {
   "cell_type": "markdown",
   "metadata": {},
   "source": [
    "### Self-assessment Q5\n",
    "\n",
    "What will be output by the following?\n",
    "```python\n",
    "for x in range(2,6):\n",
    "    if x == 3:\n",
    "        break\n",
    "    else:\n",
    "        print(x)\n",
    "```\n",
    "Commas below represent new lines<br><br>\n",
    "A) 2<br>\n",
    "B) 2, 3<br>\n",
    "C) 2, 4, 5<br>\n",
    "D) 2, 4, 5, 6<br>\n",
    "E) 2, 3, 4, 5<br>\n",
    "F) 2, 3, 4, 5, 6<br>"
   ]
  },
  {
   "cell_type": "code",
   "execution_count": null,
   "metadata": {},
   "outputs": [],
   "source": [
    "# Code testing area to help answer this question\n",
    "\n"
   ]
  },
  {
   "cell_type": "code",
   "execution_count": null,
   "metadata": {},
   "outputs": [],
   "source": [
    "# Enter your answer inside the string quotes and then r`un this cell to check your answer\n",
    "\n",
    "answer = \"\"\n",
    "\n",
    "import hashlib\n",
    "assert answer in ['A', 'B', 'C', 'D', 'E', 'F'], \"Your answer did not match any of the choices\"\n",
    "assert hashlib.sha256(answer.encode()).hexdigest() == \\\n",
    "    '559aead08264d5795d3909718cdd05abd49572e84fe55590eef31a88a08fdffd', \"Your answer is incorrect\"\n",
    "print(\"Your answer\", answer, \"is correct\") # Passed all assert statements above"
   ]
  },
  {
   "cell_type": "markdown",
   "metadata": {},
   "source": [
    "## *3.1 Lists*\n",
    "A `list` is a sequence of variables which can be of *any* type. We will reiterate this point later, but a list is mutable, meaning that after you create it, you can change or update the individual elements in the list. This is in contrast to a string, which is immutable.\n",
    "\n",
    "The most common way to create a Python `list` is to use the square brackets `[..]`:"
   ]
  },
  {
   "cell_type": "code",
   "execution_count": null,
   "metadata": {},
   "outputs": [],
   "source": [
    "# Run me!\n",
    "\n",
    "empty_list = [] # We will come back to this one later\n",
    "\n",
    "mylist = [2,3.,5/2,'somestuff'] # Notice it is a mix of different types of elements\n",
    "\n",
    "print(\"type:\",type(mylist))\n",
    "\n",
    "print(\"mylist:\", mylist)"
   ]
  },
  {
   "cell_type": "markdown",
   "metadata": {},
   "source": [
    "## *3.2 Indexing and slicing lists*\n",
    "\n",
    "Like we saw with strings, you can access individual elements in a list using their index. "
   ]
  },
  {
   "cell_type": "code",
   "execution_count": null,
   "metadata": {},
   "outputs": [],
   "source": [
    "# Run me!\n",
    "\n",
    "mylist=[2,3.,5/2,'somestuff']\n",
    "\n",
    "print(mylist[0]) # The first element has index = 0\n",
    "print(mylist[-1]) # The last element has index = -1"
   ]
  },
  {
   "cell_type": "markdown",
   "metadata": {},
   "source": [
    "Slicing also works the same way as we saw with strings"
   ]
  },
  {
   "cell_type": "code",
   "execution_count": null,
   "metadata": {},
   "outputs": [],
   "source": [
    "# Run me!\n",
    "\n",
    "mylist=[2,3.,5/2,'somestuff']\n",
    "\n",
    "print (mylist[2:])\n",
    "print (mylist[::-2])"
   ]
  },
  {
   "cell_type": "markdown",
   "metadata": {},
   "source": [
    "## *3.3 Modifying lists using indexing and slicing*\n",
    "As we mentioned earlier, lists are mutable (unlike strings), which means you can change their elements after creation."
   ]
  },
  {
   "cell_type": "code",
   "execution_count": null,
   "metadata": {},
   "outputs": [],
   "source": [
    "# Run me!\n",
    "\n",
    "mylist=[2,3.,5/2,'somestuff']\n",
    "print(mylist)\n",
    "mylist[-1] = 'differentstuff'\n",
    "print(mylist)"
   ]
  },
  {
   "cell_type": "markdown",
   "metadata": {},
   "source": [
    "You can also modify elements using slicing"
   ]
  },
  {
   "cell_type": "code",
   "execution_count": null,
   "metadata": {},
   "outputs": [],
   "source": [
    "# Run me!\n",
    "\n",
    "mylist=[2,3.,5/2,'somestuff']\n",
    "print(mylist)\n",
    "\n",
    "mylist[1:3] = [\"newstuff\",42]\n",
    "print(mylist)"
   ]
  },
  {
   "cell_type": "markdown",
   "metadata": {},
   "source": [
    "## *3.4 List methods*\n",
    "Like `string` objects, `list` objects have a bunch of useful methods (functions specific to lists) associated with them. A complete list can be found here, https://docs.python.org/3/tutorial/datastructures.html#more-on-lists, but let's look at the one we will put to the most use leading into our first project."
   ]
  },
  {
   "cell_type": "markdown",
   "metadata": {},
   "source": [
    "### Append: Add an item to the end of the list."
   ]
  },
  {
   "cell_type": "code",
   "execution_count": null,
   "metadata": {},
   "outputs": [],
   "source": [
    "# Run me!\n",
    "\n",
    "mylist=[2,3.,5/2,'somestuff']\n",
    "print(mylist)\n",
    "\n",
    "mylist.append(\"appendedstuff\")\n",
    "print(mylist)"
   ]
  },
  {
   "cell_type": "markdown",
   "metadata": {},
   "source": [
    "Notice that we can even start with an empty list and build it up using the `append()` method"
   ]
  },
  {
   "cell_type": "code",
   "execution_count": null,
   "metadata": {},
   "outputs": [],
   "source": [
    "# Run me!\n",
    "\n",
    "empty_list = [] # Create an empty list\n",
    "empty_list.append(1)\n",
    "empty_list.append(\"two\")\n",
    "empty_list.append(3.)\n",
    "print(empty_list) # Not so empty anymore"
   ]
  },
  {
   "cell_type": "markdown",
   "metadata": {},
   "source": [
    "## *3.5 Nested lists*\n",
    "Lists can also contain other lists, creating nested lists. \n",
    "\n",
    "In the example beow, we show how you can access the `index = 1` element of `gnarly_list` using the expected notation of `gnarly_list[1]`. However, if we want to then access an element within second-level list, we use a second square bracket, `gnarly_list[1][0]`."
   ]
  },
  {
   "cell_type": "code",
   "execution_count": null,
   "metadata": {},
   "outputs": [],
   "source": [
    "# Run me!\n",
    "\n",
    "gnarly_list = [ 1, [2, 3, 4], [5, 6, 7, 8] ]\n",
    "\n",
    "print(gnarly_list)\n",
    "\n",
    "print(gnarly_list[1])\n",
    "\n",
    "print(gnarly_list[1][0])"
   ]
  },
  {
   "cell_type": "markdown",
   "metadata": {},
   "source": [
    "### Your turn #1\n",
    "\n",
    "Using the correct indexing on our list `gnarly_list`, assign `8` to the varible `my_eight` to resolve the `assert` error."
   ]
  },
  {
   "cell_type": "code",
   "execution_count": null,
   "metadata": {},
   "outputs": [],
   "source": [
    "# Using indexing on gnarly_list, assign '8' to the varible 'my_eight'\n",
    "\n",
    "gnarly_list = [ 1, [2, 3, 4], [5, 6, 7, 8] ]\n",
    "\n",
    "my_eight = gnarly_list[1][1] # fix my indices\n",
    "\n",
    "assert my_eight == 8\n",
    "print(\"You answered correctly\")"
   ]
  },
  {
   "cell_type": "markdown",
   "metadata": {
    "id": "l1nqUWy9Qjr2"
   },
   "source": [
    "## *3.6 For loops*"
   ]
  },
  {
   "cell_type": "markdown",
   "metadata": {
    "id": "wjCwTAGPQjr2"
   },
   "source": [
    "There are two loop constructs in Python, `for` loops and `while` loops. In general, most tasks can be accomplished using either of these loop types, but they each have their own strengths and weaknesses. We are going to focus on `for` loops here and return to `while` loops in a future preclass preparation assignment.\n",
    "\n",
    "The `for` keyword in Python allows you to iterate through a countable list of elements inside what is called an iterable object, such as a `string` or a `list`.\n",
    "\n",
    "The syntax of the for loop is straightforward:"
   ]
  },
  {
   "cell_type": "code",
   "execution_count": null,
   "metadata": {
    "id": "3Ti-9zAVQjr3"
   },
   "outputs": [],
   "source": [
    "# Run me to loop through the elements of a string object!\n",
    "\n",
    "mystring='somestuff'\n",
    "\n",
    "for c in mystring:\n",
    "    print(\"element:\",c)"
   ]
  },
  {
   "cell_type": "markdown",
   "metadata": {},
   "source": [
    "So what is this `for` loop doing? it is saying that `mystring` is an iterable object and that it is going to iterate through each element in this iterable object, meaning it is going to first look at `character[0] = s`, then `character[1] = o`, and so on. Because the iterable object is a string, the `for c` part tells Python to create a variable `c`, which will be a `str type`, and which will hold each letter of `somestuff` one at a time, in sequence. Note that the variable `c` could have any name, but here we called it `c` to help remind us that it is used to store a character."
   ]
  },
  {
   "cell_type": "markdown",
   "metadata": {},
   "source": [
    "Let's look at a `for` loops iterating over the elements of a list. Here we use a list that is a mix of different types: `int`, `float` and `str`.\n",
    "\n",
    "As we did above, we are free to name the enumeration variable---we used `c` in the example above, but use `v` in the example below. In the example below, Python is updating the variable `v` and its `type` every time it picks up a new element from the list `mylist`."
   ]
  },
  {
   "cell_type": "code",
   "execution_count": null,
   "metadata": {},
   "outputs": [],
   "source": [
    "# Run me to loop through the elements of a string object!\n",
    "\n",
    "mylist=[2,3.,5/2,'somestuff']\n",
    "\n",
    "for v in mylist:\n",
    "    print(\"element:\", v, \"(type =\",type(v),\")\")"
   ]
  },
  {
   "cell_type": "markdown",
   "metadata": {},
   "source": [
    "## *3.7 For loop with `range()`*"
   ]
  },
  {
   "cell_type": "markdown",
   "metadata": {},
   "source": [
    "There is a convenient built-in function in Python, `range(n)`, which creates an iterable object containing the sequence of integers from `0` to `n-1`:"
   ]
  },
  {
   "cell_type": "code",
   "execution_count": null,
   "metadata": {},
   "outputs": [],
   "source": [
    "# Run me!\n",
    "\n",
    "range_object = range(5)\n",
    "\n",
    "print(\"range_object =\",range_object)\n",
    "\n",
    "print(\"type =\", type(range_object))"
   ]
  },
  {
   "cell_type": "markdown",
   "metadata": {},
   "source": [
    "Note that the type for this object is `range`. For those already familiar with lists in Python, this is a type of object that behaves much like a list when used in calculations, but is much more efficient in terms of memory storage. \n",
    "\n",
    "You can access `range` elements in the same way we've been accessing the individual elements in a string or list: "
   ]
  },
  {
   "cell_type": "code",
   "execution_count": null,
   "metadata": {},
   "outputs": [],
   "source": [
    "# Run me!\n",
    "range_object = range(5)\n",
    "\n",
    "for i in range_object:\n",
    "    print(i)"
   ]
  },
  {
   "cell_type": "markdown",
   "metadata": {},
   "source": [
    "This is similar to other Python counting that we have encountered: `range(5)` behaves like a 5-element list, which counts up from `0` up to `4`. "
   ]
  },
  {
   "cell_type": "markdown",
   "metadata": {},
   "source": [
    "Note the difference between the construction of the following two loops, which each have the same output\n",
    "\n",
    "* The variable `x1` in the first loop is of `str` type and takes on the value of each character in `mystring`\n",
    "* In the second loop, a `range` object is created, which has the same number of elements as the string `mystring`. Thus, `x2` is of `int` type and iterates through the indices 0-8 due to the `range(9)` object. To get each of the characters in `mystring`, we then use each index assigned to `x2` to access that element in `mystring` (e.g., `mystring[x2]`)."
   ]
  },
  {
   "cell_type": "code",
   "execution_count": null,
   "metadata": {},
   "outputs": [],
   "source": [
    "# Run me!\n",
    "\n",
    "mystring='somestuff'\n",
    "\n",
    "print(\"Iterating over the string\")\n",
    "for x1 in mystring:\n",
    "    print(x1)\n",
    "print(type(x1))\n",
    "    \n",
    "print(\"\") # Put a blank line between the two outputs\n",
    "\n",
    "print(\"Iterating over the range\")\n",
    "for x2 in range( len(mystring) ):\n",
    "    print(mystring[x2])\n",
    "print(type(x2))"
   ]
  },
  {
   "cell_type": "markdown",
   "metadata": {},
   "source": [
    "### Your turn #2\n",
    "What change do you need to make to the `print` statement below, so that  the output of the `for` loop will be as follows? \n",
    "```\n",
    "0\n",
    "1\n",
    "2\n",
    "3\n",
    "4\n",
    "5\n",
    "6\n",
    "7\n",
    "8\n",
    "```"
   ]
  },
  {
   "cell_type": "code",
   "execution_count": null,
   "metadata": {},
   "outputs": [],
   "source": [
    "# Fix me so that I have the correct output\n",
    "\n",
    "mystring='somestuff'\n",
    "\n",
    "for x2 in range( len(mystring) ):\n",
    "    print(mystring[x2])"
   ]
  },
  {
   "cell_type": "markdown",
   "metadata": {},
   "source": [
    "## *3.8 `range()` arguments*"
   ]
  },
  {
   "cell_type": "markdown",
   "metadata": {},
   "source": [
    "`range()` can take up to three arguments, the third (optional argument) is the step between elements, like what we saw with string slicing (see http://pythoncentral.io/pythons-range-function-explained/) for a full description). "
   ]
  },
  {
   "cell_type": "code",
   "execution_count": null,
   "metadata": {},
   "outputs": [],
   "source": [
    "# range requires one argument, `stop`, which means it counts from a default of `start` of 0 (inclusive)\n",
    "# up to `stop` exclusive\n",
    "\n",
    "for i in range(5):\n",
    "    print(i)"
   ]
  },
  {
   "cell_type": "code",
   "execution_count": null,
   "metadata": {},
   "outputs": [],
   "source": [
    "# If a second argument is included, this is interpreted as the start value, so this is\n",
    "# • start = 1 (inclusive)\n",
    "# • stop = 5 (exclusive)\n",
    "\n",
    "for i in range(1,5):\n",
    "    print(i)"
   ]
  },
  {
   "cell_type": "code",
   "execution_count": null,
   "metadata": {},
   "outputs": [],
   "source": [
    "# If a third argument is included, this is interpreted as 'step', \n",
    "# which is the difference between each number in the sequence\n",
    "# • start = 1 (inclusive)\n",
    "# • stop = 5 (exclusive)\n",
    "# • step = 2\n",
    "\n",
    "for i in range(1,5,2):\n",
    "    print(i)"
   ]
  },
  {
   "cell_type": "code",
   "execution_count": null,
   "metadata": {},
   "outputs": [],
   "source": [
    "# Same as with string slicing, negative step values can be used to count backward\n",
    "\n",
    "for i in range(5, 0, -1):\n",
    "    print(i)"
   ]
  },
  {
   "cell_type": "markdown",
   "metadata": {},
   "source": [
    "## *3.9 Transforming a `range` object into a real python list*\n",
    "The `range` function makes a range object, which is treated like a list when used as an iterable object. However, it is not actually a list. Among other differences, it is immutable.\n",
    "\n",
    "However, you can use the function `list()` to transform a `range` object into a \"real Python list\". This can be a very quick way to make a list that is initially made of numbers following an equally-spaced sequence."
   ]
  },
  {
   "cell_type": "code",
   "execution_count": null,
   "metadata": {},
   "outputs": [],
   "source": [
    "# Run me!\n",
    "\n",
    "a = range(10,1,-2)\n",
    "print(type(a),\"a = \", a)\n",
    "\n",
    "b = list(a)\n",
    "print(type(b),\"b = \", b) # now b is a list!"
   ]
  },
  {
   "cell_type": "markdown",
   "metadata": {},
   "source": [
    "## *3.10 The `break` keyword*"
   ]
  },
  {
   "cell_type": "markdown",
   "metadata": {},
   "source": [
    "There will be many times when you want to end a `for` loop early because some condition was met. For example, in our `mystring` loop, perhaps we are searching for a `t` and want to stop the loop once we find our first `t`."
   ]
  },
  {
   "cell_type": "code",
   "execution_count": null,
   "metadata": {},
   "outputs": [],
   "source": [
    "# Run me!\n",
    "\n",
    "mystring='somestuff'\n",
    "\n",
    "for c in mystring:\n",
    "    print(\"character:\",c)\n",
    "    if c == \"t\":\n",
    "        print(\"We found a\", c)\n",
    "        break"
   ]
  },
  {
   "cell_type": "markdown",
   "metadata": {},
   "source": [
    "We can also look at an example where the `break` condition is triggered based on some arithmetic operation on the iteration variable `i`:"
   ]
  },
  {
   "cell_type": "code",
   "execution_count": null,
   "metadata": {},
   "outputs": [],
   "source": [
    "# Run me!\n",
    "\n",
    "for i in range(10):\n",
    "    \n",
    "    i_squared = i**2 # '**' is the Python exponent/power operator\n",
    "    \n",
    "    print(i, i_squared)\n",
    "    \n",
    "    if i_squared > 50:\n",
    "        print(\"Sorry, this number is too big\")\n",
    "        break"
   ]
  },
  {
   "cell_type": "markdown",
   "metadata": {},
   "source": [
    "## *3.11 Suggested further reading (optional)*\n",
    "\n",
    "We suggest spending a bit more time tying together many of the ideas that we have seen so far in this course. Here are some suggested readings.\n",
    "\n",
    "Read through the following three resources to help synthesize the python topics we have been looking at so far in the course:\n",
    "* Sections 8.1 to 8.10 ing http://greenteapress.com/thinkpython2/html/thinkpython2009.html which will review and add to what you know about strings and also covers for loops and iterating on them.\n",
    "* Skim sections 4.1 to 4.6 of https://docs.python.org/3/tutorial/controlflow.html. They provide a nice summary of the conditional statements that can be used for control flow in Python. Take these sections as reference materials, they cover a lot of ground: much of which we've seen, but there are a few things there that are more advanced. "
   ]
  },
  {
   "cell_type": "markdown",
   "metadata": {
    "id": "OENdW00hQjr4"
   },
   "source": [
    "## *Submitting this preclass assignment*\n",
    "Before submitting your work, restart + rerun your notebook to make sure that everything runs correctly and without error. We will only check that the Self-assessment questions at the start of the assignment have run correctly. After you've executed and checked your notebook, choose: `File => Save_and_Export_Notebook_As => HTML`. This will download an HTML version of your notebook to your computer which you can upload to Canvas"
   ]
  },
  {
   "cell_type": "code",
   "execution_count": null,
   "metadata": {
    "id": "kuqFL488Qjr4"
   },
   "outputs": [],
   "source": []
  }
 ],
 "metadata": {
  "colab": {
   "provenance": []
  },
  "kernelspec": {
   "display_name": "Python 3",
   "language": "python",
   "name": "python3"
  },
  "language_info": {
   "codemirror_mode": {
    "name": "ipython",
    "version": 3
   },
   "file_extension": ".py",
   "mimetype": "text/x-python",
   "name": "python",
   "nbconvert_exporter": "python",
   "pygments_lexer": "ipython3",
   "version": "3.7.6"
  }
 },
 "nbformat": 4,
 "nbformat_minor": 1
}

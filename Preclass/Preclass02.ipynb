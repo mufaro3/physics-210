{
 "cells": [
  {
   "cell_type": "markdown",
   "metadata": {},
   "source": [
    "# Preclass Preparation Assignment: Day 02 (Sep 08, 2025)<br>Strings, text formatting and conditionals\n",
    "Learning goals\n",
    "1. Look-up and use common string methods\n",
    "2. Use string indexing to choose a single character from a string\n",
    "3. Use string slicing to choose a subset of characters from within a larger string\n",
    "4. Use string concatenation and other string formatting methods to combine multiple variables into a longer string or to insert formatted variables into a string\n",
    "1. Build conditional statements using the the `if`, `elif` (\"else if\") and `else` keywords\n",
    "1. Use multiple conditional statements in a single `if` or `elif` statement using the `and`, `or` and `not` keywords\n",
    "1. Build a nested conditional (if you must)"
   ]
  },
  {
   "cell_type": "markdown",
   "metadata": {},
   "source": [
    "## *Self-assessment questions*\n",
    "\n",
    "**If you can already answer these correctly, you can skip the rest of the reading assignment and submit it. Otherwise, complete the rest of the reading assignment and return to these questions to test what you learned. You might decide you would benefit from further review before class.**\n",
    "\n",
    "**Important!** These questions can often be answered easily by running the provided code, so the intellectual work on your part is figuring out the correct answer and then running the code to check your answer.\n",
    "\n",
    "Please ensure all of these self-assessment questions are answered correctly before submitting this pre-class reading assignment. The *Your Turn* questions, found throughout the rest of this assignment, are for your practice as you learn this material and do not need to be answered correctly to receive full completion marks for this pre-class reading assignment.\n",
    "\n",
    "Instructions for submission can be found at the end of this document."
   ]
  },
  {
   "cell_type": "markdown",
   "metadata": {},
   "source": [
    "### Self-assessment Q1\n",
    "\n",
    "What will the following output?\n",
    "```python\n",
    "word1 = 'Hello'\n",
    "word2 = 'World'\n",
    "print((word1 + word2)*2) \n",
    "```\n",
    "A) Error: Addition and multiplication not allow with variable of type 'str'<br>\n",
    "B) HelloWorldHelloWorld<br>\n",
    "C) HelloWorld2 <br>\n",
    "D) HelloHelloWorldWorld <br>\n",
    "E) HWelorllod2HWeolrllod "
   ]
  },
  {
   "cell_type": "code",
   "execution_count": null,
   "metadata": {},
   "outputs": [],
   "source": [
    "# Code testing area to help answer this question\n",
    "\n"
   ]
  },
  {
   "cell_type": "code",
   "execution_count": null,
   "metadata": {},
   "outputs": [],
   "source": [
    "# Enter your answer inside the string quotes and then run this cell to check your answer\n",
    "\n",
    "answer = \"\"\n",
    "\n",
    "import hashlib\n",
    "assert answer in ['A', 'B', 'C', 'D', 'E'], \"Your answer did not match any of the choices\"\n",
    "assert hashlib.sha256(answer.encode()).hexdigest() == \\\n",
    "    'df7e70e5021544f4834bbee64a9e3789febc4be81470df629cad6ddb03320a5c', \"Your answer is incorrect\"\n",
    "print(\"Your answer\", answer, \"is correct\") # Passed all assert statements above"
   ]
  },
  {
   "cell_type": "markdown",
   "metadata": {},
   "source": [
    "### Self-assessment Q2\n",
    "\n",
    "What will the following output?\n",
    "```python\n",
    "word = 'notebook'\n",
    "os = word.count('o')\n",
    "print(word[1:os])\n",
    "```\n",
    "A) n<br>\n",
    "B) no<br>\n",
    "C) note<br>\n",
    "D) ot<br>\n",
    "E) ote<br>\n",
    "F) oteb    "
   ]
  },
  {
   "cell_type": "code",
   "execution_count": null,
   "metadata": {},
   "outputs": [],
   "source": [
    "# Code testing area to help answer this question\n",
    "\n"
   ]
  },
  {
   "cell_type": "code",
   "execution_count": null,
   "metadata": {},
   "outputs": [],
   "source": [
    "# Enter your answer inside the string quotes and then run this cell to check your answer\n",
    "\n",
    "answer = \"\"\n",
    "\n",
    "import hashlib\n",
    "assert answer in ['A', 'B', 'C', 'D', 'E', 'F'], \"Your answer did not match any of the choices\"\n",
    "assert hashlib.sha256(answer.encode()).hexdigest() == \\\n",
    "    '3f39d5c348e5b79d06e842c114e6cc571583bbf44e4b0ebfda1a01ec05745d43', \"Your answer is incorrect\"\n",
    "print(\"Your answer\", answer, \"is correct\") # Passed all assert statements above"
   ]
  },
  {
   "cell_type": "markdown",
   "metadata": {},
   "source": [
    "### Self-assessment Q3\n",
    "\n",
    "What will the following output?\n",
    "```python\n",
    "word = 'notebook'\n",
    "print(word[-3::-2])\n",
    "```\n",
    "A) koeo<br>\n",
    "B) oeo<br>\n",
    "C) obtn<br>\n",
    "D) btn<br>\n",
    "E) _None of the above<br>_"
   ]
  },
  {
   "cell_type": "code",
   "execution_count": null,
   "metadata": {},
   "outputs": [],
   "source": [
    "# Code testing area to help answer this question\n",
    "\n"
   ]
  },
  {
   "cell_type": "code",
   "execution_count": null,
   "metadata": {},
   "outputs": [],
   "source": [
    "# Enter your answer inside the string quotes and then run this cell to check your answer\n",
    "\n",
    "answer = \"\"\n",
    "\n",
    "import hashlib\n",
    "assert answer in ['A', 'B', 'C', 'D', 'E', 'F'], \"Your answer did not match any of the choices\"\n",
    "assert hashlib.sha256(answer.encode()).hexdigest() == \\\n",
    "    'df7e70e5021544f4834bbee64a9e3789febc4be81470df629cad6ddb03320a5c', \"Your answer is incorrect\"\n",
    "print(\"Your answer\", answer, \"is correct\") # Passed all assert statements above"
   ]
  },
  {
   "cell_type": "markdown",
   "metadata": {},
   "source": [
    "### Self-assessment Q4\n",
    "\n",
    "What will the following output?\n",
    "```python\n",
    "y = 9.47\n",
    "dy = 0.58293\n",
    "print(f\"The answer is {y:6.4f} +/- {dy:8.3f}\")\n",
    "```\n",
    "Or, if you are more comfortable with one of the other approaches to string formatting:\n",
    "```python\n",
    "print(\"The answer is {:6.4f} +/- {:8.3f}\".format(y, dy))\n",
    "```\n",
    "or\n",
    "```python\n",
    "print(\"The answer is %6.4f +/- %8.3f\" % (y, dy) )\n",
    "```\n",
    "A) `The Answer is 9.4700 +/-    0.583`<br>\n",
    "B) `The Answer is 9.4700 +/- 0.58293`<br>\n",
    "C) `The Answer is 09.4700 +/- 00000.583`<br>\n",
    "D) `The Answer is 9.4700 +/- 0.58300`<br>\n",
    "E) `The Answer is 9.47 +/- 0.58293`"
   ]
  },
  {
   "cell_type": "code",
   "execution_count": null,
   "metadata": {},
   "outputs": [],
   "source": [
    "# Code testing area to help answer this question\n",
    "\n"
   ]
  },
  {
   "cell_type": "code",
   "execution_count": null,
   "metadata": {},
   "outputs": [],
   "source": [
    "# Enter your answer inside the string quotes and then run this cell to check your anwer\n",
    "\n",
    "answer = \"\"\n",
    "\n",
    "import hashlib\n",
    "assert answer in ['A', 'B', 'C', 'D', 'E'], \"Your answer did not match any of the choices\"\n",
    "assert hashlib.sha256(answer.encode()).hexdigest() == \\\n",
    "    '559aead08264d5795d3909718cdd05abd49572e84fe55590eef31a88a08fdffd', \"Your answer is incorrect\"\n",
    "print(\"Your answer\", answer, \"is correct\") # Passed all assert statements above"
   ]
  },
  {
   "cell_type": "markdown",
   "metadata": {},
   "source": [
    "### Self-assessment Q5\n",
    "\n",
    "Assuming `x` is a number (float or integer), which value(s) of `x` would make `The 'elif' statement is true` print?\n",
    "\n",
    "```python\n",
    "if x > 0 :\n",
    "    print(\"The 'if' statement is true\")\n",
    "elif x > 2:\n",
    "    print(\"The 'elif' statement is true\")\n",
    "else:\n",
    "    print(\"The 'else' statement executed\")\n",
    "```\n",
    "\n",
    "A) No possible values of `x` <br>\n",
    "B) Any value greater than 0<br>\n",
    "C) Any value greater than 2<br>\n",
    "D) Any value in between 0 and 2"
   ]
  },
  {
   "cell_type": "code",
   "execution_count": null,
   "metadata": {},
   "outputs": [],
   "source": [
    "# Code testing area to help answer this question\n",
    "\n"
   ]
  },
  {
   "cell_type": "code",
   "execution_count": null,
   "metadata": {},
   "outputs": [],
   "source": [
    "# Enter your answer inside the string quotes and then run this cell to check your answer\n",
    "\n",
    "answer = \"\"\n",
    "\n",
    "import hashlib\n",
    "assert answer in ['A', 'B', 'C', 'D'], \"Your answer did not match any of the choices\"\n",
    "assert hashlib.sha256(answer.encode()).hexdigest() == \\\n",
    "    '559aead08264d5795d3909718cdd05abd49572e84fe55590eef31a88a08fdffd', \"Your answer is incorrect\"\n",
    "print(\"Your answer\", answer, \"is correct\") # Passed all assert statements above"
   ]
  },
  {
   "cell_type": "markdown",
   "metadata": {},
   "source": [
    "### Self-assessment Q6\n",
    "\n",
    "Assuming `x` is a number (float or integer), which value(s) of `x` would make `The 'else' statement executed` print?\n",
    "\n",
    "```python\n",
    "if x<0 and x>-4:\n",
    "    print(\"The 'if' statement is true\")\n",
    "elif x<-4:\n",
    "    print(\"The 'elif' statement is true\")\n",
    "else:\n",
    "    print(\"The 'else' statement executed\")\n",
    "```\n",
    "\n",
    "A) No possible values of `x`<br>\n",
    "B) Any value greater than 0<br>\n",
    "C) Any value equal to or greater than 0<br>\n",
    "D) -4 <br>\n",
    "E) -4 and any value equal to or greater than 0"
   ]
  },
  {
   "cell_type": "code",
   "execution_count": null,
   "metadata": {},
   "outputs": [],
   "source": [
    "# Code testing area to help answer this question\n",
    "\n"
   ]
  },
  {
   "cell_type": "code",
   "execution_count": null,
   "metadata": {},
   "outputs": [],
   "source": [
    "# Enter your answer inside the string quotes and then run this cell to check your answer\n",
    "\n",
    "answer = \"\"\n",
    "\n",
    "import hashlib\n",
    "assert answer in ['A', 'B', 'C', 'D', 'E'], \"Your answer did not match any of the choices\"\n",
    "assert hashlib.sha256(answer.encode()).hexdigest() == \\\n",
    "    'a9f51566bd6705f7ea6ad54bb9deb449f795582d6529a0e22207b8981233ec58', \"Your answer is incorrect\"\n",
    "print(\"Your answer\", answer, \"is correct\") # Passed all assert statements above"
   ]
  },
  {
   "cell_type": "markdown",
   "metadata": {},
   "source": [
    "## *2.1 Strings*\n",
    "We encountered strings on Day 01, but let's have a more careful look at this data type. In Python, a string is a sequence of characters enclosed within single quotes (`' '`), double quotes (`\" \"`), or triple quotes (`''' '''` or `\"\"\" \"\"\"`). Strings are one of the fundamental data types in Python and are used to represent textual data, such as names, sentences, paragraphs, and more.\n",
    "\n",
    "You can create a string by enclosing characters within quotes:\n",
    "\n",
    "**Single quotes**\n",
    "```python\n",
    "single_quoted_string = 'Hello, World!'\n",
    "```\n",
    "**Double quotes**\n",
    "```python\n",
    "double_quoted_string = \"Python is awesome!\"\n",
    "```\n",
    "**Triple quotes for multi-line strings**\n",
    "```python\n",
    "multi_line_string = '''This is a multi-line\n",
    "string in Python.'''\n",
    "```\n",
    "Pairs of single or double quotes are interchangeable. Triple quotes allow you to create multi-line strings, which can span across multiple lines without the need for escape characters like `\\n` (more on this later)."
   ]
  },
  {
   "cell_type": "markdown",
   "metadata": {},
   "source": [
    "## *2.2 String methods*\n",
    "In addition to strings we also encountered functions, such as `print()`, on Day 01. Today one of the things we are going to learn about is a *method*, which is a function associated with a specific type of object. As an example, every string has many methods that can be applied to it. The syntax is:\n",
    "\n",
    "```python\n",
    "myobject.this_method(these_parameters)\n",
    "```\n",
    "\n",
    "This would run the method `this_method` on the object `myobject` using the parameters `these_parameters`. The example below shows use of the `.capitalize()` string method."
   ]
  },
  {
   "cell_type": "code",
   "execution_count": null,
   "metadata": {},
   "outputs": [],
   "source": [
    "# Run me\n",
    "\n",
    "charvar=\"hello world\"\n",
    "print(charvar)\n",
    "\n",
    "# Try out the capitalize method\n",
    "new_charvar = charvar.capitalize()\n",
    "print(new_charvar)"
   ]
  },
  {
   "cell_type": "markdown",
   "metadata": {},
   "source": [
    "The exhaustive list of string methods is here: https://docs.python.org/3/library/stdtypes.html#string-methods \n",
    "\n",
    "Don’t spend a lot of time here – jusr check it out briefly. In the future, when you find yourself wondering if there’s an easy way to do *some particular thing* with a string, come back to the link and look for it."
   ]
  },
  {
   "cell_type": "markdown",
   "metadata": {},
   "source": [
    "### Your turn #1\n",
    "The `count` method should be fairly self-explanatory based on the example below. Modify which letter `c1` is counting so that the assertion error in the second cell is resolved."
   ]
  },
  {
   "cell_type": "code",
   "execution_count": null,
   "metadata": {},
   "outputs": [],
   "source": [
    "c1 = charvar.count('a') # charvar was defined in the previous code cell\n",
    "print(c1)\n",
    "\n",
    "c2 = charvar.count('o')\n",
    "print(c2)"
   ]
  },
  {
   "cell_type": "code",
   "execution_count": null,
   "metadata": {},
   "outputs": [],
   "source": [
    "# Note that we have updated the assert syntax to provide a specific output\n",
    "# when there is an assertion error\n",
    "\n",
    "assert c1 == 3, \"c1 is not equal to 3\"\n",
    "\n",
    "print(\"Your answer is correct\") # Passed all assert statements above"
   ]
  },
  {
   "cell_type": "markdown",
   "metadata": {},
   "source": [
    "## *2.3 Documentation*\n",
    "\n",
    "Python has an extensive 'help' system. For instance you can also access all methods of a String with a help command line by typing:"
   ]
  },
  {
   "cell_type": "code",
   "execution_count": null,
   "metadata": {},
   "outputs": [],
   "source": [
    "# Run me!\n",
    "\n",
    "help(str)"
   ]
  },
  {
   "cell_type": "markdown",
   "metadata": {},
   "source": [
    "Where `str` refers to strings. A full understanding of what this help command tells you will require knowledge from much later in the course (for the expert, str() is a class).\n",
    "\n",
    "If you just want to know about the capitalize method, you can use the following line of code:"
   ]
  },
  {
   "cell_type": "code",
   "execution_count": null,
   "metadata": {},
   "outputs": [],
   "source": [
    "# Run me!\n",
    "\n",
    "help(str.capitalize)"
   ]
  },
  {
   "cell_type": "markdown",
   "metadata": {},
   "source": [
    "## *2.4 String indexing*\n",
    "\n",
    "Indexing is the process of accessing an element in a sequence based on its position in the sequence. There are multiple data types in Python/numpy where we will want to do this, such as lists, arrays and strings. We will learn about indexing using strings, but will use this technique with other data types in the future.  In fact, in many practical ways, a string can be thought of as a list of characters.\n",
    "\n",
    "In Python, position 0 corresponds to the first element in a sequence, position 1 corresponds to the second element in a sequence, and so on. To index a specific element in a string, we indicate its index (position) using square brackets, `[ ]`.\n",
    "\n",
    "**Examples:**"
   ]
  },
  {
   "cell_type": "code",
   "execution_count": null,
   "metadata": {},
   "outputs": [],
   "source": [
    "# Run me!\n",
    "\n",
    "my_string = \"Hello, World!\"\n",
    "\n",
    "print(my_string[0]) \n",
    "print(my_string[7])"
   ]
  },
  {
   "cell_type": "markdown",
   "metadata": {},
   "source": [
    "We can also use negative indices to count backward, starting at the final element in the string (e.g., `[-1]`)\n",
    "\n",
    "**Examples:**"
   ]
  },
  {
   "cell_type": "code",
   "execution_count": null,
   "metadata": {},
   "outputs": [],
   "source": [
    "# Run me!\n",
    "\n",
    "my_string = \"Hello, World!\"\n",
    "\n",
    "print(my_string[-1]) \n",
    "print(my_string[-6])"
   ]
  },
  {
   "cell_type": "markdown",
   "metadata": {},
   "source": [
    "## *2.5 String slicing*\n",
    "\n",
    "Slicing in Python works similarily to indexing, except it allows you to access subsets of lists, arrays and strings. It again involves using square brackets `[ ]`, but with a colon `:` to specify the range of characters you want to retrieve. \n",
    "\n",
    "**Syntax:**\n",
    "\n",
    "```python\n",
    "my_string = \"Hello, World!\"\n",
    "substring = my_string[start_index:end_index]\n",
    "```\n",
    "\n",
    "Here, `start_index` represents the index of the first character you want to include in the substring (inclusive), and `end_index` represents the index of the character just after the last character you want to include (exclusive). If `start_index` is not specified, it defaults to 0, and if `end_index` is not specified, it defaults to including the end of the string.\n",
    "\n",
    "**Some examples:**"
   ]
  },
  {
   "cell_type": "code",
   "execution_count": null,
   "metadata": {},
   "outputs": [],
   "source": [
    "# Run me!\n",
    "\n",
    "my_string = \"Hello, World!\"\n",
    "\n",
    "# Extracting the first 5 characters\n",
    "print(my_string[0:5])\n",
    "\n",
    "# Extracting the first 5 characters\n",
    "# A blank to the left of the colon is interpreted as start_index = 0\n",
    "print(my_string[:5])\n",
    "\n",
    "# Extracting characters from index 7 (inclusive) to the end\n",
    "print(my_string[7:]) \n",
    "\n",
    "# Extracting characters from index 2 (inclusive) to index 9 (exclusive)\n",
    "print(my_string[2:9]) \n",
    "\n",
    "# Extracting the last 6 characters\n",
    "print(my_string[-6:]) \n"
   ]
  },
  {
   "cell_type": "markdown",
   "metadata": {},
   "source": [
    "See if you can make sense of each slice above. How was the negative index used?\n",
    "\n",
    "Learn more about string slicing at\n",
    "* https://www.digitalocean.com/community/tutorials/python-slice-string"
   ]
  },
  {
   "cell_type": "markdown",
   "metadata": {},
   "source": [
    "### Your turn #2\n",
    "\n",
    "In the code box below, assign the 3 and 4th characters of `my_string` to `my_slice`:"
   ]
  },
  {
   "cell_type": "code",
   "execution_count": null,
   "metadata": {},
   "outputs": [],
   "source": [
    "# Resolve the assertion error\n",
    "\n",
    "start_index =\n",
    "end_index = \n",
    "\n",
    "my_slice = my_string[start_index:end_index]\n",
    "print(my_slice)\n",
    "assert my_slice == \"ll\""
   ]
  },
  {
   "cell_type": "markdown",
   "metadata": {},
   "source": [
    "## *2.6 String slicing step size (advanced string slicing)*"
   ]
  },
  {
   "cell_type": "markdown",
   "metadata": {},
   "source": [
    "There is an additional optional value that you can add when string slicing, which allows you to change the step size in the slice from 1.\n",
    "\n",
    "**Syntax:**\n",
    "\n",
    "```python\n",
    "my_string = \"Hello, World!\"\n",
    "substring = my_string[ start_index : end_index : step_size ]\n",
    "```\n",
    "\n",
    "This allows you to specifiy the step size and make a substring that is not just a bunch of letters in adjacent sequence from the original.\n",
    "\n",
    "**Some examples:**"
   ]
  },
  {
   "cell_type": "code",
   "execution_count": null,
   "metadata": {},
   "outputs": [],
   "source": [
    "# Run me!\n",
    "\n",
    "my_string = \"Hello, World!\"\n",
    "\n",
    "# Extracting three characters starting from the start of the string, in steps of 2\n",
    "print(my_string[0:5:2])\n",
    "\n",
    "# The blank before the first colon works the same as before\n",
    "print(my_string[:5:2])\n",
    "\n",
    "# The blank after the first colon includes to the end of the string for the slice\n",
    "print(my_string[::2])"
   ]
  },
  {
   "cell_type": "code",
   "execution_count": null,
   "metadata": {},
   "outputs": [],
   "source": [
    "# Run me to see how negative step sizes work\n",
    "\n",
    "my_string = \"Hello, World!\"\n",
    "\n",
    "# You can use a step_size of -1 to slice backward through the string\n",
    "print(my_string[::-1])\n",
    "\n",
    "# For negative-step slicing, start_index = -1 starts at the right-end of the string\n",
    "print(my_string[-1::-1])"
   ]
  },
  {
   "cell_type": "markdown",
   "metadata": {},
   "source": [
    "### Your turn #3a\n",
    "\n",
    "In the code box below, use string slicing to resolve the assertion error"
   ]
  },
  {
   "cell_type": "code",
   "execution_count": null,
   "metadata": {},
   "outputs": [],
   "source": [
    "# Resolve the assertion error\n",
    "\n",
    "my_string = \"Hello, World!\"\n",
    "\n",
    "my_slice = my_string[::] # fix me\n",
    "\n",
    "print(my_slice)\n",
    "\n",
    "assert my_slice == \"oo\", 'my_slice is not equal to \"oo\"'\n",
    "print(\"\\nYour answer is correct\") # Passed all assert statements above"
   ]
  },
  {
   "cell_type": "markdown",
   "metadata": {},
   "source": [
    "### Your turn #3b\n",
    "\n",
    "In the code box below, use string slicing **with a negative step size** to resove the asserion error"
   ]
  },
  {
   "cell_type": "code",
   "execution_count": null,
   "metadata": {},
   "outputs": [],
   "source": [
    "# Resolve the assertion error\n",
    "\n",
    "my_string = \"Hello, World!\"\n",
    "\n",
    "my_slice = my_string[::] # fix me using a negative step size\n",
    "\n",
    "print(my_slice)\n",
    "\n",
    "assert my_slice == \"oo\", 'my_slice is not equal to \"oo\"'\n",
    "print(\"\\nYour answer is correct\") # Passed all assert statements above"
   ]
  },
  {
   "cell_type": "markdown",
   "metadata": {},
   "source": [
    "## *2.7 String formatting: string concatenation*\n",
    "\n",
    "String concatenation in Python refers to the process of combining multiple strings into a single string and will be our introduction to text formatting. This is most commonly done using the `+` operator, which allows you to join two or more strings together. For example:"
   ]
  },
  {
   "cell_type": "code",
   "execution_count": null,
   "metadata": {},
   "outputs": [],
   "source": [
    "# Run me\n",
    "\n",
    "first_name = \"Beyoncé\"\n",
    "last_name = \"Knowles\"\n",
    "full_name = first_name + \" \" + last_name\n",
    "print(full_name)\n",
    "print(first_name + \" \" + last_name)"
   ]
  },
  {
   "cell_type": "markdown",
   "metadata": {},
   "source": [
    "In this example, the variables `first_name` and `last_name` are concatenated with a space in between to create the `full_name` string. We can either make a new string `full_name` and then print it or just build this new string as the argument that we send to the print function.\n",
    "\n",
    "String concatenation is a fundamental operation used for building dynamic messages, creating formatted output, and processing textual data. Keep in mind that when concatenating strings with other data types (e.g., integers, floats, etc), you may need to convert them to strings first using functions like `str()`."
   ]
  },
  {
   "cell_type": "markdown",
   "metadata": {},
   "source": [
    "## *2.8 String formatting: f-strings, str.format() and the % operator*\n",
    "\n",
    "There are three different ways in Python to accomplish the same type of string formatting task. From the perspective of reading code it is good to be familiar with each, but from the perspective of writing your own code, feel free to pick the one that makes the most sense to you. These three methods are illustrated in the examples below:"
   ]
  },
  {
   "cell_type": "code",
   "execution_count": null,
   "metadata": {},
   "outputs": [],
   "source": [
    "# Run me!\n",
    "\n",
    "import numpy as np\n",
    "\n",
    "# Some variables to format into a string\n",
    "book_name = 'Street-Fighting Mathematics'\n",
    "estimate = 10\n",
    "\n",
    "# f-strings (short for formatted string literals)\n",
    "# - introduced in python 3.6\n",
    "print(f\"The book {book_name} teaches us that pi-squared is {estimate}, not {np.pi**2:.3f}\")\n",
    "\n",
    "# str.format()\n",
    "# - introduced in python 3\n",
    "print(\"The book {} teaches us that pi-squared is {}, not {:.3f}\".format(book_name, estimate, np.pi**2))\n",
    "\n",
    "# The % operator (aka old string formatting)\n",
    "# - since the dawn of python\n",
    "print(\"The book %s teaches us that pi-squared is %s, not %.3f\" % (book_name, estimate, np.pi**2))"
   ]
  },
  {
   "cell_type": "markdown",
   "metadata": {},
   "source": [
    "Notice that all three approaches to string formatting use the `.3f` to indicate that the floating point number represented by `np.pi**2` should be displayed to three decimal places. This is known as a placeholder. \n",
    "\n",
    "To gain a better understanding of placeholders and some of the syntax of the str.format() and % operator approaches, read through the following (stop when you get to \"Using dictionaries in \"format\")\n",
    "* https://python-course.eu/python-tutorial/formatted-output.php\n",
    "* As an additional resource with a lot of examples, you can also have a look at https://pyformat.info/\n",
    "\n",
    "There is a lot of depth to dig into with string formatting. For a quick summary of some of the formatting options, browse through the following resource about f-strings:\n",
    "* https://zetcode.com/python/fstring/\n",
    "\n"
   ]
  },
  {
   "cell_type": "markdown",
   "metadata": {},
   "source": [
    "### Example\n",
    "These string formatting approaches can be used when creating a string and are not restricted to only live inside of print statements."
   ]
  },
  {
   "cell_type": "code",
   "execution_count": null,
   "metadata": {},
   "outputs": [],
   "source": [
    "# Run me! (using f-string to create a string)\n",
    "\n",
    "my_string = f\"The book {book_name} teaches us that pi-squared is {estimate}, not {np.pi**2:.2f}\"\n",
    "print(my_string)"
   ]
  },
  {
   "cell_type": "markdown",
   "metadata": {},
   "source": [
    "### Your turn #4: string formatting\n",
    "\n",
    "Using the variables `huge` and `tiny` defined below, use string formatting to create a string `my_string` that will resolve the assertion error."
   ]
  },
  {
   "cell_type": "code",
   "execution_count": null,
   "metadata": {},
   "outputs": [],
   "source": [
    "# Resolve the assertion error\n",
    "\n",
    "huge = \"one\"\n",
    "tiny = np.pi\n",
    "my_string = \"\"\n",
    "\n",
    "print(my_string)\n",
    "\n",
    "assert my_string == \"3.14 is larger than one\""
   ]
  },
  {
   "cell_type": "markdown",
   "metadata": {},
   "source": [
    "## *2.9 If Statements*\n",
    "\n",
    "In Python, an `if` statement is used to check if a *condition* is true, and then to subsequently run specific code only if that condition is true. Otherwise it will skip the code associated with that `if` statement.  Note that the `if` line must end in a colon or else there will be a syntax error.\n",
    "\n",
    "The generic syntax is as follows:\n",
    "\n",
    "```python\n",
    "if condition:\n",
    "    Code line 1 # Code executed if the condition is True\n",
    "    Code line 2 # More code executed if the condition is True\n",
    "Code line 3 # Code executed whether or not the condidtion is true\n",
    "```\n",
    "\n",
    "Notice that indentation plays an important role here regarding which lines of code will be run by the True condition. Lines of code sharing the same level of indentation represent a code block.\n",
    "\n",
    "Run the examples below to see how the `if` statement works and the role played by indention in defining which lines of code are run"
   ]
  },
  {
   "cell_type": "code",
   "execution_count": null,
   "metadata": {},
   "outputs": [],
   "source": [
    "# Run me!\n",
    "\n",
    "x = 1\n",
    "y = 10\n",
    "z = 100\n",
    "\n",
    "print(\"checking z > x\")\n",
    "\n",
    "if x > z:\n",
    "    print(x, \"is greater than\", z)\n",
    "\n",
    "print(\"checking y > x\")\n",
    "\n",
    "if y > x:\n",
    "    print(y, \"is greater than\", x)"
   ]
  },
  {
   "cell_type": "code",
   "execution_count": null,
   "metadata": {},
   "outputs": [],
   "source": [
    "# Run me too and notice the impact of the change in indentation\n",
    "\n",
    "print(\"checking z > x\")\n",
    "\n",
    "if x > z:\n",
    "    print(x, \"is greater than\", z)\n",
    "\n",
    "    print(\"checking y > x\") # Note the change in indentiation\n",
    "\n",
    "if y > x:\n",
    "    print(y, \"is greater than\", x)"
   ]
  },
  {
   "cell_type": "markdown",
   "metadata": {},
   "source": [
    "## *2.10 if-else statements (alternate execution)*\n",
    "\n",
    "A second form of the if statement is “alternative execution”, in which there are two possibilities and the condition determines which one runs. The syntax looks like this (example and partial text from https://greenteapress.com/thinkpython2/html/thinkpython2006.html):\n",
    "\n",
    "```python\n",
    "# Assume x is an integer\n",
    "\n",
    "if x % 2 == 0:\n",
    "    print('x is even')\n",
    "else:\n",
    "    print('x is odd')\n",
    "```\n",
    "\n",
    "If the remainder when x is divided by 2 is 0, then we know that x is even, and the program displays an appropriate message. If the condition is false, the second set of statements runs. Since the condition must be true or false, exactly one of the alternatives will run. The alternatives are called branches, because they are branches in the flow of execution."
   ]
  },
  {
   "cell_type": "markdown",
   "metadata": {},
   "source": [
    "## *2.11 if-elif-else statatements (chained conditionals)*\n",
    "\n",
    "We introduce `elif` (\"else if\"), which will only execute if all preceeding `if` and `elif` conditions are False. The final `else` block is executed if none of the preceding conditions are True."
   ]
  },
  {
   "cell_type": "code",
   "execution_count": null,
   "metadata": {},
   "outputs": [],
   "source": [
    "# Try out different values of x below\n",
    "# - Is it possible to trigger the 'else' condition?\n",
    "\n",
    "x = 3\n",
    "\n",
    "if x > 0:\n",
    "    print (\"x is greater than 0\")\n",
    "elif x < 0:\n",
    "    print(\"x is less than zero\")\n",
    "elif x == 0:\n",
    "    print(\"x is 0\")\n",
    "else:\n",
    "    print(\"x is something else?\")"
   ]
  },
  {
   "cell_type": "markdown",
   "metadata": {},
   "source": [
    "## *2.12 Nested conditionals*\n",
    "\n",
    "Section 5.7 of https://greenteapress.com/thinkpython2/html/thinkpython2006.html provides a really good overview of nested conditionals, reproduced below. It may also be worthwhile to read Sections 5.2-5.6 as a review of the topics above.\n",
    "\n",
    "One conditional can also be nested within another. We can write the same three condition statement using an if-elif-else structure or using nested conditionals:\n",
    "\n",
    "```python\n",
    "# if-elif-else structure\n",
    "if x == y:\n",
    "    print('x and y are equal')\n",
    "elif x < y:\n",
    "    print('x is less than y')\n",
    "else:\n",
    "    print('x is greater than y')\n",
    "```\n",
    "\n",
    "```python\n",
    "# nested conditionals\n",
    "if x == y:\n",
    "    print('x and y are equal')\n",
    "else:\n",
    "    if x < y:\n",
    "        print('x is less than y')\n",
    "    else:\n",
    "        print('x is greater than y')\n",
    "```"
   ]
  },
  {
   "cell_type": "markdown",
   "metadata": {},
   "source": [
    "For the nested conditionals example, the outer conditional contains two branches. The first branch contains a simple statement. The second branch contains another if statement, which has two branches of its own. Those two branches are both simple statements, although they could have been conditional statements as well.\n",
    "\n",
    "Although the indentation of the statements makes the structure apparent, nested conditionals become difficult to read very quickly. **It is a good idea to avoid nested conditionals when you can.**\n",
    "\n",
    "Logical operators often provide a way to simplify nested conditional statements. For example, we can rewrite the following code using a single conditional:\n",
    "\n",
    "```python\n",
    "if 0 < x:\n",
    "    if x < 10:\n",
    "        print('x is a positive single-digit number.')\n",
    "```\n",
    "      \n",
    "The print statement runs only if we make it past both conditionals, so we can get the same effect with the `and` operator:\n",
    "\n",
    "```python\n",
    "if 0 < x and x < 10:\n",
    "    print('x is a positive single-digit number.')\n",
    "```    \n",
    "    \n",
    "For this kind of condition, Python provides a more concise option:\n",
    "\n",
    "```python\n",
    "if 0 < x < 10:\n",
    "    print('x is a positive single-digit number.')\n",
    "```\n",
    "    \n",
    "(This section was reproduced from https://greenteapress.com/thinkpython2/html/thinkpython2006.html)"
   ]
  },
  {
   "cell_type": "markdown",
   "metadata": {},
   "source": [
    "## *2.13 More complicated logic statements as conditions*\n",
    "\n",
    "We can combine multiople logic statements to create a more complicated logic statement to check if our `condition` is `True` or `False`.\n",
    "Let's use some code examples to look at the most common logic modifying and joining statements of `and`, `or` and `not`:"
   ]
  },
  {
   "cell_type": "code",
   "execution_count": null,
   "metadata": {},
   "outputs": [],
   "source": [
    "# Run me!\n",
    "conditionA = True\n",
    "conditionB = False\n",
    "\n",
    "if conditionA and conditionB:\n",
    "    # This code will run only if conditionA==True and conditionB=True\n",
    "    print(\"The 'and' condition is True\")\n",
    "else:\n",
    "    print(\"The 'and' condition is False\")"
   ]
  },
  {
   "cell_type": "code",
   "execution_count": null,
   "metadata": {},
   "outputs": [],
   "source": [
    "# Run me!\n",
    "\n",
    "if conditionA or conditionB:\n",
    "    # This code will run if either conditionA==True or conditionB=True\n",
    "    print(\"The 'or' condition is True\")\n",
    "else:\n",
    "    print(\"The 'or' condition is False\")"
   ]
  },
  {
   "cell_type": "code",
   "execution_count": null,
   "metadata": {},
   "outputs": [],
   "source": [
    "# Run me\n",
    "\n",
    "# 'not' flips the boolean to the opposite value\n",
    "if not conditionB:\n",
    "    print(\"'not condition B' is True\")\n",
    "else:\n",
    "    print(\"'not condition B' is False\")\n",
    "\n",
    "if not conditionA:\n",
    "    print(\"'not condition A' is True\")\n",
    "else:\n",
    "    print(\"'not condition A' is False\")"
   ]
  },
  {
   "cell_type": "markdown",
   "metadata": {},
   "source": [
    "### Your turn #5\n",
    "\n",
    "Without adding or removing any of the variables, fix the following `if` statements so that the \"I should be printed\" statement is printed and the \"I should not be printed\" statements are not printed"
   ]
  },
  {
   "cell_type": "code",
   "execution_count": null,
   "metadata": {},
   "outputs": [],
   "source": [
    "# Fix these 'if' statements\n",
    "\n",
    "num1 = 10\n",
    "num2 = 5\n",
    "bool1 = True\n",
    "bool2 = False\n",
    "\n",
    "if num1 < num2:\n",
    "    print(\"3.1a: I should be printed\")\n",
    "\n",
    "if (num1 > num2) and not (num1 == 5):\n",
    "    print(\"3.1b: I should not be printed\")\n",
    "\n",
    "if bool1 or bool2:\n",
    "    print(\"3.1c: I should not be printed\")"
   ]
  },
  {
   "cell_type": "markdown",
   "metadata": {},
   "source": [
    "## *2.14 Further optional reading*\n",
    "\n",
    "* Skim sections 4.1 to 4.6 of https://docs.python.org/3/tutorial/controlflow.html. These sections provide a nice summary of the conditional statements that can be used for control flow in Python. Take these sections as reference materials, they cover a lot of ground: much of which we've seen, but there are a few things there that are more advanced. \n",
    "\n",
    "http://freecomputerbooks.com/Computational-Physics-with-Python-by-Eric-Ayars.html\n",
    "* The topics from this assignment are also discussed in this book. On that website find the 'Read and Download Links' section. Click on 'Computational Physics with Python (Eric Ayars)'. Again, material in that book is presented in a very different order from our approach."
   ]
  },
  {
   "cell_type": "markdown",
   "metadata": {},
   "source": [
    "## *Submitting this preclass preparation assignment*\n",
    "Before submitting your work, restart + rerun your notebook to make sure that everything runs correctly and without error. We will only check that the Self-assessment questions at the start of the assignment have run correctly. After you've executed and checked your notebook, choose: `File => Save_and_Export_Notebook_As => HTML`. This will download an HTML version of your notebook to your computer which you can upload to Canvas"
   ]
  },
  {
   "cell_type": "code",
   "execution_count": null,
   "metadata": {},
   "outputs": [],
   "source": []
  }
 ],
 "metadata": {
  "kernelspec": {
   "display_name": "Python 3",
   "language": "python",
   "name": "python3"
  },
  "language_info": {
   "codemirror_mode": {
    "name": "ipython",
    "version": 3
   },
   "file_extension": ".py",
   "mimetype": "text/x-python",
   "name": "python",
   "nbconvert_exporter": "python",
   "pygments_lexer": "ipython3",
   "version": "3.7.6"
  },
  "widgets": {
   "application/vnd.jupyter.widget-state+json": {
    "state": {},
    "version_major": 2,
    "version_minor": 0
   }
  }
 },
 "nbformat": 4,
 "nbformat_minor": 4
}
